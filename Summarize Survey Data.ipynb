{
 "cells": [
  {
   "cell_type": "code",
   "execution_count": null,
   "metadata": {},
   "outputs": [],
   "source": [
    "## Title: Summarize Survey Data\n",
    "## Author: Anna Zink\n",
    "## Date: October 30, 2023\n",
    "## Updated; February 4, 2025; re-ran for v8, removed overall health survey\n",
    "## Description: Summarize the survey data from the basic, overall health and family history health survey. \n",
    "## Notes: only queries this data for people who answered the access survey "
   ]
  },
  {
   "cell_type": "markdown",
   "metadata": {},
   "source": [
    "# set up "
   ]
  },
  {
   "cell_type": "code",
   "execution_count": null,
   "metadata": {},
   "outputs": [],
   "source": [
    "library(plyr)\n",
    "library(tidyverse)\n",
    "library(bigrquery)\n",
    "library(janitor)\n",
    "library(data.table)"
   ]
  },
  {
   "cell_type": "code",
   "execution_count": null,
   "metadata": {},
   "outputs": [],
   "source": [
    "BILLING_PROJECT_ID <- Sys.getenv('GOOGLE_PROJECT')\n",
    "CDR <- Sys.getenv('WORKSPACE_CDR')\n",
    "MY_BUCKET <- Sys.getenv('WORKSPACE_BUCKET')"
   ]
  },
  {
   "cell_type": "code",
   "execution_count": null,
   "metadata": {},
   "outputs": [],
   "source": [
    "load_data<-function(file, folder){\n",
    "    my_bucket <- Sys.getenv('WORKSPACE_BUCKET')\n",
    "    system(paste0(\"gsutil cp \", my_bucket, folder, file, \" .\"), intern=T)\n",
    "    dsn <- read_csv(file, show_col_types = FALSE)\n",
    "    return(dsn)\n",
    "}\n",
    "\n",
    "# Replace df with THE NAME OF YOUR DATAFRAME\n",
    "# folder = \"/ehr/\" \n",
    "write_csv<-function(df, fn, folder) {\n",
    "   my_dataframe <- df\n",
    "   destination_filename <- fn\n",
    "   write_excel_csv(my_dataframe, destination_filename)\n",
    "   my_bucket <- Sys.getenv('WORKSPACE_BUCKET')\n",
    "   system(paste0(\"gsutil cp ./\", destination_filename, \" \", my_bucket, folder), intern=T)\n",
    "}"
   ]
  },
  {
   "cell_type": "markdown",
   "metadata": {
    "heading_collapsed": true
   },
   "source": [
    "## Read in survey data"
   ]
  },
  {
   "cell_type": "code",
   "execution_count": null,
   "metadata": {
    "hidden": true
   },
   "outputs": [],
   "source": [
    "# This query represents dataset \"BASICS & HEALTH HISTORY\" for domain \"survey\" and was generated for All of Us Controlled Tier Dataset v8\n",
    "survey_sql <- paste(\"\n",
    "    SELECT\n",
    "        answer.person_id,\n",
    "        answer.survey_datetime,\n",
    "        answer.survey,\n",
    "        answer.question_concept_id,\n",
    "        answer.question,\n",
    "        answer.answer_concept_id,\n",
    "        answer.answer,\n",
    "        answer.survey_version_concept_id,\n",
    "        answer.survey_version_name  \n",
    "    FROM\n",
    "        `ds_survey` answer   \n",
    "    WHERE\n",
    "        (\n",
    "            question_concept_id IN (SELECT\n",
    "                DISTINCT concept_id                         \n",
    "            FROM\n",
    "                `cb_criteria` c                         \n",
    "            JOIN\n",
    "                (SELECT\n",
    "                    CAST(cr.id as string) AS id                               \n",
    "                FROM\n",
    "                    `cb_criteria` cr                               \n",
    "                WHERE\n",
    "                    concept_id IN (1586134, 1740639)                               \n",
    "                    AND domain_id = 'SURVEY') a \n",
    "                    ON (c.path like CONCAT('%', a.id, '.%'))                         \n",
    "            WHERE\n",
    "                domain_id = 'SURVEY'                         \n",
    "                AND type = 'PPI'                         \n",
    "                AND subtype = 'QUESTION')\n",
    "        )\", sep=\"\")\n",
    "\n",
    "# Formulate a Cloud Storage destination path for the data exported from BigQuery.\n",
    "# NOTE: By default data exported multiple times on the same day will overwrite older copies.\n",
    "#       But data exported on a different days will write to a new location so that historical\n",
    "#       copies can be kept as the dataset definition is changed.\n",
    "survey_path <- file.path(\n",
    "  Sys.getenv(\"WORKSPACE_BUCKET\"),\n",
    "  \"bq_exports\",\n",
    "  Sys.getenv(\"OWNER_EMAIL\"),\n",
    " # strftime(lubridate::now(), \"%Y%m%d\"),  # Comment out this line if you want the export to always overwrite.\n",
    "  \"survey_\",\n",
    "  \"survey_*.csv\")\n",
    "message(str_glue('The data will be written to {survey_path}. Use this path when reading ',\n",
    "                 'the data into your notebooks in the future.'))\n",
    "\n",
    "# Perform the query and export the dataset to Cloud Storage as CSV files.\n",
    "# NOTE: You only need to run `bq_table_save` once. After that, you can\n",
    "#       just read data from the CSVs in Cloud Storage.\n",
    "#bq_table_save(\n",
    "#  bq_dataset_query(Sys.getenv(\"WORKSPACE_CDR\"), survey_sql, billing = Sys.getenv(\"GOOGLE_PROJECT\")),\n",
    "#  survey_path,\n",
    "#  destination_format = \"CSV\")\n",
    "\n",
    "\n",
    "# Read the data directly from Cloud Storage into memory.\n",
    "# NOTE: Alternatively you can `gsutil -m cp {survey_36706926_path}` to copy these files\n",
    "#       to the Jupyter disk.\n",
    "read_bq_export_from_workspace_bucket <- function(export_path) {\n",
    "  col_types <- cols(survey = col_character(), question = col_character(), answer = col_character(), survey_version_name = col_character())\n",
    "  bind_rows(\n",
    "    map(system2('gsutil', args = c('ls', export_path), stdout = TRUE, stderr = TRUE),\n",
    "        function(csv) {\n",
    "          message(str_glue('Loading {csv}.'))\n",
    "          chunk <- read_csv(pipe(str_glue('gsutil cat {csv}')), col_types = col_types, show_col_types = FALSE)\n",
    "          if (is.null(col_types)) {\n",
    "            col_types <- spec(chunk)\n",
    "          }\n",
    "          chunk\n",
    "        }))\n",
    "}\n",
    "surveydata <- read_bq_export_from_workspace_bucket(survey_path)"
   ]
  },
  {
   "cell_type": "code",
   "execution_count": null,
   "metadata": {
    "hidden": true
   },
   "outputs": [],
   "source": [
    "## Summarize by person_id \n",
    "questions<-ddply(surveydata, .(survey, question_concept_id, question), summarize, n=length(survey_version_concept_id))"
   ]
  },
  {
   "cell_type": "code",
   "execution_count": null,
   "metadata": {
    "hidden": true
   },
   "outputs": [],
   "source": [
    "questions<-questions[order(questions$n),]"
   ]
  },
  {
   "cell_type": "code",
   "execution_count": null,
   "metadata": {
    "hidden": true
   },
   "outputs": [],
   "source": [
    "table(questions$survey)"
   ]
  },
  {
   "cell_type": "code",
   "execution_count": null,
   "metadata": {
    "hidden": true
   },
   "outputs": [],
   "source": [
    "my_bucket <- Sys.getenv('WORKSPACE_BUCKET')\n",
    "system(paste0(\"gsutil ls \", my_bucket, \"/survey/*.csv\"), intern=T)"
   ]
  },
  {
   "cell_type": "markdown",
   "metadata": {
    "heading_collapsed": true
   },
   "source": [
    "# Basics survey"
   ]
  },
  {
   "cell_type": "code",
   "execution_count": null,
   "metadata": {
    "hidden": true
   },
   "outputs": [],
   "source": [
    "basics<-questions[questions$survey == \"The Basics\", ]\n",
    "dim(basics)"
   ]
  },
  {
   "cell_type": "code",
   "execution_count": null,
   "metadata": {
    "hidden": true
   },
   "outputs": [],
   "source": [
    "basics"
   ]
  },
  {
   "cell_type": "code",
   "execution_count": null,
   "metadata": {
    "hidden": true
   },
   "outputs": [],
   "source": [
    "# Basics keep (starts with): Disability*, *Insurance*, Income*, Marital*, Eduction*, Employment*\n",
    "# subset to q\n",
    "basics$insurance_flag<-ifelse(grepl(\"Insurance\", basics$question), 1, 0)\n",
    "basics$income_flag<-ifelse(grepl(\"Income\", basics$question), 1, 0)\n",
    "basics$education_flag<-ifelse(grepl(\"Education\", basics$question), 1, 0)\n",
    "basics$employment_flag<-ifelse(grepl(\"Employment\", basics$question), 1, 0)"
   ]
  },
  {
   "cell_type": "code",
   "execution_count": null,
   "metadata": {
    "hidden": true
   },
   "outputs": [],
   "source": [
    "basics$flag_sum<-basics$insurance_flag+basics$income_flag+basics$education_flag+basics$employment_flag"
   ]
  },
  {
   "cell_type": "code",
   "execution_count": null,
   "metadata": {
    "hidden": true
   },
   "outputs": [],
   "source": [
    "basics_sub<-basics[basics$flag_sum>0,]\n",
    "dim(basics_sub)"
   ]
  },
  {
   "cell_type": "code",
   "execution_count": null,
   "metadata": {
    "hidden": true
   },
   "outputs": [],
   "source": [
    "basics_qs<-basics_sub[,c('n','question_concept_id')]"
   ]
  },
  {
   "cell_type": "code",
   "execution_count": null,
   "metadata": {
    "hidden": true
   },
   "outputs": [],
   "source": [
    "# SUBSET TO QUESTIONS OF INTEREST\n",
    "basic_df<-merge(surveydata, basics_qs, by='question_concept_id')"
   ]
  },
  {
   "cell_type": "code",
   "execution_count": null,
   "metadata": {
    "hidden": true
   },
   "outputs": [],
   "source": [
    "dim(basic_df)"
   ]
  },
  {
   "cell_type": "code",
   "execution_count": null,
   "metadata": {
    "hidden": true
   },
   "outputs": [],
   "source": [
    "keepvars<-c('person_id','survey_datetime','question_concept_id', 'question','answer')\n",
    "basic_df<-basic_df[,keepvars]\n",
    "head(basic_df)"
   ]
  },
  {
   "cell_type": "code",
   "execution_count": null,
   "metadata": {
    "hidden": true
   },
   "outputs": [],
   "source": [
    "table(basic_df$question)"
   ]
  },
  {
   "cell_type": "code",
   "execution_count": null,
   "metadata": {
    "hidden": true
   },
   "outputs": [],
   "source": [
    "print_ans<-function(q) {\n",
    "    tmp<-basic_df[basic_df$question == q,]\n",
    "    tbl<-table(tmp$answer, useNA=\"always\")\n",
    "    print(tbl)\n",
    "    #print(prop.table(tbl))\n",
    "}"
   ]
  },
  {
   "cell_type": "code",
   "execution_count": null,
   "metadata": {
    "hidden": true
   },
   "outputs": [],
   "source": [
    "print_ans('Education Level: Highest Grade')"
   ]
  },
  {
   "cell_type": "code",
   "execution_count": null,
   "metadata": {
    "hidden": true
   },
   "outputs": [],
   "source": [
    "# text fields - insurance, annual_inc, marital\n",
    "subset_byperson<-function(q, var) {\n",
    "    tmp<-basic_df[basic_df$question == q,]\n",
    "    datevar<-paste0(\"datetime_\", var)\n",
    "    tmp[,var]<-tmp$answer\n",
    "    tmp[,datevar]<-tmp$survey_datetime\n",
    "    keepvars<-c('person_id',datevar,var, 'counter')\n",
    "    tmp<-tmp %>% group_by(person_id) %>% mutate(counter=row_number(person_id))\n",
    "    return(tmp[,keepvars])\n",
    "}\n",
    "\n",
    "ins_type<-subset_byperson(\"Health Insurance: Insurance Type Update\", \"ins_type\")\n",
    "ins<-subset_byperson(\"Insurance: Health Insurance\", \"ins\")\n",
    "inc<-subset_byperson(\"Income: Annual Income\", \"inc\")\n",
    "edu<-subset_byperson(\"Education Level: Highest Grade\",\"edu\")\n",
    "work<-subset_byperson(\"Employment: Employment Status\",\"work\")"
   ]
  },
  {
   "cell_type": "markdown",
   "metadata": {
    "hidden": true
   },
   "source": [
    "#### Create insurance type data by person"
   ]
  },
  {
   "cell_type": "code",
   "execution_count": null,
   "metadata": {
    "hidden": true
   },
   "outputs": [],
   "source": [
    "# clean ins_type\n",
    "ins_type$ins_type_updt<-gsub(\"Insurance Type Update: \", \"\", ins_type$ins_type)"
   ]
  },
  {
   "cell_type": "code",
   "execution_count": null,
   "metadata": {
    "hidden": true
   },
   "outputs": [],
   "source": [
    "table(ins_type$ins_type_updt)"
   ]
  },
  {
   "cell_type": "code",
   "execution_count": null,
   "metadata": {
    "hidden": true
   },
   "outputs": [],
   "source": [
    "head(ins_type)"
   ]
  },
  {
   "cell_type": "code",
   "execution_count": null,
   "metadata": {
    "hidden": true
   },
   "outputs": [],
   "source": [
    "ins_type$value<-1\n",
    "ins_type_wide<- ins_type %>% \n",
    "    select(person_id, datetime_ins_type, ins_type_updt, value) %>%\n",
    "    pivot_wider(names_from = \"ins_type_updt\", names_prefix = \"ins_\", values_from = \"value\")"
   ]
  },
  {
   "cell_type": "code",
   "execution_count": null,
   "metadata": {
    "hidden": true
   },
   "outputs": [],
   "source": [
    "ins_type_wide[is.na(ins_type_wide)]<-0"
   ]
  },
  {
   "cell_type": "code",
   "execution_count": null,
   "metadata": {
    "hidden": true
   },
   "outputs": [],
   "source": [
    "head(ins_type_wide)"
   ]
  },
  {
   "cell_type": "code",
   "execution_count": null,
   "metadata": {
    "hidden": true
   },
   "outputs": [],
   "source": [
    "write_csv(ins_type_wide, 'ins_type_byperson.csv', \"/data/\")"
   ]
  },
  {
   "cell_type": "markdown",
   "metadata": {
    "hidden": true
   },
   "source": [
    "#### Create insurance (any) by person"
   ]
  },
  {
   "cell_type": "code",
   "execution_count": null,
   "metadata": {
    "hidden": true
   },
   "outputs": [],
   "source": [
    "table(ins$ins)"
   ]
  },
  {
   "cell_type": "code",
   "execution_count": null,
   "metadata": {
    "hidden": true
   },
   "outputs": [],
   "source": [
    "# clean ins_type\n",
    "ins$ins_updt<-gsub(\"Health Insurance: \", \"\", ins$ins)\n",
    "ins$ins_updt<-gsub(\"PMI: \", \"\", ins$ins_updt)"
   ]
  },
  {
   "cell_type": "code",
   "execution_count": null,
   "metadata": {
    "hidden": true
   },
   "outputs": [],
   "source": [
    "table(ins$ins_updt)"
   ]
  },
  {
   "cell_type": "code",
   "execution_count": null,
   "metadata": {
    "hidden": true
   },
   "outputs": [],
   "source": [
    "ins$ins_updt<-ifelse(ins$ins_updt %in% c('Prefer Not To Answer','Dont Know','Skip'), 'skip_unknown', ins$ins_updt)"
   ]
  },
  {
   "cell_type": "code",
   "execution_count": null,
   "metadata": {
    "hidden": true
   },
   "outputs": [],
   "source": [
    "table(ins$ins_updt)"
   ]
  },
  {
   "cell_type": "code",
   "execution_count": null,
   "metadata": {
    "hidden": true
   },
   "outputs": [],
   "source": [
    "head(ins)"
   ]
  },
  {
   "cell_type": "code",
   "execution_count": null,
   "metadata": {
    "hidden": true
   },
   "outputs": [],
   "source": [
    "ins$value<-1\n",
    "ins_wide<- ins %>% \n",
    "    select(person_id, datetime_ins, ins_updt, value) %>%\n",
    "    pivot_wider(names_from = \"ins_updt\", names_prefix = \"anyins_\", values_from = \"value\")\n",
    "ins_wide[is.na(ins_wide)]<-0"
   ]
  },
  {
   "cell_type": "code",
   "execution_count": null,
   "metadata": {
    "hidden": true
   },
   "outputs": [],
   "source": [
    "head(ins_wide)"
   ]
  },
  {
   "cell_type": "code",
   "execution_count": null,
   "metadata": {
    "hidden": true
   },
   "outputs": [],
   "source": [
    "write_csv(ins_wide, 'ins_any_byperson.csv', \"/data/\")"
   ]
  },
  {
   "cell_type": "markdown",
   "metadata": {
    "hidden": true
   },
   "source": [
    "#### Create income dataset"
   ]
  },
  {
   "cell_type": "code",
   "execution_count": null,
   "metadata": {
    "hidden": true
   },
   "outputs": [],
   "source": [
    "head(inc)"
   ]
  },
  {
   "cell_type": "code",
   "execution_count": null,
   "metadata": {
    "hidden": true
   },
   "outputs": [],
   "source": [
    "table(inc$inc)"
   ]
  },
  {
   "cell_type": "code",
   "execution_count": null,
   "metadata": {
    "hidden": true
   },
   "outputs": [],
   "source": [
    "# clean ins_type\n",
    "inc$inc_updt<-gsub(\"Annual Income: \", \"\", inc$inc)\n",
    "inc$inc_updt<-gsub(\"PMI: \", \"\", inc$inc_updt)\n",
    "table(inc$inc_updt)"
   ]
  },
  {
   "cell_type": "code",
   "execution_count": null,
   "metadata": {
    "hidden": true
   },
   "outputs": [],
   "source": [
    "inc$inc_updt<-ifelse(inc$inc_updt %in% c('Prefer Not To Answer','Skip'), 'skip_unknown', inc$inc_updt)\n",
    "table(inc$inc_updt)"
   ]
  },
  {
   "cell_type": "code",
   "execution_count": null,
   "metadata": {
    "hidden": true,
    "scrolled": true
   },
   "outputs": [],
   "source": [
    "inc$value<-1\n",
    "inc_wide<- inc %>% \n",
    "    select(person_id, datetime_inc, inc_updt, value) %>%\n",
    "    pivot_wider(names_from = \"inc_updt\", names_prefix = \"inc_\", values_from = \"value\")\n",
    "inc_wide[is.na(inc_wide)]<-0\n",
    "head(inc_wide)"
   ]
  },
  {
   "cell_type": "code",
   "execution_count": null,
   "metadata": {
    "hidden": true
   },
   "outputs": [],
   "source": [
    "write_csv(inc_wide, 'inc_byperson.csv', \"/data/\")"
   ]
  },
  {
   "cell_type": "markdown",
   "metadata": {
    "hidden": true
   },
   "source": [
    "#### Create education dataset"
   ]
  },
  {
   "cell_type": "code",
   "execution_count": null,
   "metadata": {
    "hidden": true
   },
   "outputs": [],
   "source": [
    "table(edu$edu)"
   ]
  },
  {
   "cell_type": "code",
   "execution_count": null,
   "metadata": {
    "hidden": true
   },
   "outputs": [],
   "source": [
    "# clean \n",
    "edu$edu_updt<-gsub(\"Highest Grade: \", \"\", edu$edu)\n",
    "edu$edu_updt<-gsub(\"PMI: \", \"\", edu$edu_updt)\n",
    "edu$edu_updt<-ifelse(edu$edu_updt %in% c('Prefer Not To Answer','Skip'), 'skip_unknown', edu$edu_updt)\n",
    "table(edu$edu_updt)"
   ]
  },
  {
   "cell_type": "code",
   "execution_count": null,
   "metadata": {
    "hidden": true
   },
   "outputs": [],
   "source": [
    "edu$value<-1\n",
    "data_wide<- edu %>% \n",
    "    select(person_id, datetime_edu, edu_updt, value) %>%\n",
    "    pivot_wider(names_from = \"edu_updt\", names_prefix = \"edu_\", values_from = \"value\")\n",
    "data_wide[is.na(data_wide)]<-0\n",
    "head(data_wide)"
   ]
  },
  {
   "cell_type": "code",
   "execution_count": null,
   "metadata": {
    "hidden": true
   },
   "outputs": [],
   "source": [
    "write_csv(data_wide, 'edu_byperson.csv', \"/data/\")"
   ]
  },
  {
   "cell_type": "markdown",
   "metadata": {
    "hidden": true
   },
   "source": [
    "#### Create work dataset"
   ]
  },
  {
   "cell_type": "code",
   "execution_count": null,
   "metadata": {
    "hidden": true
   },
   "outputs": [],
   "source": [
    "table(work$work)"
   ]
  },
  {
   "cell_type": "code",
   "execution_count": null,
   "metadata": {
    "hidden": true
   },
   "outputs": [],
   "source": [
    "# clean \n",
    "work$work_updt<-gsub(\"Employment Status: \", \"\", work$work)\n",
    "work$work_updt<-gsub(\"PMI: \", \"\", work$work_updt)\n",
    "work$work_updt<-ifelse(work$work_updt %in% c('Prefer Not To Answer','Skip'), 'skip_unknown', work$work_updt)\n",
    "table(work$work_updt)"
   ]
  },
  {
   "cell_type": "code",
   "execution_count": null,
   "metadata": {
    "hidden": true
   },
   "outputs": [],
   "source": [
    "work$value<-1\n",
    "data_wide<- work %>% \n",
    "    select(person_id, datetime_work, work_updt, value) %>%\n",
    "    pivot_wider(names_from = \"work_updt\", names_prefix = \"emp_\", values_from = \"value\")\n",
    "data_wide[is.na(data_wide)]<-0\n",
    "head(data_wide)"
   ]
  },
  {
   "cell_type": "code",
   "execution_count": null,
   "metadata": {
    "hidden": true
   },
   "outputs": [],
   "source": [
    "write_csv(data_wide, 'employment_byperson.csv', \"/data/\")"
   ]
  },
  {
   "cell_type": "markdown",
   "metadata": {
    "heading_collapsed": true,
    "hidden": true
   },
   "source": [
    "## Basics survey per person \n",
    "Merge in all datasets into one basics survey including ins_type, ins_any, inc, marital, edu, and work information"
   ]
  },
  {
   "cell_type": "code",
   "execution_count": null,
   "metadata": {
    "hidden": true
   },
   "outputs": [],
   "source": [
    "head(basic_df)"
   ]
  },
  {
   "cell_type": "code",
   "execution_count": null,
   "metadata": {
    "hidden": true
   },
   "outputs": [],
   "source": [
    "# create master list of all beneficiaries \n",
    "personids<-basic_df %>% group_by(person_id) %>% summarize(n=n())"
   ]
  },
  {
   "cell_type": "code",
   "execution_count": null,
   "metadata": {
    "hidden": true
   },
   "outputs": [],
   "source": [
    "# read in the other files \n",
    "name_of_file_in_bucket <- 'employment_byperson.csv'\n",
    "system(paste0(\"gsutil cp \", my_bucket, \"/data/\", name_of_file_in_bucket, \" .\"), intern=T)\n",
    "work <- read_csv(name_of_file_in_bucket)\n",
    "\n",
    "name_of_file_in_bucket <- 'inc_byperson.csv'\n",
    "system(paste0(\"gsutil cp \", my_bucket, \"/data/\", name_of_file_in_bucket, \" .\"), intern=T)\n",
    "inc <- read_csv(name_of_file_in_bucket)\n",
    "\n",
    "name_of_file_in_bucket <- 'ins_any_byperson.csv'\n",
    "system(paste0(\"gsutil cp \", my_bucket, \"/data/\", name_of_file_in_bucket, \" .\"), intern=T)\n",
    "ins_any <- read_csv(name_of_file_in_bucket)\n",
    "\n",
    "name_of_file_in_bucket <- 'ins_type_byperson.csv'\n",
    "system(paste0(\"gsutil cp \", my_bucket, \"/data/\", name_of_file_in_bucket, \" .\"), intern=T)\n",
    "ins_type <- read_csv(name_of_file_in_bucket)"
   ]
  },
  {
   "cell_type": "code",
   "execution_count": null,
   "metadata": {
    "hidden": true
   },
   "outputs": [],
   "source": [
    "all<-merge(personids, edu, by='person_id', all.x=TRUE)\n",
    "all<-merge(all, work, by='person_id', all.x=TRUE)\n",
    "all<-merge(all, inc, by='person_id', all.x=TRUE)\n",
    "all<-merge(all, ins_any, by='person_id', all.x=TRUE)\n",
    "all<-merge(all, ins_type, by='person_id', all.x=TRUE)"
   ]
  },
  {
   "cell_type": "code",
   "execution_count": null,
   "metadata": {
    "hidden": true
   },
   "outputs": [],
   "source": [
    "write_csv(all, 'basics_survey_byperson.csv', \"/data/\")"
   ]
  },
  {
   "cell_type": "markdown",
   "metadata": {},
   "source": [
    "# Family Health history \n",
    "\n",
    "- Subset to questions of interest\n",
    "    - do you have a condition\n",
    "    - are you being treated for it\n",
    "    - are you seeing a doctor for it\n",
    "    \n",
    "For now just looking at wheter you indicate having a condition. Can include the seeing a doctor and prescribed information in future iterations if desired."
   ]
  },
  {
   "cell_type": "code",
   "execution_count": null,
   "metadata": {},
   "outputs": [],
   "source": [
    "# This query represents dataset \"BASICS & HEALTH HISTORY\" for domain \"survey\" and was generated for All of Us Controlled Tier Dataset v8\n",
    "survey_sql <- paste(\"\n",
    "    SELECT\n",
    "        answer.person_id,\n",
    "        answer.survey_datetime,\n",
    "        answer.survey,\n",
    "        answer.question_concept_id,\n",
    "        answer.question,\n",
    "        answer.answer_concept_id,\n",
    "        answer.answer,\n",
    "        answer.survey_version_concept_id,\n",
    "        answer.survey_version_name  \n",
    "    FROM\n",
    "        `ds_survey` answer   \n",
    "    WHERE\n",
    "        (\n",
    "            question_concept_id IN (SELECT\n",
    "                DISTINCT concept_id                         \n",
    "            FROM\n",
    "                `cb_criteria` c                         \n",
    "            JOIN\n",
    "                (SELECT\n",
    "                    CAST(cr.id as string) AS id                               \n",
    "                FROM\n",
    "                    `cb_criteria` cr                               \n",
    "                WHERE\n",
    "                    concept_id IN (1740639)                               \n",
    "                    AND domain_id = 'SURVEY') a \n",
    "                    ON (c.path like CONCAT('%', a.id, '.%'))                         \n",
    "            WHERE\n",
    "                domain_id = 'SURVEY'                         \n",
    "                AND type = 'PPI'                         \n",
    "                AND subtype = 'QUESTION')\n",
    "        )\", sep=\"\")\n",
    "\n",
    "# Formulate a Cloud Storage destination path for the data exported from BigQuery.\n",
    "# NOTE: By default data exported multiple times on the same day will overwrite older copies.\n",
    "#       But data exported on a different days will write to a new location so that historical\n",
    "#       copies can be kept as the dataset definition is changed.\n",
    "survey_path <- file.path(\n",
    "  Sys.getenv(\"WORKSPACE_BUCKET\"),\n",
    "  \"bq_exports\",\n",
    "  Sys.getenv(\"OWNER_EMAIL\"),\n",
    " # strftime(lubridate::now(), \"%Y%m%d\"),  # Comment out this line if you want the export to always overwrite.\n",
    "  \"survey_fmhx\",\n",
    "  \"survey_fmhx_*.csv\")\n",
    "message(str_glue('The data will be written to {survey_path}. Use this path when reading ',\n",
    "                 'the data into your notebooks in the future.'))\n",
    "\n",
    "# Perform the query and export the dataset to Cloud Storage as CSV files.\n",
    "# NOTE: You only need to run `bq_table_save` once. After that, you can\n",
    "#       just read data from the CSVs in Cloud Storage.\n",
    "#bq_table_save(\n",
    "#  bq_dataset_query(Sys.getenv(\"WORKSPACE_CDR\"), survey_sql, billing = Sys.getenv(\"GOOGLE_PROJECT\")),\n",
    "#  survey_path,\n",
    "#  destination_format = \"CSV\")\n",
    "\n",
    "\n",
    "# Read the data directly from Cloud Storage into memory.\n",
    "# NOTE: Alternatively you can `gsutil -m cp {survey_36706926_path}` to copy these files\n",
    "#       to the Jupyter disk.\n",
    "read_bq_export_from_workspace_bucket <- function(export_path) {\n",
    "  col_types <- cols(survey = col_character(), question = col_character(), answer = col_character(), survey_version_name = col_character())\n",
    "  bind_rows(\n",
    "    map(system2('gsutil', args = c('ls', export_path), stdout = TRUE, stderr = TRUE),\n",
    "        function(csv) {\n",
    "          message(str_glue('Loading {csv}.'))\n",
    "          chunk <- read_csv(pipe(str_glue('gsutil cat {csv}')), col_types = col_types, show_col_types = FALSE)\n",
    "          if (is.null(col_types)) {\n",
    "            col_types <- spec(chunk)\n",
    "          }\n",
    "          chunk\n",
    "        }))\n",
    "}\n",
    "fmhx <- read_bq_export_from_workspace_bucket(survey_path)"
   ]
  },
  {
   "cell_type": "code",
   "execution_count": null,
   "metadata": {},
   "outputs": [],
   "source": [
    "fmhx <- as.data.table(fmhx)"
   ]
  },
  {
   "cell_type": "markdown",
   "metadata": {},
   "source": [
    "## Subset to relevant questions"
   ]
  },
  {
   "cell_type": "code",
   "execution_count": null,
   "metadata": {},
   "outputs": [],
   "source": [
    "# not run for now \n",
    "if (1 == 0) {\n",
    "fmhx_qs$doc<-ifelse(grepl('seeing a doctor', fmhx_qs$question), 1, 0)\n",
    "fmhx_qs$rx<-ifelse(grepl('prescribed', fmhx_qs$question), 1, 0)\n",
    "fmhx_qs$how_old<-ifelse(grepl('how old', fmhx_qs$question), 1, 0)\n",
    "fmhx_qs$dgn<-ifelse(grepl('Including yourself, who in your family has had', fmhx_qs$question), 1, 0)\n",
    "fmhx_qs$have_you<-ifelse(grepl('Have you', fmhx_qs$question), 1, 0)\n",
    "    \n",
    "# diagnosis questions\n",
    "dgn_qs<-fmhx_qs[fmhx_qs$dgn == 1,]\n",
    "have_you_qs<-fmhx_qs[fmhx_qs$have_you == 1,]\n",
    "rx_qs<-fmhx_qs[fmhx_qs$rx == 1,]\n",
    "doc_qs<-fmhx_qs[fmhx_qs$doc == 1,]\n",
    "    \n",
    "}"
   ]
  },
  {
   "cell_type": "markdown",
   "metadata": {},
   "source": [
    "## Get diagnosis answers"
   ]
  },
  {
   "cell_type": "code",
   "execution_count": null,
   "metadata": {},
   "outputs": [],
   "source": [
    "# subset survey answers to relevant questions\n",
    "health <- fmhx[grepl('Including yourself, who in your family has had', question)]"
   ]
  },
  {
   "cell_type": "code",
   "execution_count": null,
   "metadata": {},
   "outputs": [],
   "source": [
    "health[,q := gsub(\"Including yourself, who in your family has had\", \"\", question)]\n",
    "health[,q := gsub(\" a \",\"\", q)]\n",
    "health[,q := gsub(\"Select all that apply.\",\"\", q)]\n",
    "health[,q := gsub(\"?\",\"\", q, fixed= TRUE)]\n",
    "health[,q := gsub(\"\\\\s*\\\\([^\\\\)]+\\\\)\",\"\", q)]"
   ]
  },
  {
   "cell_type": "code",
   "execution_count": null,
   "metadata": {},
   "outputs": [],
   "source": [
    "# clean things up a bit\n",
    "health[,a := gsub(\".*:\",\"\", health$answer)]\n",
    "health[,a := gsub(\".*-\",\"\", health$a)]\n",
    "\n",
    "table(health$a)"
   ]
  },
  {
   "cell_type": "code",
   "execution_count": null,
   "metadata": {},
   "outputs": [],
   "source": [
    "# keep all \"self\" rows\n",
    "self <- health[trimws(a) == \"Self\"]"
   ]
  },
  {
   "cell_type": "code",
   "execution_count": null,
   "metadata": {},
   "outputs": [],
   "source": [
    "self[, a := 1]\n",
    "head(self)"
   ]
  },
  {
   "cell_type": "code",
   "execution_count": null,
   "metadata": {},
   "outputs": [],
   "source": [
    "self[,survey_date := as.Date(survey_datetime)]"
   ]
  },
  {
   "cell_type": "code",
   "execution_count": null,
   "metadata": {},
   "outputs": [],
   "source": [
    "write_csv(self,'self_reported_health_byperson_tmp.csv', \"/survey/\")"
   ]
  },
  {
   "cell_type": "code",
   "execution_count": null,
   "metadata": {},
   "outputs": [],
   "source": [
    "# create wide dataset of all conditions where someone answered \"Self\" \n",
    "self_wide<- self %>% \n",
    "    select(person_id, survey_date, q, a) %>%\n",
    "    pivot_wider(names_from = \"q\", names_prefix = \"\", values_from = \"a\")\n",
    "head(self_wide) "
   ]
  },
  {
   "cell_type": "code",
   "execution_count": null,
   "metadata": {},
   "outputs": [],
   "source": [
    "self_wide <-self_wide %>% clean_names()\n",
    "setDT(self_wide)"
   ]
  },
  {
   "cell_type": "code",
   "execution_count": null,
   "metadata": {},
   "outputs": [],
   "source": [
    "self_wide[, (3:ncol(self_wide)) := lapply(.SD, as.numeric), .SDcols = 3:ncol(self_wide)]\n",
    "self_wide[is.na(self_wide)]<-0"
   ]
  },
  {
   "cell_type": "code",
   "execution_count": null,
   "metadata": {},
   "outputs": [],
   "source": [
    "write_csv(self_wide,'self_reported_health_byperson.csv', \"/survey/\")"
   ]
  },
  {
   "cell_type": "markdown",
   "metadata": {},
   "source": [
    "## get list of responders\n",
    "\n",
    "Create a list of all people who responded to the survey (to distinguish 0s from NAs)"
   ]
  },
  {
   "cell_type": "code",
   "execution_count": null,
   "metadata": {},
   "outputs": [],
   "source": [
    "# get full list of names that answered the family history survey (so we know who answered no vs who didn't respond)\n",
    "fmhx_ids<-fmhx[,c('person_id','survey_datetime')]\n",
    "setDT(fmhx_ids)\n",
    "unique_ids <- unique(fmhx_ids[, .(person_id)])\n",
    "\n",
    "# save \n",
    "write_csv(unique_ids,'answered_self_reported_health.csv', \"/survey/\")"
   ]
  },
  {
   "cell_type": "code",
   "execution_count": null,
   "metadata": {},
   "outputs": [],
   "source": [
    "dim(self_wide)\n",
    "dim(unique_ids)"
   ]
  }
 ],
 "metadata": {
  "kernelspec": {
   "display_name": "R",
   "language": "R",
   "name": "ir"
  },
  "language_info": {
   "codemirror_mode": "r",
   "file_extension": ".r",
   "mimetype": "text/x-r-source",
   "name": "R",
   "pygments_lexer": "r",
   "version": "4.5.0"
  },
  "toc": {
   "base_numbering": 1,
   "nav_menu": {},
   "number_sections": true,
   "sideBar": true,
   "skip_h1_title": false,
   "title_cell": "Table of Contents",
   "title_sidebar": "Contents",
   "toc_cell": false,
   "toc_position": {},
   "toc_section_display": true,
   "toc_window_display": false
  }
 },
 "nbformat": 4,
 "nbformat_minor": 2
}

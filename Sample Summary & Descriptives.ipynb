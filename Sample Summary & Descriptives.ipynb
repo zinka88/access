{
 "cells": [
  {
   "cell_type": "code",
   "execution_count": null,
   "metadata": {},
   "outputs": [],
   "source": [
    "# Title: Sample Summary & Descriptives\n",
    "# Author: Anna Zink\n",
    "# Date: June 21, 2024\n",
    "# Description: \n",
    "#  - Describe the sample \n",
    "#  - Describe task sapmples \n",
    "#  - Evaluate how access impacts conditions reported in the EHR\n",
    "# March 10, 2025 - Update to include data summaries for Figure 1"
   ]
  },
  {
   "cell_type": "code",
   "execution_count": null,
   "metadata": {},
   "outputs": [],
   "source": [
    "# load packages \n",
    "library(viridis)    # A nice color scheme for plots.\n",
    "library(ggthemes)   # Common themes to change the look and feel of plots.\n",
    "library(scales)     # Graphical scales map data to aesthetics in plots.\n",
    "library(skimr)      # Better summaries of data.\n",
    "library(lubridate)  # Date library from the tidyverse.\n",
    "library(tidyverse)  # Data wrangling packages.\n",
    "library(bigrquery)  # Data extraction from Google BigQuery\n",
    "library(biglm)      # running lm on big data \n",
    "library(survival)\n",
    "library(broom)\n",
    "library(janitor)"
   ]
  },
  {
   "cell_type": "code",
   "execution_count": null,
   "metadata": {},
   "outputs": [],
   "source": [
    "load_data<-function(file, folder){\n",
    "    my_bucket <- Sys.getenv('WORKSPACE_BUCKET')\n",
    "    system(paste0(\"gsutil cp \", my_bucket, folder, file, \" .\"), intern=T)\n",
    "    dsn <- read_csv(file, show_col_types = FALSE)\n",
    "    return(dsn)\n",
    "}\n",
    "\n",
    "# Replace df with THE NAME OF YOUR DATAFRAME\n",
    "# folder = \"/ehr/\" \n",
    "write_csv<-function(df, fn, folder) {\n",
    "   my_dataframe <- df\n",
    "   destination_filename <- fn\n",
    "   write_excel_csv(my_dataframe, destination_filename)\n",
    "   my_bucket <- Sys.getenv('WORKSPACE_BUCKET')\n",
    "   system(paste0(\"gsutil cp ./\", destination_filename, \" \", my_bucket, folder), intern=T)\n",
    "}"
   ]
  },
  {
   "cell_type": "markdown",
   "metadata": {},
   "source": [
    "# Read in data and create variables"
   ]
  },
  {
   "cell_type": "code",
   "execution_count": null,
   "metadata": {},
   "outputs": [],
   "source": [
    "# load data and flag people in the analysis samlpe\n",
    "all<-load_data('all_participant_demo.csv',\"/data/\")\n",
    "sample<-load_data('analysis_sample.csv', \"/analysis/\")\n",
    "sample$in_sample<-1\n",
    "all<-merge(all, sample, by='person_id', all.x=TRUE)\n",
    "all <- clean_names(all)\n",
    "all[is.na(all)]<-0"
   ]
  },
  {
   "cell_type": "code",
   "execution_count": null,
   "metadata": {},
   "outputs": [],
   "source": [
    "# Derive variables \n",
    "\n",
    "# calculate age as of 2023 (last year of enrollment with data)\n",
    "all$age <- as.integer(floor(interval(all$date_of_birth, ymd(\"2023-01-01\")) / years(1)))\n",
    "all$age_cat<-ifelse(all$age<25, '18-24',\n",
    "             ifelse(all$age<45, '25-44',\n",
    "             ifelse(all$age<64, '45-64',\n",
    "             ifelse(all$age>=65, '65+', NA))))\n",
    "\n",
    "\n",
    "# gender\n",
    "all$male<-ifelse(all$gender == \"Male\", 1, 0)\n",
    "all$fem<-ifelse(all$gender == \"Female\", 1, 0)\n",
    "all$gender_other<-ifelse(!(all$fem | all$male), 1, 0)\n",
    "\n",
    "# race and ethnicity\n",
    "all$white<-ifelse(all$race == \"White\", 1, 0)\n",
    "all$black<-ifelse(all$race == \"Black or African American\", 1, 0)\n",
    "all$race_unknown<-ifelse(all$race %in% c('None Indicated','MPI: Skip','I prefer not to answer'), 1, 0)\n",
    "all$asian<-ifelse(all$race == 'Asian', 1, 0)\n",
    "all$ai_an<-ifelse(all$race == 'American Indian or Alaska Native', 1, 0)\n",
    "all$race_other<-ifelse(all$race %in% c('More than one population',\n",
    "                                         'None of these',\n",
    "                                         'Middle Eastern or North African',\n",
    "                                        'Native Hawaiian or Other Pacific Islander'), 1, 0)\n",
    "all$is_latino<-ifelse(all$ethnicity == \"Hispanic or Latino\", 1, 0)\n",
    "all$not_hispanic<-ifelse(all$ethnicity == 'Not Hispanic or Latino',1,0)\n",
    "all$ethnicity_unknown<-ifelse(!(all$ethnicity %in% c(\"Hispanic or Latino\",'Not Hispanic or Latino')), 1, 0)\n",
    "\n",
    "all$race_eth_cat<-ifelse(all$ethnicity == \"Hispanic or Latino\", \"Hispanic\", \n",
    "              ifelse(all$race == \"American Indian or Alaska Native\", \"AI/AN\",\n",
    "              ifelse(all$race == \"Asian\", \"Asian\", \n",
    "              ifelse(all$race == \"Black or African American\", \"Black\",\n",
    "              ifelse(all$race == \"White\", \"White\", \n",
    "              ifelse(all$race %in% c('More than one population',\n",
    "                                         'None of these',\n",
    "                                         'Middle Eastern or North African',\n",
    "                                        'Native Hawaiian or Other Pacific Islander'), \"Other\", NA))))))\n",
    "\n",
    "# insurance\n",
    "all$ins_uninsured<-ifelse(all$ins_none == 1 | all$ins_indian ==1 | all$anyins_no == 1, 1, 0)\n",
    "all$ins_medicare<-all$ins_medicare\n",
    "all$ins_medicaid<-all$ins_medicaid\n",
    "all$ins_employ<-all$ins_employer_or_union\n",
    "all$ins_unknown<-ifelse(all$ins_pmi_skip ==1 | all$ins_invalid ==1, 1, 0)\n",
    "all$ins_other<-ifelse(all$ins_va == 1 | all$ins_military == 1 | \n",
    "                      all$ins_purchased == 1 | all$ins_other_health_plan == 1, 1, 0)\n",
    "\n",
    "all$ins_cat<-ifelse(all$ins_uninsured == 1, 'uninsured',\n",
    "             ifelse(all$ins_medicare == 1, 'medicare',\n",
    "             ifelse(all$ins_medicaid == 1, 'medicaid',\n",
    "             ifelse(all$ins_employ == 1, 'employee',\n",
    "             ifelse(all$ins_other == 1, 'other', NA)))))\n",
    "\n",
    "# household income \n",
    "all$inc_10<-all$inc_less_10k\n",
    "all$inc_10_49<-ifelse(all$inc_10k_25k == 1 | all$inc_25k_35k == 1 | all$inc_35k_50k == 1, 1, 0)\n",
    "all$inc_50_99<-ifelse(all$inc_50k_75k == 1 | all$inc_75k_100k == 1, 1, 0)\n",
    "all$inc_100_199<-ifelse(all$inc_100k_150k == 1 | all$inc_150k_200k == 1, 1, 0)\n",
    "all$inc_200<-all$inc_more_200k\n",
    "all$inc_unknown<-all$inc_skip_unknown\n",
    "\n",
    "all$inc_cat<-ifelse(all$inc_10 == 1, '<10',\n",
    "             ifelse(all$inc_10_49 == 1, '10-49k',\n",
    "             ifelse(all$inc_50_99 == 1, '50-99k',\n",
    "             ifelse(all$inc_100_199 == 1, '100-199k',\n",
    "             ifelse(all$inc_200 == 1, '200k+', NA)))))"
   ]
  },
  {
   "cell_type": "code",
   "execution_count": null,
   "metadata": {},
   "outputs": [],
   "source": [
    "# subset to analytic sample and add in a few additional relevant variables \n",
    "data<-all[all$in_sample == 1,]\n",
    "data$noaccess<-ifelse(data$afford_ind | data$delayed_ind, 1, 0)\n",
    "#data$age <- as.integer(floor(interval(data$date_of_birth, data$current_date) / years(1)))"
   ]
  },
  {
   "cell_type": "code",
   "execution_count": null,
   "metadata": {},
   "outputs": [],
   "source": [
    "## data for flowchart\n",
    "run<-0\n",
    "if (run == 1) {\n",
    "    visits_16_23<-data.frame()\n",
    "    for (yr in seq(2016, 2023)) {\n",
    "        print(yr)\n",
    "        visits<-load_data(paste0('visits_', yr, '.csv'), \"/ehr/\")\n",
    "        visits<-merge(visits, data[,c('person_id','noaccess')], by.x='PERSON_ID', by.y='person_id')\n",
    "        visits<-visits[,c('PERSON_ID','VISIT_START_DATE','VISIT_END_DATE','SRC_ID','VISIT_TYPE','year')]\n",
    "        visits_16_23<-rbind(visits_16_23, visits)\n",
    "    }\n",
    "    dim(visits_16_23)\n",
    "    write_csv(visits_16_23, 'visits_16_23.csv', '/ehr/')\n",
    "}"
   ]
  },
  {
   "cell_type": "markdown",
   "metadata": {
    "heading_collapsed": true
   },
   "source": [
    "## Panel a. \n",
    "- Visit counts\n",
    "- clinical sites\n",
    "- % low access"
   ]
  },
  {
   "cell_type": "code",
   "execution_count": null,
   "metadata": {
    "hidden": true
   },
   "outputs": [],
   "source": [
    "## data for flowchart\n",
    "## 134,513 patients with 7,283,987 visits to 50 clinical sites, 53.6% with low access to care \n",
    "# merge in visit occurence data\n",
    "# Pull in visit data from 2018 - 2019 and create list of all participants with a visit \n",
    "visits_16_23<-load_data('visits_16_23.csv', '/ehr/')\n",
    "\n",
    "# GET # OF SITES\n",
    "length(unique(visits_16_23$SRC_ID))"
   ]
  },
  {
   "cell_type": "code",
   "execution_count": null,
   "metadata": {
    "hidden": true
   },
   "outputs": [],
   "source": [
    "# TO GET # OF VISITS NEED TO SORT AND FIND OVERLAPPING VISIT \n",
    "\n",
    "visits_16_23<-visits_16_23[order(visits_16_23$PERSON_ID, visits_16_23$SRC_ID, \n",
    "                                 visits_16_23$VISIT_START_DATE, visits_16_23$VISIT_END_DATE),]\n",
    "\n",
    "visits_16_23<-visits_16_23 %>% group_by(PERSON_ID, SRC_ID) %>% mutate(visit_id = row_number(), next_visit=lead(VISIT_START_DATE))\n",
    "\n",
    "visits_16_23$prev_end<-lag(visits_16_23$VISIT_END_DATE)\n",
    "visits_16_23$new_encounter<-ifelse(visits_16_23$prev_end + 1 < visits_16_23$VISIT_START_DATE | visits_16_23$visit_id == 1, 1, 0)\n",
    "\n",
    "# Use new encounter flag to create an encounter ID\n",
    "visits_16_23<-visits_16_23 %>% group_by(PERSON_ID, SRC_ID) %>% mutate(encounter_id = cumsum(new_encounter))\n",
    "head(visits_16_23)"
   ]
  },
  {
   "cell_type": "code",
   "execution_count": null,
   "metadata": {
    "hidden": true
   },
   "outputs": [],
   "source": [
    "byperson<-visits_16_23 %>% group_by(PERSON_ID, SRC_ID) %>% summarise(visits=n_distinct(encounter_id))\n",
    "sum(byperson$visits)"
   ]
  },
  {
   "cell_type": "code",
   "execution_count": null,
   "metadata": {
    "hidden": true
   },
   "outputs": [],
   "source": [
    "# pct with low access\n",
    "data$low_access<-ifelse(data$afford_ind ==1 | data$delayed_ind == 1, 1, 0)\n",
    "prop.table(table(data$low_access))"
   ]
  },
  {
   "cell_type": "markdown",
   "metadata": {
    "heading_collapsed": true
   },
   "source": [
    "## Panel b. sample restrictions\n",
    "\n",
    "- See Analysis Sample.ipynb for exclusion restriction and sample counts.\n"
   ]
  },
  {
   "cell_type": "markdown",
   "metadata": {
    "heading_collapsed": true
   },
   "source": [
    "## Panel c. Self report vs EHR\n",
    "\n",
    "Create box-plots by access group for # of self-reported conditions and # of EHR recorded conditions.\n",
    "\n",
    "- See Reliability Analysis.ipynb for code to create these csv"
   ]
  },
  {
   "cell_type": "markdown",
   "metadata": {
    "heading_collapsed": true
   },
   "source": [
    "## Panels d-g. demographic distributions"
   ]
  },
  {
   "cell_type": "code",
   "execution_count": null,
   "metadata": {
    "hidden": true
   },
   "outputs": [],
   "source": [
    "# age distribution\n",
    "data$bin_value<-ifelse(data$AGE <= 25, '18 to 25',\n",
    "                ifelse(data$AGE <= 35, '26 to 35',\n",
    "                ifelse(data$AGE <= 45, '36 to 45',\n",
    "                ifelse(data$AGE <= 55, '46 to 55',\n",
    "                ifelse(data$AGE <= 65, '56 to 65',\n",
    "                ifelse(data$AGE <= 75, '66 to 75', '76+'))))))\n",
    "df<-as.data.frame(table(data$bin_value))\n",
    "names(df)<-c('bin_value','count')\n",
    "write_csv(df, 'plot_age_distribution.csv', \"/output/\")"
   ]
  },
  {
   "cell_type": "code",
   "execution_count": null,
   "metadata": {
    "hidden": true
   },
   "outputs": [],
   "source": [
    "# race distribution\n",
    "df<-as.data.frame(table(data$RACE))\n",
    "names(df)<-c('race','count')\n",
    "write_csv(df, 'race.csv', \"/output/\")"
   ]
  },
  {
   "cell_type": "code",
   "execution_count": null,
   "metadata": {
    "hidden": true
   },
   "outputs": [],
   "source": [
    "# ethnicity distribution\n",
    "data$eth<-ifelse(data$ETHNICITY %in% c('Hispanic or Latino', 'Not Hispanic or Latino'), data$ETHNICITY, 'Unknown')\n",
    "df<-as.data.frame(table(data$eth))\n",
    "names(df)<-c('ethnicity','count')\n",
    "write_csv(df, 'ethnicity.csv', \"/output/\")"
   ]
  },
  {
   "cell_type": "code",
   "execution_count": null,
   "metadata": {
    "hidden": true
   },
   "outputs": [],
   "source": [
    "# visit type\n",
    "visit_dist<-visits_16_23 %>% group_by(PERSON_ID, encounter_id) %>% summarise(visit_type=first(VISIT_TYPE))"
   ]
  },
  {
   "cell_type": "code",
   "execution_count": null,
   "metadata": {
    "hidden": true
   },
   "outputs": [],
   "source": [
    "types<-c('Outpatient Visit','Office Visit','Telehealth','Laboratory Visit','Inpatient Visit', 'Pharmacy visit',\n",
    "        'Ambulatory Rehabilitation Visit','Emergency Room Visit')\n",
    "visit_dist$type<-ifelse(visit_dist$visit_type %in% types, visit_dist$visit_type, 'Other')\n",
    "table(visit_dist$type)"
   ]
  },
  {
   "cell_type": "code",
   "execution_count": null,
   "metadata": {
    "hidden": true
   },
   "outputs": [],
   "source": [
    "visit_list<-visit_dist %>% group_by(visit_type) %>% summarise(n=n()) %>% arrange(-n)\n",
    "head(visit_list, n=10)"
   ]
  },
  {
   "cell_type": "code",
   "execution_count": null,
   "metadata": {
    "hidden": true
   },
   "outputs": [],
   "source": [
    "df<-as.data.frame(table(visit_dist$type))\n",
    "names(df)<-c('visit_type','count')\n",
    "write_csv(df, 'plot_visit_type_distribution.csv', \"/output/\")"
   ]
  },
  {
   "cell_type": "markdown",
   "metadata": {
    "heading_collapsed": true
   },
   "source": [
    "## Time-to-visit cummulative incidence "
   ]
  },
  {
   "cell_type": "code",
   "execution_count": null,
   "metadata": {
    "hidden": true
   },
   "outputs": [],
   "source": [
    "keepvars1<-c('person_id','mindate','afford_ind','delayed_ind')\n",
    "keepvars2<-c('PERSON_ID','VISIT_START_DATE', 'VISIT_TYPE')\n",
    "visit_df<-merge(data[,keepvars1], visits_16_23[,keepvars2], by.x='person_id', by.y='PERSON_ID')"
   ]
  },
  {
   "cell_type": "code",
   "execution_count": null,
   "metadata": {
    "hidden": true
   },
   "outputs": [],
   "source": [
    "# Convert both to Date\n",
    "visit_df$index_dt <- as.Date(visit_df$mindate)\n",
    "visit_df$visit_dt <- as.Date(visit_df$VISIT_START_DATE)\n",
    "\n",
    "# Calculate difference in days, then convert to months (~30.44 days/month)\n",
    "visit_df$time_to <- as.numeric(visit_df$visit_dt - visit_df$index_dt) / 30.44\n",
    "\n",
    "# Round as needed\n",
    "visit_df$time_to <- round(visit_df$time_to)"
   ]
  },
  {
   "cell_type": "code",
   "execution_count": null,
   "metadata": {
    "hidden": true
   },
   "outputs": [],
   "source": [
    "# calculate time to visit \n",
    "#visit_df$index_dt<-as.POSIXct(visit_df$mindate, tz = \"UTC\")\n",
    "#visit_df$visit_dt<-as.Date(visit_df$VISIT_START_DATE)\n",
    "#visit_df$time_to<-time_length(interval(visit_df$index_dt, visit_df$visit_dt), 'months')\n",
    "#visit_df$time_to<-round(visit_df$time_to)"
   ]
  },
  {
   "cell_type": "code",
   "execution_count": null,
   "metadata": {
    "hidden": true
   },
   "outputs": [],
   "source": [
    "\n",
    "# flag visits before index and after index and sum\n",
    "visit_df$ehr_pre<-ifelse(visit_df$time_to<0, 1, 0)\n",
    "visit_df$ehr_post<-ifelse(visit_df$time_to>=0, 1, 0)\n",
    "\n",
    "pre_post_summ <- visit_df %>% group_by(person_id) %>% summarise(ehr_visit_pre=max(ehr_pre),\n",
    "                                           ehr_visit_post=max(ehr_post),\n",
    "                                           ehr_visit_pre_count=sum(ehr_pre),\n",
    "                                           ehr_visit_post_count=sum(ehr_post))"
   ]
  },
  {
   "cell_type": "code",
   "execution_count": null,
   "metadata": {
    "hidden": true
   },
   "outputs": [],
   "source": [
    "visit_summ<-visit_df %>% filter(time_to >= 0) %>% group_by(person_id)  %>% summarise(time_to=min(time_to))"
   ]
  },
  {
   "cell_type": "code",
   "execution_count": null,
   "metadata": {
    "hidden": true
   },
   "outputs": [],
   "source": [
    "sample_list<-data %>% group_by(person_id, noaccess) %>% summarise(n=n())\n",
    "sample_list<-merge(sample_list, visit_summ, by='person_id', all.x=TRUE)\n",
    "sample_list$event24<-ifelse(is.na(sample_list$time_to) | sample_list$time_to>24, 0, 1)\n",
    "sample_list$time_to_24<-ifelse(sample_list$event24 == 0, 24, sample_list$time_to)"
   ]
  },
  {
   "cell_type": "code",
   "execution_count": null,
   "metadata": {
    "hidden": true
   },
   "outputs": [],
   "source": [
    "# kaplan-meyer survival estimates \n",
    "fit <- survfit(Surv(time_to_24, event24) ~ noaccess, data = sample_list)\n",
    "df_km<-tidy(fit)\n",
    "\n",
    "# need to take 1- to report the cummulative incidence \n",
    "df_km<-tidy(fit)\n",
    "df_km <- df_km %>%\n",
    "  mutate(\n",
    "    est = 1 - estimate,\n",
    "    lb = 1 - conf.high,\n",
    "    ub = 1 - conf.low\n",
    "  )\n",
    "head(df_km)\n",
    "\n",
    "keepvars<-c('time','n.risk','n.event','strata','est','lb','ub')\n",
    "write_csv(df_km[,keepvars], 'kaplan_meyer_visit_curve.csv', '/output/')"
   ]
  },
  {
   "cell_type": "code",
   "execution_count": null,
   "metadata": {
    "hidden": true
   },
   "outputs": [],
   "source": [
    "# raw values - they are the samea s the estimates \n",
    "sample_list$time_to_updt<-ifelse(sample_list$event24 == 0, 25, sample_list$time_to)\n",
    "bymonth<-sample_list %>% group_by(noaccess, time_to_updt) %>% summarise(n=n())\n",
    "bymonth<-bymonth %>% group_by(noaccess) %>% mutate(total=sum(n))\n",
    "bymonth$pct<-bymonth$n/bymonth$total\n",
    "bymonth<- bymonth %>% group_by(noaccess) %>% mutate(cum_pct = cumsum(pct))"
   ]
  },
  {
   "cell_type": "markdown",
   "metadata": {
    "heading_collapsed": true
   },
   "source": [
    "# Create Table 1 "
   ]
  },
  {
   "cell_type": "code",
   "execution_count": null,
   "metadata": {
    "hidden": true
   },
   "outputs": [],
   "source": [
    "# group by and summarize -- overall, high access, low access (AND), delay, afford\n",
    "get_summary<-function(df, label){\n",
    "    summ<-df %>% summarize(delayed=mean(delayed_ind),\n",
    "                   afford=mean(afford_ind),\n",
    "                   hc_int_1yr=mean(hc_int_1_yr),\n",
    "                   hc_int_2yr=mean(hc_int_2_yr),\n",
    "                   age=mean(age),\n",
    "                   male=mean(male),\n",
    "                   fem=mean(fem),\n",
    "                   gender_other=mean(gender_other),\n",
    "                   white=mean(white),\n",
    "                   black=mean(black),\n",
    "                   asian=mean(asian),\n",
    "                   ai_an=mean(ai_an),\n",
    "                   race_unknown=mean(race_unknown),\n",
    "                   race_other=mean(race_other),\n",
    "                   is_latino=mean(is_latino),\n",
    "                   not_hispanic=mean(not_hispanic),\n",
    "                   eth_unknown=mean(ethnicity_unknown),\n",
    "                   ins_uninsured = mean(ins_uninsured),\n",
    "                   ins_medicare = mean(ins_medicare),\n",
    "                   ins_medicaid = mean(ins_medicaid),\n",
    "                   ins_employ = mean(ins_employ),\n",
    "                   ins_unknown = mean(ins_unknown),\n",
    "                   ins_other = mean(ins_other), \n",
    "                   inc_10 = mean(inc_10),\n",
    "                   inc_10_49 = mean(inc_10_49),\n",
    "                   inc_50_99 = mean(inc_50_99),\n",
    "                   inc_100_199 = mean(inc_100_199),\n",
    "                   inc_200 = mean(inc_200),\n",
    "                   inc_unknown = mean(inc_unknown),\n",
    "                   n=n())\n",
    "    \n",
    "    summ$group<-label\n",
    "    return(summ)\n",
    "}\n",
    "\n",
    "# group by and summarize -- overall, high access, low access (AND), delay, afford\n",
    "get_group_summary<-function(df, label, groupvar){\n",
    "    summ<-df %>% group_by({{ groupvar }}) %>% summarize(delayed=mean(delayed_ind),\n",
    "                   afford=mean(afford_ind),\n",
    "                   age=mean(age),\n",
    "                   male=mean(male),\n",
    "                   fem=mean(fem),\n",
    "                   gender_other=mean(gender_other),\n",
    "                   white=mean(white),\n",
    "                   black=mean(black),\n",
    "                   asian=mean(asian),\n",
    "                   ai_an=mean(ai_an),\n",
    "                   race_unknown=mean(race_unknown),\n",
    "                   race_other=mean(race_other),\n",
    "                   is_latino=mean(is_latino),\n",
    "                   not_hispanic=mean(not_hispanic),\n",
    "                   eth_unknown=mean(ethnicity_unknown),\n",
    "                   ins_uninsured = mean(ins_uninsured),\n",
    "                   ins_medicare = mean(ins_medicare),\n",
    "                   ins_medicaid = mean(ins_medicaid),\n",
    "                   ins_employ = mean(ins_employ),\n",
    "                   ins_unknown = mean(ins_unknown),\n",
    "                   ins_other = mean(ins_other), \n",
    "                   inc_10 = mean(inc_10),\n",
    "                   inc_10_49 = mean(inc_10_49),\n",
    "                   inc_50_99 = mean(inc_50_99),\n",
    "                   inc_100_199 = mean(inc_100_199),\n",
    "                   inc_200 = mean(inc_200),\n",
    "                   inc_unknown = mean(inc_unknown),\n",
    "                   n=n())\n",
    "    \n",
    "    summ$group<-label\n",
    "    return(summ)\n",
    "}"
   ]
  },
  {
   "cell_type": "code",
   "execution_count": null,
   "metadata": {
    "hidden": true
   },
   "outputs": [],
   "source": [
    "all_of_us<-get_summary(all, 'all of us')\n",
    "\n",
    "overall<-get_summary(data, 'overall')\n",
    "\n",
    "data$access<-ifelse(data$afford_ind == 0 & data$delayed_ind == 0, 1, 0)\n",
    "high_access<-get_summary(data[data$access == 1,], 'High Access')\n",
    "\n",
    "data$low_access<-ifelse(data$afford_ind == 1 & data$delayed_ind == 1, 1, 0)\n",
    "low_access<-get_summary(data[data$low_access == 1,], 'Low Access')\n",
    "\n",
    "# afford\n",
    "afford<-get_summary(data[data$afford_ind == 1,], 'Affordability')\n",
    "\n",
    "# delay\n",
    "delay<-get_summary(data[data$delayed_ind == 1,], 'Delay')\n",
    "\n",
    "all<-rbind(all_of_us, overall, high_access, low_access, afford, delay)\n",
    "all"
   ]
  },
  {
   "cell_type": "code",
   "execution_count": null,
   "metadata": {
    "hidden": true
   },
   "outputs": [],
   "source": [
    "# folder = \"/ehr/\" \n",
    "write_csv(all, 'table_1_sample_summary.csv', \"/data\")"
   ]
  },
  {
   "cell_type": "code",
   "execution_count": null,
   "metadata": {
    "hidden": true
   },
   "outputs": [],
   "source": [
    "dim(data)"
   ]
  },
  {
   "cell_type": "code",
   "execution_count": null,
   "metadata": {
    "hidden": true
   },
   "outputs": [],
   "source": [
    "# 2 x 2 - delay x afford\n",
    "access_tab<-table(data$delayed_ind, data$afford_ind)\n",
    "access_tab\n",
    "prop.table(access_tab)"
   ]
  },
  {
   "cell_type": "code",
   "execution_count": null,
   "metadata": {
    "hidden": true
   },
   "outputs": [],
   "source": [
    "prop.table(table(data$afford_ind))"
   ]
  },
  {
   "cell_type": "markdown",
   "metadata": {},
   "source": [
    "# Create ACS comparison table\n",
    "\n",
    "remove other for each category (following ACS)"
   ]
  },
  {
   "cell_type": "code",
   "execution_count": null,
   "metadata": {},
   "outputs": [],
   "source": [
    "run_acs_summary<-function(df) {\n",
    "    # age\n",
    "    age<-df %>% filter(!is.na(age_cat)) %>% group_by(age_cat) %>% summarise(n=n()) %>%\n",
    "      mutate(percent = n / sum(n) * 100) %>% rename(cat=age_cat)\n",
    "\n",
    "    # gender\n",
    "    gender<-df %>% filter(gender %in% c('Female','Male')) %>% group_by(gender) %>% summarise(n=n()) %>%\n",
    "      mutate(percent = n / sum(n) * 100) %>% rename(cat=gender)\n",
    "\n",
    "    # race_ethnicity \n",
    "    race<-df %>% filter(!is.na(race_eth_cat)) %>% group_by(race_eth_cat) %>% summarise(n=n()) %>%\n",
    "      mutate(percent = n / sum(n) * 100) %>% rename(cat=race_eth_cat)\n",
    "\n",
    "    # ins\n",
    "    ins<-df %>% filter(!is.na(ins_cat)) %>% group_by(ins_cat) %>% summarise(n=n()) %>%\n",
    "      mutate(percent = n / sum(n) * 100) %>% rename(cat=ins_cat)\n",
    "\n",
    "    # income\n",
    "    income<-df %>% filter(!is.na(inc_cat)) %>% group_by(inc_cat) %>% summarise(n=n()) %>%\n",
    "      mutate(percent = n / sum(n) * 100) %>% rename(cat=inc_cat)\n",
    "\n",
    "    #all\n",
    "    summ<-rbind(age, gender, race, ins, income)\n",
    "    return(summ)\n",
    "}"
   ]
  },
  {
   "cell_type": "code",
   "execution_count": null,
   "metadata": {},
   "outputs": [],
   "source": [
    "acs_all<-run_acs_summary(all)\n",
    "acs_analysis<-run_acs_summary(data)\n",
    "\n",
    "write_csv(acs_all, 'all_of_us_acs_dist.csv', '/output/')\n",
    "write_csv(acs_analysis, 'analysis_acs_dist.csv', '/output/')"
   ]
  },
  {
   "cell_type": "markdown",
   "metadata": {},
   "source": [
    "### Get access rates by race"
   ]
  },
  {
   "cell_type": "code",
   "execution_count": null,
   "metadata": {},
   "outputs": [],
   "source": [
    "# all \n",
    "data %>% summarise(hi=mean(access), low=mean(low_access), \n",
    "                                      delayed=mean(delayed_ind), afford=mean(afford_ind))"
   ]
  },
  {
   "cell_type": "code",
   "execution_count": null,
   "metadata": {},
   "outputs": [],
   "source": [
    "# access rates by race \n",
    "bl<-data %>% group_by(black) %>% summarise(hi=mean(access), low=mean(low_access), \n",
    "                                      delayed=mean(delayed_ind), afford=mean(afford_ind))\n",
    "hisp<-data %>% group_by(is_latino) %>% summarise(hi=mean(access), low=mean(low_access), \n",
    "                                      delayed=mean(delayed_ind), afford=mean(afford_ind))\n",
    "white<-data %>% group_by(white) %>% summarise(hi=mean(access), low=mean(low_access), \n",
    "                                      delayed=mean(delayed_ind), afford=mean(afford_ind))\n",
    "\n",
    "bl\n",
    "hisp\n",
    "white"
   ]
  },
  {
   "cell_type": "code",
   "execution_count": null,
   "metadata": {},
   "outputs": [],
   "source": [
    "bl<-bl[bl$black == 1,]\n",
    "bl$group<-'black'\n",
    "hisp<-hisp[hisp$is_latino == 1,]\n",
    "hisp$group<-'hispanic'\n",
    "white<-white[white$white == 1,]\n",
    "white$group<-'white'\n",
    "\n",
    "all<-bind_rows(bl, hisp, white)"
   ]
  },
  {
   "cell_type": "code",
   "execution_count": null,
   "metadata": {},
   "outputs": [],
   "source": [
    "head(all)\n",
    "access_vars<-c('hi','low','delayed','afford')\n",
    "long <- all[,c('group',access_vars)] %>%\n",
    "  pivot_longer(cols = access_vars, \n",
    "               names_to = \"access_group\", \n",
    "               values_to = \"value\")"
   ]
  },
  {
   "cell_type": "code",
   "execution_count": null,
   "metadata": {},
   "outputs": [],
   "source": [
    " # add on p-value for comparing age, female, black, and hispanic\n",
    "t.test(AGE ~ noaccess, data=data)"
   ]
  },
  {
   "cell_type": "code",
   "execution_count": null,
   "metadata": {},
   "outputs": [],
   "source": [
    "chisq.test(table(data$fem, data$noaccess))"
   ]
  },
  {
   "cell_type": "code",
   "execution_count": null,
   "metadata": {},
   "outputs": [],
   "source": [
    "chisq.test(table(data$black, data$noaccess))"
   ]
  },
  {
   "cell_type": "code",
   "execution_count": null,
   "metadata": {},
   "outputs": [],
   "source": [
    "chisq.test(table(data$is_latino, data$noaccess))"
   ]
  },
  {
   "cell_type": "code",
   "execution_count": null,
   "metadata": {},
   "outputs": [],
   "source": [
    "# sample sizes for everything\n",
    "dim(data)"
   ]
  },
  {
   "cell_type": "code",
   "execution_count": null,
   "metadata": {},
   "outputs": [],
   "source": [
    "access<-load_data('access_byperson.csv', \"/survey/\")\n",
    "dim(access)"
   ]
  },
  {
   "cell_type": "markdown",
   "metadata": {},
   "source": [
    "# Summarize task sample"
   ]
  },
  {
   "cell_type": "code",
   "execution_count": null,
   "metadata": {},
   "outputs": [],
   "source": [
    "get_summary<-function(df, label){\n",
    "    summ<-df %>% summarize(delayed=mean(delayed_ind),\n",
    "                   afford=mean(afford_ind),\n",
    "                   hc_int_1yr=mean(hc_int_1_yr),\n",
    "                   hc_int_2yr=mean(hc_int_2_yr),\n",
    "                   age=mean(age),\n",
    "                   male=mean(male),\n",
    "                   fem=mean(fem),\n",
    "                   gender_other=mean(gender_other),\n",
    "                   white=mean(white),\n",
    "                   black=mean(black),\n",
    "                   asian=mean(asian),\n",
    "                   ai_an=mean(ai_an),\n",
    "                   race_unknown=mean(race_unknown),\n",
    "                   race_other=mean(race_other),\n",
    "                   is_latino=mean(is_latino),\n",
    "                   not_hispanic=mean(not_hispanic),\n",
    "                   eth_unknown=mean(ethnicity_unknown),\n",
    "                   ins_uninsured = mean(ins_uninsured),\n",
    "                   ins_medicare = mean(ins_medicare),\n",
    "                   ins_medicaid = mean(ins_medicaid),\n",
    "                   ins_employ = mean(ins_employ),\n",
    "                   ins_unknown = mean(ins_unknown),\n",
    "                   ins_other = mean(ins_other), \n",
    "                   inc_10 = mean(inc_10),\n",
    "                   inc_10_49 = mean(inc_10_49),\n",
    "                   inc_50_99 = mean(inc_50_99),\n",
    "                   inc_100_199 = mean(inc_100_199),\n",
    "                   inc_200 = mean(inc_200),\n",
    "                   inc_unknown = mean(inc_unknown),\n",
    "                   n=n(),\n",
    "                   y=mean(y))\n",
    "    \n",
    "    summ$group<-label\n",
    "    return(summ)\n",
    "}\n",
    "\n",
    "# group by and summarize -- overall, high access, low access (AND), delay, afford\n",
    "get_group_summary<-function(df, label, groupvar){\n",
    "    summ<-df %>% group_by({{ groupvar }}) %>% summarize(delayed=mean(delayed_ind),\n",
    "                  afford=mean(afford_ind),\n",
    "                   hc_int_1yr=mean(hc_int_1_yr),\n",
    "                   hc_int_2yr=mean(hc_int_2_yr),\n",
    "                   age=mean(age),\n",
    "                   male=mean(male),\n",
    "                   fem=mean(fem),\n",
    "                   gender_other=mean(gender_other),\n",
    "                   white=mean(white),\n",
    "                   black=mean(black),\n",
    "                   asian=mean(asian),\n",
    "                   ai_an=mean(ai_an),\n",
    "                   race_unknown=mean(race_unknown),\n",
    "                   race_other=mean(race_other),\n",
    "                   is_latino=mean(is_latino),\n",
    "                   not_hispanic=mean(not_hispanic),\n",
    "                   eth_unknown=mean(ethnicity_unknown),\n",
    "                   ins_uninsured = mean(ins_uninsured),\n",
    "                   ins_medicare = mean(ins_medicare),\n",
    "                   ins_medicaid = mean(ins_medicaid),\n",
    "                   ins_employ = mean(ins_employ),\n",
    "                   ins_unknown = mean(ins_unknown),\n",
    "                   ins_other = mean(ins_other), \n",
    "                   inc_10 = mean(inc_10),\n",
    "                   inc_10_49 = mean(inc_10_49),\n",
    "                   inc_50_99 = mean(inc_50_99),\n",
    "                   inc_100_199 = mean(inc_100_199),\n",
    "                   inc_200 = mean(inc_200),\n",
    "                   inc_unknown = mean(inc_unknown),\n",
    "                   n=n(),\n",
    "                   y=mean(y))\n",
    "    \n",
    "    summ$group<-label\n",
    "    return(summ)\n",
    "}"
   ]
  },
  {
   "cell_type": "markdown",
   "metadata": {},
   "source": [
    "## Diabetes"
   ]
  },
  {
   "cell_type": "code",
   "execution_count": null,
   "metadata": {},
   "outputs": [],
   "source": [
    "diab<-load_data('prediction_data_updt.csv', \"/diabetes/\")"
   ]
  },
  {
   "cell_type": "code",
   "execution_count": null,
   "metadata": {},
   "outputs": [],
   "source": [
    "keepvars<-c('person_id','y')\n",
    "diab<-diab[,keepvars]\n",
    "\n",
    "data_updt<-merge(data, diab, by='person_id')\n",
    "\n",
    "overall<-get_summary(data_updt, 'overall')\n",
    "\n",
    "data_updt$access<-ifelse(data_updt$afford_ind == 0 & data_updt$delayed_ind == 0, 1, 0)\n",
    "high_access<-get_summary(data_updt[data_updt$access == 1,], 'High Access')\n",
    "\n",
    "data_updt$low_access<-ifelse(data_updt$afford_ind == 1 & data_updt$delayed_ind == 1, 1, 0)\n",
    "low_access<-get_summary(data_updt[data_updt$low_access == 1,], 'Low Access')\n",
    "\n",
    "# afford\n",
    "afford<-get_summary(data_updt[data_updt$afford_ind == 1,], 'Affordability')\n",
    "\n",
    "# delay\n",
    "delay<-get_summary(data_updt[data_updt$delayed_ind == 1,], 'Delay')\n",
    "\n",
    "all<-rbind(overall, high_access, low_access, afford, delay)\n",
    "\n",
    "write_csv(all, 'diabetes_sample_char.csv', \"/output/\")"
   ]
  },
  {
   "cell_type": "markdown",
   "metadata": {},
   "source": [
    "# Self-Reported Conditions"
   ]
  },
  {
   "cell_type": "code",
   "execution_count": null,
   "metadata": {},
   "outputs": [],
   "source": [
    "# pull in self-reported data and merge with the sample frame \n",
    "self_tmp<-load_data('self_report_wide.csv', \"/survey/\")\n",
    "self<-merge(self_tmp, data, by='person_id')"
   ]
  },
  {
   "cell_type": "markdown",
   "metadata": {},
   "source": [
    "## Age-adjusted comparison of access groups"
   ]
  },
  {
   "cell_type": "code",
   "execution_count": null,
   "metadata": {},
   "outputs": [],
   "source": [
    "vars<-names(self)\n",
    "self_vars<-vars[grepl(\"self_\", vars)]\n",
    "self_vars<-self_vars[!(self_vars %in% c('self_survey_date','emp_self_employed',\n",
    "                                        'self_reported_category_concept_id','self_reported_category'))]"
   ]
  },
  {
   "cell_type": "code",
   "execution_count": null,
   "metadata": {},
   "outputs": [],
   "source": [
    "self$noaccess<-ifelse(self$afford_ind==1 & self$delayed_ind==1, 1, 0)"
   ]
  },
  {
   "cell_type": "code",
   "execution_count": null,
   "metadata": {},
   "outputs": [],
   "source": [
    "# create 3 groups - high access, low access, other\n",
    "self$access_groups_delay<-ifelse(self$afford_ind == 0 & self$delayed_ind == 0, 'High Access', \n",
    "                           ifelse(self$delayed_ind == 1, 'Delayed Care', 'Other'))\n",
    "\n",
    "self$access_groups_afford<-ifelse(self$afford_ind == 0 & self$delayed_ind == 0, 'High Access', \n",
    "                           ifelse(self$afford_ind == 1, 'Affordability', 'Other'))"
   ]
  },
  {
   "cell_type": "code",
   "execution_count": null,
   "metadata": {},
   "outputs": [],
   "source": [
    "# calculate age weights\n",
    "self$age_round<-round(self$age,-1)\n",
    "age_weights<-self %>% group_by(age_round) %>% summarize(weight = n() / nrow(self))\n",
    "\n",
    "# get counts for each condition \n",
    "counts<-colSums(self[,self_vars])\n",
    "counts_ord <- counts[order(counts, decreasing = TRUE)]"
   ]
  },
  {
   "cell_type": "code",
   "execution_count": null,
   "metadata": {},
   "outputs": [],
   "source": [
    "# create a function to do this by condition \n",
    "get_age_adj_prev<-function(df, cond){\n",
    "\n",
    "    # find prevalence within age groups\n",
    "    byage<-df %>% group_by(age_round, noaccess) %>% summarise(n=n(), \n",
    "                                                              prev=mean(.data[[cond]]),var=var(.data[[cond]]))\n",
    "    # merge in weights \n",
    "    byage<-merge(byage, age_weights, by='age_round')\n",
    "    \n",
    "    # age adj\n",
    "    ageadj<-byage %>% group_by(noaccess) %>% \n",
    "        summarize(n=sum(n), prev_wgt = sum(prev*weight), prev_var = sum(prev*weight^2)) %>% \n",
    "        mutate(prev_sd = sqrt(prev_var/n))\n",
    "    \n",
    "    # run age and gender-adjusted regression and get p-value\n",
    "    df$y<-df[[cond]]\n",
    "    \n",
    "    reg<-glm(y ~ noaccess + age, data=df, family=binomial)\n",
    "    pval<-summary(reg)$coefficients[\"noaccess\", \"Pr(>|z|)\"]\n",
    "    \n",
    "  \n",
    "    mean_standard <- round(ageadj[ageadj$noaccess == 0, 'prev_wgt'],3)\n",
    "    mean_low_access <- round(ageadj[ageadj$noaccess == 1, 'prev_wgt'],3)\n",
    "    \n",
    "    res<-as.data.frame(c(cond=cond, standard=mean_standard, low_access = mean_low_access, pval=pval))\n",
    "    return(res)\n",
    "}"
   ]
  },
  {
   "cell_type": "code",
   "execution_count": null,
   "metadata": {},
   "outputs": [],
   "source": [
    "# go through top 10 conditions and build dataset \n",
    "options(scipen = 999)\n",
    "top10<-names(counts_ord[1:10])\n",
    "adj_results<-data.frame()\n",
    "for (c in top10){\n",
    "    ret<-get_age_adj_prev(self, c)\n",
    "    adj_results<-rbind(adj_results, as.data.frame(ret))\n",
    "}\n",
    "\n",
    "# use BH correction \n",
    "adj_results$pval_adj<-p.adjust(adj_results$pval, method=\"BH\")\n",
    "options(digits = 7)\n",
    "adj_results$pval<-round(adj_results$pval, 7)\n",
    "adj_results$pval_adj<-round(adj_results$pval_adj, 7)\n",
    "adj_results\n",
    "write_csv(adj_results, 'age_adj_results.csv', '/output/')"
   ]
  }
 ],
 "metadata": {
  "kernelspec": {
   "display_name": "R",
   "language": "R",
   "name": "ir"
  },
  "language_info": {
   "codemirror_mode": "r",
   "file_extension": ".r",
   "mimetype": "text/x-r-source",
   "name": "R",
   "pygments_lexer": "r",
   "version": "4.5.0"
  },
  "toc": {
   "base_numbering": 1,
   "nav_menu": {},
   "number_sections": true,
   "sideBar": true,
   "skip_h1_title": false,
   "title_cell": "Table of Contents",
   "title_sidebar": "Contents",
   "toc_cell": false,
   "toc_position": {},
   "toc_section_display": true,
   "toc_window_display": false
  }
 },
 "nbformat": 4,
 "nbformat_minor": 2
}

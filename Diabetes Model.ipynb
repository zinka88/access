{
 "cells": [
  {
   "cell_type": "code",
   "execution_count": null,
   "metadata": {},
   "outputs": [],
   "source": [
    "# Title: Diabetes Model\n",
    "# Author: Anna Zink\n",
    "# Date: May 28, 2024\n",
    "# Description: Predict new diabetes incidence "
   ]
  },
  {
   "cell_type": "markdown",
   "metadata": {},
   "source": [
    "# Set Up"
   ]
  },
  {
   "cell_type": "code",
   "execution_count": null,
   "metadata": {
    "scrolled": false
   },
   "outputs": [],
   "source": [
    "library(viridis)    # A nice color scheme for plots.\n",
    "library(ggthemes)   # Common themes to change the look and feel of plots.\n",
    "library(scales)     # Graphical scales map data to aesthetics in plots.\n",
    "library(skimr)      # Better summaries of data.\n",
    "library(lubridate)  # Date library from the tidyverse.\n",
    "library(tidyverse)  # Data wrangling packages.\n",
    "library(bigrquery)  # Data extraction from Google BigQuery\n",
    "library(pROC)\n",
    "library(ranger)\n",
    "#library(xgboost)\n",
    "library(glmnet)\n",
    "library(cutpointr)\n",
    "library(caret)\n",
    "library(broom)\n",
    "library(data.table)\n",
    "library(matrixStats)\n",
    "library(janitor)\n",
    "\n",
    "# disable scientific notation (so you can read full ids)\n",
    "options(scipen = 999)"
   ]
  },
  {
   "cell_type": "markdown",
   "metadata": {},
   "source": [
    "## Helper Functions"
   ]
  },
  {
   "cell_type": "code",
   "execution_count": null,
   "metadata": {},
   "outputs": [],
   "source": [
    "load_data<-function(file, folder){\n",
    "    my_bucket <- Sys.getenv('WORKSPACE_BUCKET')\n",
    "    system(paste0(\"gsutil cp \", my_bucket, folder, file, \" .\"), intern=T)\n",
    "    dsn <- read_csv(file, show_col_types = FALSE)\n",
    "    return(dsn)\n",
    "}\n",
    "\n",
    "# Replace df with THE NAME OF YOUR DATAFRAME\n",
    "# folder = \"/ehr/\" \n",
    "write_csv<-function(df, fn, folder) {\n",
    "   my_dataframe <- df\n",
    "   destination_filename <- fn\n",
    "   write_excel_csv(my_dataframe, destination_filename)\n",
    "   my_bucket <- Sys.getenv('WORKSPACE_BUCKET')\n",
    "   system(paste0(\"gsutil cp ./\", destination_filename, \" \", my_bucket, folder), intern=T)\n",
    "}\n",
    "\n",
    "# get best cutoff from training data\n",
    "get_cutoff<-function(label, preds){\n",
    "    roc<-pROC::roc(label, preds)\n",
    "    msrs<-coords(roc, x=\"best\", input = \"threshold\", ret=c(\"threshold\"))\n",
    "    return(msrs[[\"threshold\"]])\n",
    "}\n",
    "\n",
    "\n",
    "get_msrs<-function(label, preds, pred_label, description) {\n",
    "    \n",
    "    msrs<-c()\n",
    "    roc<-pROC::roc(label, preds)\n",
    "    auc<-pROC::auc(roc)\n",
    "    auc_ci<-ci(auc)\n",
    "    \n",
    "    msrs['auc']<-auc\n",
    "    msrs['auc_lb']<-auc_ci[1]\n",
    "    msrs['auc_ub']<-auc_ci[3]\n",
    "    msrs['desc']<-description\n",
    "    msrs['n']<-length(label)\n",
    "      \n",
    "    conf_matrix <- table(Predicted = pred_label, Actual = label)\n",
    "    TP <- conf_matrix[2, 2]\n",
    "    TN <- conf_matrix[1, 1]\n",
    "    FP <- conf_matrix[2, 1]\n",
    "    FN <- conf_matrix[1, 2]\n",
    "    \n",
    "    sensitivity <- TP / (TP + FN)\n",
    "    specificity <- TN / (TN + FP)\n",
    "    precision <- TP / (TP + FP)\n",
    "    accuracy <- (TP + TN) / sum(conf_matrix)\n",
    "    f1_score <- 2 * ((precision * sensitivity) / (precision + sensitivity))\n",
    "\n",
    "    msrs['sensitivity']<-as.numeric(sensitivity)\n",
    "    msrs['specificity']<-as.numeric(specificity)\n",
    "    msrs['precision']<-as.numeric(precision)\n",
    "    msrs['accuracy']<-as.numeric(accuracy)\n",
    "    msrs['f1_score']<-as.numeric(f1_score)\n",
    "    \n",
    "    return(msrs)\n",
    "\n",
    "}\n"
   ]
  },
  {
   "cell_type": "markdown",
   "metadata": {
    "heading_collapsed": true
   },
   "source": [
    "# Create analytic dataset\n",
    "\n",
    "Predict whether someone developes type 2 diabetes. Use the date they entered the health survey (or access usrvey if that is missing) as the index date. Keep patients with index date 2018-2021 (2022 excluded bc they wont have a long enough follow-up window).\n",
    "\n",
    "Exclude members with evidence of diabetes as of the index date based on EHR conditions (all years) and lab measures (2016 on)."
   ]
  },
  {
   "cell_type": "markdown",
   "metadata": {
    "hidden": true
   },
   "source": [
    "##  Create sample and outcomes\n",
    "Start with everyoen in the sample and the date of the self report (if it exists)"
   ]
  },
  {
   "cell_type": "code",
   "execution_count": null,
   "metadata": {
    "hidden": true
   },
   "outputs": [],
   "source": [
    "# load data  \n",
    "sample<-load_data('analysis_sample.csv', \"/analysis/\")\n",
    "\n",
    "# get date of self-reported condition\n",
    "self_date<-load_data('self_reported_health_byperson.csv', \"/survey/\")\n",
    "dups<-self_date %>% group_by(person_id) %>% summarize(n=n(), self_date=min(survey_date))\n",
    "\n",
    "sample<-merge(sample, dups[,c('person_id','self_date')], all.x=TRUE)\n",
    "\n",
    "# set the index date as the date they filled out the self-report data (or maxdate of access)\n",
    "sample$index_date<-ifelse(!is.na(sample$self_date), as.Date(sample$self_date), as.Date(sample$maxdate))\n",
    "sample$index_date<-as.Date(sample$index_date)\n",
    "\n",
    "# find observation period (data ends on 07/01/22)\n",
    "# https://support.researchallofus.org/hc/en-us/articles/360033200232-Data-Dictionaries-for-the-Curated-Data-Repositories-CDRs\n",
    "sample$obs_window<-as.numeric(difftime(as.Date(\"2023-10-1\"), sample$index_date, units = \"days\"))\n",
    "\n",
    "# keep people with at least 2-year window\n",
    "sample_sub<-sample[sample$obs_window>=730,]"
   ]
  },
  {
   "cell_type": "markdown",
   "metadata": {
    "heading_collapsed": true,
    "hidden": true
   },
   "source": [
    "### Load diabetes diagnosis and lab dates"
   ]
  },
  {
   "cell_type": "code",
   "execution_count": null,
   "metadata": {
    "hidden": true
   },
   "outputs": [],
   "source": [
    "### Create criteria for diabetes (conditions)\n",
    "diab_dgn<-load_data(\"diabetes_dgn_dates.csv\", \"/diabetes/\")\n",
    "diab_lab<-load_data(\"hba1c_glucose_readings.csv\", \"/ehr/\")\n",
    "\n",
    "# update condition data so I can join it with lab data\n",
    "keepvars<-c('person_id','measurement_datetime','value_updt','diabetes','source')\n",
    "diab_dgn$measurement_datetime<-diab_dgn$condition_start_datetime\n",
    "diab_dgn$value_updt<-1\n",
    "diab_dgn$diabetes<-1\n",
    "diab_dgn$source<-'Diagnosis'\n",
    "diab_dgn<-diab_dgn[,keepvars]\n",
    "\n",
    "# combine two sources \n",
    "diab_tests<-rbind(diab_dgn, diab_lab)\n",
    "diab_tests$diab_date<-as.Date(diab_tests$measurement_datetime)"
   ]
  },
  {
   "cell_type": "code",
   "execution_count": null,
   "metadata": {
    "hidden": true
   },
   "outputs": [],
   "source": [
    "# flag anyone with a lab in the pre-period\n",
    "has_labs<-merge(sample_sub, diab_lab, by='person_id')\n",
    "has_labs$has_labs<-ifelse(has_labs$measurement_datetime < has_labs$index_date, 1, 0)\n",
    "has_labs<-has_labs %>% group_by(person_id) %>% summarise(has_labs=max(has_labs))\n",
    "has_labs<-has_labs[has_labs$has_labs == 1,]"
   ]
  },
  {
   "cell_type": "markdown",
   "metadata": {
    "hidden": true
   },
   "source": [
    "### Exclude anyone with a diabetes diagnosis\n",
    "\n",
    "- at least 1 type 2 diagnosis\n",
    "- at least 1 hba1c or fasting glucose measures above clinical criteria\n",
    "- at least 2 random glucose measures above clinical criteria"
   ]
  },
  {
   "cell_type": "code",
   "execution_count": null,
   "metadata": {
    "hidden": true
   },
   "outputs": [],
   "source": [
    "# subset to positive values\n",
    "diab_dates<-diab_tests[!is.na(diab_tests$diabetes) & diab_tests$diabetes == 1,]\n",
    "\n",
    "# for random glucose require confirmatory test so only take the second value \n",
    "diab_dates<-diab_dates %>% arrange(person_id, source, diab_date) %>%\n",
    "                        group_by(person_id,source) %>% mutate(rank=row_number()) %>% ungroup()\n",
    "\n",
    "# mark a diagnosis if first record of \n",
    "diab_dates$qual_diag_flag<-ifelse(diab_dates$source %in% \n",
    "                                  c(\"random glucose\",\"Diagnosis\",\"fasting glucose\",\"HbA1c\") \n",
    "                                  & diab_dates$rank == 1, 1,0)\n",
    "\n",
    "# subset to qualifying diagnoses and dedup \n",
    "diab_dgn_dates<- diab_dates[diab_dates$qual_diag_flag == 1,]\n",
    "diab_dgn_dates<- diab_dgn_dates %>% group_by(person_id) %>% slice_min(order_by = diab_date, n=1) %>% ungroup()\n",
    "\n",
    "# subset to people in the sample \n",
    "merged<-merge(sample_sub, diab_dgn_dates, by='person_id', all.x=TRUE)\n",
    "\n",
    "# flag peple with evidence of diabetes before the index date\n",
    "merged$pre<-ifelse(is.na(merged$diab_date), 0, \n",
    "            ifelse(merged$diab_date < merged$index_date, 1, 0))"
   ]
  },
  {
   "cell_type": "code",
   "execution_count": null,
   "metadata": {
    "hidden": true
   },
   "outputs": [],
   "source": [
    "dim(merged)\n",
    "no_diabetes<-merged[merged$pre == 0, ]\n",
    "dim(no_diabetes)"
   ]
  },
  {
   "cell_type": "code",
   "execution_count": null,
   "metadata": {
    "hidden": true
   },
   "outputs": [],
   "source": [
    "# define outcomes \n",
    "no_diabetes$time_to_dgn<-as.numeric(difftime(no_diabetes$diab_date, no_diabetes$index_date, units = \"days\"))\n",
    "\n",
    "no_diabetes$y<-ifelse(is.na(no_diabetes$time_to_dgn), 0,\n",
    "                  ifelse(no_diabetes$time_to_dgn < 730, 1, 0))\n",
    "\n",
    "keepvars<-c('person_id','index_date','diab_date','time_to_dgn','y')\n",
    "write_csv(no_diabetes[,keepvars], 'diabetes_sample.csv', \"/diabetes/\")"
   ]
  },
  {
   "cell_type": "markdown",
   "metadata": {
    "hidden": true
   },
   "source": [
    "## Create predictors\n",
    "\n",
    "Include time component by flagging things that occur in the last 3 months, last year, last 2 years\n",
    "\n",
    "- Conditions with occuring for at least 1% of sample \n",
    "- Measures \n",
    "- Drugs"
   ]
  },
  {
   "cell_type": "code",
   "execution_count": null,
   "metadata": {
    "hidden": true
   },
   "outputs": [],
   "source": [
    "# load sample\n",
    "sample<-load_data('diabetes_sample.csv',\"/diabetes/\")\n",
    "# create beginning period for predictors (2 year lookback window)\n",
    "sample$start_window<-sample$index_date - lubridate::years(2)\n",
    "head(sample)"
   ]
  },
  {
   "cell_type": "markdown",
   "metadata": {
    "hidden": true
   },
   "source": [
    "### Conditions"
   ]
  },
  {
   "cell_type": "code",
   "execution_count": null,
   "metadata": {
    "hidden": true
   },
   "outputs": [],
   "source": [
    "# pull in condition data from 2016-2021\n",
    "ehr_conditions<-data.frame()\n",
    "for (yr in seq(2016, 2021)) {\n",
    "    conds<-load_data(paste0('conditions_', yr, '.csv'), \"/ehr/\")\n",
    "    keepconds<-c('PERSON_ID','CONDITION_NAME','CONDITION_START_DATE')\n",
    "    sample_conds<-merge(conds[,keepconds], sample, by.x=c('PERSON_ID'), by.y='person_id')\n",
    "    # keep rows within 2 years of the index date \n",
    "    sample_conds<-sample_conds[sample_conds$CONDITION_START_DATE >= sample_conds$start_window & \n",
    "                               sample_conds$CONDITION_START_DATE < sample_conds$index_date,]\n",
    "    ehr_conditions<-rbind(ehr_conditions, sample_conds)\n",
    "}\n",
    "dim(ehr_conditions)"
   ]
  },
  {
   "cell_type": "code",
   "execution_count": null,
   "metadata": {
    "hidden": true
   },
   "outputs": [],
   "source": [
    "# dedup by personid and condition\n",
    "ehr_conditions<- ehr_conditions %>% group_by(PERSON_ID, CONDITION_NAME) %>% summarize(nenc = n())\n",
    "\n",
    "# find # of occurences for each condition (and pct in the sample) and limit to conditions with at least 1% \n",
    "conditions<- ehr_conditions %>% group_by(CONDITION_NAME) %>% \n",
    "summarize(nobs=n(), n=n_distinct(PERSON_ID))  %>% \n",
    "arrange(desc(n))\n",
    "npeople<- length(unique(ehr_conditions$PERSON_ID))\n",
    "conditions$pct<-conditions$n/npeople\n",
    "subconds<-conditions[conditions$pct>=.01,]\n",
    "subconds$cond_short<-gsub(\" \", \"_\", subconds$CONDITION_NAME)\n",
    "subconds$cond_short<-gsub(\"[^[:alnum:]_]\", \"\", subconds$cond_short)\n",
    "\n",
    "ehr<-merge(ehr_conditions, subconds, by='CONDITION_NAME')"
   ]
  },
  {
   "cell_type": "code",
   "execution_count": null,
   "metadata": {
    "hidden": true
   },
   "outputs": [],
   "source": [
    "# create a set of wide conditions\n",
    "conditions<-subconds$cond_short\n",
    "for (i in 1:length(conditions)) {\n",
    "    condition<-conditions[i]\n",
    "    \n",
    "    varname1<-paste0('dx_',  condition)\n",
    "    \n",
    "    ehr[, varname1]<-ifelse(ehr$cond_short == condition, 1, 0)\n",
    "        \n",
    "}"
   ]
  },
  {
   "cell_type": "code",
   "execution_count": null,
   "metadata": {
    "hidden": true
   },
   "outputs": [],
   "source": [
    "vars<-names(ehr)\n",
    "dxvars<-vars[grepl('dx_',vars)]\n",
    "keepvars<-c('PERSON_ID', dxvars)\n",
    "ehr<-ehr[,keepvars]\n",
    "dim(ehr)"
   ]
  },
  {
   "cell_type": "code",
   "execution_count": null,
   "metadata": {
    "hidden": true
   },
   "outputs": [],
   "source": [
    "# Convert to data.table so it is more efficient \n",
    "dt <- as.data.table(ehr)\n",
    "numeric_cols <- names(dt)[sapply(dt, is.numeric)]\n",
    "byperson <- dt[, lapply(.SD, max, na.rm = TRUE), by = PERSON_ID, .SDcols = numeric_cols]"
   ]
  },
  {
   "cell_type": "code",
   "execution_count": null,
   "metadata": {
    "hidden": true
   },
   "outputs": [],
   "source": [
    "# creates duplicate PERSON_ID so drop and then rename\n",
    "byperson<-byperson[,-2]\n",
    "byperson <- byperson %>% rename(person_id=PERSON_ID)"
   ]
  },
  {
   "cell_type": "code",
   "execution_count": null,
   "metadata": {
    "hidden": true
   },
   "outputs": [],
   "source": [
    "# save \n",
    "write_csv(byperson, 'diabetes_dx.csv', \"/diabetes/\")"
   ]
  },
  {
   "cell_type": "markdown",
   "metadata": {
    "hidden": true
   },
   "source": [
    "### Measures"
   ]
  },
  {
   "cell_type": "code",
   "execution_count": null,
   "metadata": {
    "hidden": true
   },
   "outputs": [],
   "source": [
    "# pull in measures from 2016-2021\n",
    "ehr_msrs<-data.frame()\n",
    "for (yr in seq(2016, 2021)) {\n",
    "    msrs<-load_data(paste0('msrs_features_', yr, '.csv'), \"/ehr/\")\n",
    "    print(yr)\n",
    "    msrs<-msrs[!is.na(msrs$MEASUREMENT_DATE),]\n",
    "    sample_msrs<-merge(msrs, sample, by.x=c('PERSON_ID'), by.y='person_id')\n",
    "    # keep rows within 2 years of the index date \n",
    "    sample_msrs<-sample_msrs[sample_msrs$MEASUREMENT_DATE >= sample_msrs$start_window & \n",
    "                               sample_msrs$MEASUREMENT_DATE < sample_msrs$index_date,]\n",
    "    ehr_msrs<-rbind(ehr_msrs, sample_msrs)\n",
    "}"
   ]
  },
  {
   "cell_type": "code",
   "execution_count": null,
   "metadata": {
    "hidden": true
   },
   "outputs": [],
   "source": [
    "# hr, rr, bp\n",
    "# pull in measures from 2016-2021\n",
    "hr_msrs<-data.frame()\n",
    "for (yr in seq(2016, 2021)) {\n",
    "    msrs<-load_data(paste0('hr_features_', yr, '.csv'), \"/ehr/\")\n",
    "    msrs<-msrs[!is.na(msrs$MEASUREMENT_DATE),]\n",
    "    sample_msrs<-merge(msrs, sample, by.x=c('PERSON_ID'), by.y='person_id')\n",
    "    # keep rows within 2 years of the index date \n",
    "    sample_msrs<-sample_msrs[sample_msrs$MEASUREMENT_DATE >= sample_msrs$start_window & \n",
    "                               sample_msrs$MEASUREMENT_DATE < sample_msrs$index_date,]\n",
    "    hr_msrs<-rbind(hr_msrs, sample_msrs)\n",
    "}"
   ]
  },
  {
   "cell_type": "code",
   "execution_count": null,
   "metadata": {
    "hidden": true
   },
   "outputs": [],
   "source": [
    "rr_msrs<-data.frame()\n",
    "for (yr in seq(2016, 2021)) {\n",
    "    msrs<-load_data(paste0('rr_features_', yr, '.csv'), \"/ehr/\")\n",
    "    msrs<-msrs[!is.na(msrs$MEASUREMENT_DATE),]\n",
    "    sample_msrs<-merge(msrs, sample, by.x=c('PERSON_ID'), by.y='person_id')\n",
    "    # keep rows within 2 years of the index date \n",
    "    sample_msrs<-sample_msrs[sample_msrs$MEASUREMENT_DATE >= sample_msrs$start_window & \n",
    "                               sample_msrs$MEASUREMENT_DATE < sample_msrs$index_date,]\n",
    "    rr_msrs<-rbind(rr_msrs, sample_msrs)\n",
    "}"
   ]
  },
  {
   "cell_type": "code",
   "execution_count": null,
   "metadata": {
    "hidden": true
   },
   "outputs": [],
   "source": [
    "bp_msrs<-data.frame()\n",
    "for (yr in seq(2016, 2021)) {\n",
    "    msrs<-load_data(paste0('bp_features_', yr, '.csv'), \"/ehr/\")\n",
    "    msrs<-msrs[!is.na(msrs$MEASUREMENT_DATE),]\n",
    "    sample_msrs<-merge(msrs, sample, by.x=c('PERSON_ID'), by.y='person_id')\n",
    "    # keep rows within 2 years of the index date \n",
    "    sample_msrs<-sample_msrs[sample_msrs$MEASUREMENT_DATE >= sample_msrs$start_window & \n",
    "                               sample_msrs$MEASUREMENT_DATE < sample_msrs$index_date,]\n",
    "    bp_msrs<-rbind(bp_msrs, sample_msrs)\n",
    "}"
   ]
  },
  {
   "cell_type": "code",
   "execution_count": null,
   "metadata": {
    "hidden": true
   },
   "outputs": [],
   "source": [
    "# force all the measures together\n",
    "ehr_msrs<-bind_rows(ehr_msrs, hr_msrs, rr_msrs, bp_msrs)\n",
    "\n",
    "# remove missing person id and set the remaining misisng values to zero \n",
    "ehr_msrs<-ehr_msrs[!is.na(ehr_msrs$PERSON_ID),]\n",
    "ehr_msrs[is.na(ehr_msrs)] <- 0"
   ]
  },
  {
   "cell_type": "code",
   "execution_count": null,
   "metadata": {
    "hidden": true
   },
   "outputs": [],
   "source": [
    "keepvars<-c('PERSON_ID', 'obesity','hypocalcemia','hypercalcemia',\n",
    "            'hypochloremia','hyperchloremia','creatine','high_blood_pressure',\n",
    "            'prediabetes_gluc_fast','prediabetes_hba1c','triglyceride_high',\n",
    "            'tachycardia','anemia','high_hemo','hypoxemia','hyperkalemia',\n",
    "            'hypokalemia','tachypneic','bradypnea','hypernatremia','hyponatremia','low_urea','high_urea')\n",
    "\n",
    "ehr_msrs_updt <- ehr_msrs[,keepvars] %>% group_by(PERSON_ID) %>% \n",
    "        summarize(across(everything(), ~ max(.x, na.rm = TRUE))) %>% rename(person_id = PERSON_ID)"
   ]
  },
  {
   "cell_type": "code",
   "execution_count": null,
   "metadata": {
    "hidden": true
   },
   "outputs": [],
   "source": [
    "# save \n",
    "write_csv(ehr_msrs_updt, 'diabetes_msrs.csv', \"/diabetes/\")"
   ]
  },
  {
   "cell_type": "markdown",
   "metadata": {
    "hidden": true
   },
   "source": [
    "### Drugs\n",
    "\n",
    "create indicator for ATC_2ND classification which is approx. 92 classes"
   ]
  },
  {
   "cell_type": "code",
   "execution_count": null,
   "metadata": {
    "hidden": true
   },
   "outputs": [],
   "source": [
    " atc<-load_data('atc_classes.csv',\"/ehr/\")"
   ]
  },
  {
   "cell_type": "code",
   "execution_count": null,
   "metadata": {
    "hidden": true
   },
   "outputs": [],
   "source": [
    "# pull in measures from 2018-2021 \n",
    "ehr_drugs<-data.frame()\n",
    "for (yr in seq(2016, 2021)) {\n",
    "    drugs<-load_data(paste0('drugs_', yr, '.csv'), \"/ehr/\")\n",
    "    drugs<-drugs[!is.na(drugs$DRUG_EXPOSURE_START_DATE),c('PERSON_ID','DRUG_CONCEPT_ID','DRUG_EXPOSURE_START_DATE')]\n",
    "    sample_drugs<-merge(drugs, sample, by.x=c('PERSON_ID'), by.y='person_id')       \n",
    "    # keep rows within 2 years of the index date \n",
    "    sample_drugs<-sample_drugs[sample_drugs$DRUG_EXPOSURE_START_DATE >= sample_drugs$start_window & \n",
    "                               sample_drugs$DRUG_EXPOSURE_START_DATE < sample_drugs$index_date,]\n",
    "    \n",
    "    # summarise n drugs by class \n",
    "    sample_drugs<-merge(sample_drugs, atc, by='DRUG_CONCEPT_ID')\n",
    "    class_count <- sample_drugs %>% select(PERSON_ID, ATC_2nd) %>% group_by(PERSON_ID, ATC_2nd) %>% summarize(n=n())\n",
    "    \n",
    "    ehr_drugs<-rbind(ehr_drugs, class_count)\n",
    "}"
   ]
  },
  {
   "cell_type": "code",
   "execution_count": null,
   "metadata": {
    "hidden": true
   },
   "outputs": [],
   "source": [
    "# merge in atc classes (drop drugs without atc classes since we are creating an indicator for drug classes)\n",
    "classes <- ehr_drugs %>% group_by(PERSON_ID, ATC_2nd) %>% summarize(n=sum(n))"
   ]
  },
  {
   "cell_type": "code",
   "execution_count": null,
   "metadata": {
    "hidden": true
   },
   "outputs": [],
   "source": [
    "classes$any<-ifelse(classes$n>0, 1,0)"
   ]
  },
  {
   "cell_type": "code",
   "execution_count": null,
   "metadata": {
    "hidden": true
   },
   "outputs": [],
   "source": [
    "classes_wide<- classes %>% \n",
    "    mutate(\n",
    "    atc = str_replace_all(ATC_2nd, \" \", \"_\"),    # replace spaces with _              # shorten (keep first 6 chars, e.g. \"C07_Be\")\n",
    "    atc2 = paste0(\"atc_\", ATC_2nd)                # add prefix\n",
    "  ) %>% select(PERSON_ID, atc2, any) %>%\n",
    "  pivot_wider(\n",
    "    names_from = atc2,\n",
    "    values_from = any,\n",
    "    values_fill = 0)"
   ]
  },
  {
   "cell_type": "code",
   "execution_count": null,
   "metadata": {
    "hidden": true
   },
   "outputs": [],
   "source": [
    "classes_wide <- classes_wide %>% rename(person_id = PERSON_ID)"
   ]
  },
  {
   "cell_type": "code",
   "execution_count": null,
   "metadata": {
    "hidden": true
   },
   "outputs": [],
   "source": [
    "# drop atc classes appearing less than 1% of the time \n",
    "means <- colMeans(classes_wide, na.rm = TRUE)\n",
    "low_cols <- names(means[means < 0.01])\n",
    "classes_wide <- classes_wide %>% select(-all_of(low_cols))"
   ]
  },
  {
   "cell_type": "code",
   "execution_count": null,
   "metadata": {
    "hidden": true
   },
   "outputs": [],
   "source": [
    "# save \n",
    "write_csv(classes_wide, 'diabetes_drugs.csv', \"/diabetes/\")"
   ]
  },
  {
   "cell_type": "markdown",
   "metadata": {
    "hidden": true
   },
   "source": [
    "### SES data\n",
    "\n",
    "- insurance indicators\n",
    "- household income indicators\n",
    "- ACS zipc-code SES metrics"
   ]
  },
  {
   "cell_type": "code",
   "execution_count": null,
   "metadata": {
    "hidden": true
   },
   "outputs": [],
   "source": [
    "# load in demographics and census level data \n",
    "all<-load_data('all_participant_demo.csv',\"/data/\")\n",
    "ses<-merge(all, sample, by='person_id') \n",
    "ses <- clean_names(ses)\n",
    "\n",
    "ses$ins_uninsured<-ifelse(ses$ins_none == 1 | ses$ins_indian ==1 | ses$anyins_no == 1, 1, 0)\n",
    "ses$ins_medicare<-ses$ins_medicare\n",
    "ses$ins_medicaid<-ses$ins_medicaid\n",
    "ses$ins_employ<-ses$ins_employer_or_union\n",
    "ses$ins_unknown<-ifelse(ses$ins_pmi_skip ==1 | ses$ins_invalid ==1, 1, 0)\n",
    "ses$ins_other<-ifelse(ses$ins_va == 1 | ses$ins_military == 1 | \n",
    "                      ses$ins_purchased == 1 | ses$ins_other_health_plan == 1, 1, 0)\n",
    "\n",
    "# household income \n",
    "ses$inc_10<-ses$inc_less_10k\n",
    "ses$inc_10_49<-ifelse(ses$inc_10k_25k == 1 | ses$inc_25k_35k == 1 | ses$inc_35k_50k == 1, 1, 0)\n",
    "ses$inc_50_99<-ifelse(ses$inc_50k_75k == 1 | ses$inc_75k_100k == 1, 1, 0)\n",
    "ses$inc_100_199<-ifelse(ses$inc_100k_150k == 1 | ses$inc_150k_200k == 1, 1, 0)\n",
    "ses$inc_200<-ses$inc_more_200k\n",
    "ses$inc_unknown<-ses$inc_skip_unknown\n",
    "\n",
    "# ACS info (poverty, vacant_housing, deprivation_index, high_school_education)\n",
    "ses$zip_poverty<-ifelse(is.na(ses$poverty), mean(ses$poverty, na.rm=TRUE), ses$poverty)\n",
    "ses$zip_vac_housing<-ifelse(is.na(ses$vacant_housing), mean(ses$vacant_housing, na.rm=TRUE), ses$vacant_housing)\n",
    "ses$zip_dep_index<-ifelse(is.na(ses$deprivation_index), mean(ses$deprivation_index, na.rm=TRUE), ses$deprivation_index)\n",
    "ses$zip_hs<-ifelse(is.na(ses$high_school_education), mean(ses$high_school_education, na.rm=TRUE), ses$high_school_education)\n",
    "\n",
    "# save variables and write to csv \n",
    "ins_vars<-c('ins_uninsured','ins_medicare','ins_medicaid','ins_employ','ins_unknown','ins_other')\n",
    "inc_vars<-c('inc_10','inc_10_49','inc_50_99','inc_100_199','inc_200')\n",
    "zip_vars<-c('zip_poverty','zip_vac_housing','zip_dep_index','zip_hs')\n",
    "ses_vars<-c(ins_vars, inc_vars, zip_vars)\n",
    "\n",
    "write_csv(ses[,c('person_id',ses_vars)], \"diabetes_ses.csv\", \"/diabetes/\")"
   ]
  },
  {
   "cell_type": "markdown",
   "metadata": {
    "hidden": true
   },
   "source": [
    "### Visits data \n",
    "\n",
    "Flag people who have had a visit in the pre-period and/or visit in the observation window. "
   ]
  },
  {
   "cell_type": "code",
   "execution_count": null,
   "metadata": {
    "hidden": true
   },
   "outputs": [],
   "source": [
    "sample_ids<-unique(sample$person_id)\n",
    "visits<-load_data('visits_16_23.csv', '/ehr/')\n",
    "visits<-visits %>% filter(PERSON_ID %in% sample_ids)"
   ]
  },
  {
   "cell_type": "code",
   "execution_count": null,
   "metadata": {
    "hidden": true
   },
   "outputs": [],
   "source": [
    "visits_sub<-merge(visits, sample[,c('person_id','start_window','index_date')], by.x='PERSON_ID', by.y='person_id')"
   ]
  },
  {
   "cell_type": "code",
   "execution_count": null,
   "metadata": {
    "hidden": true
   },
   "outputs": [],
   "source": [
    "visits_sub$end_window<-visits_sub$index_date + lubridate::years(2)\n",
    "\n",
    "# flag if visits fell in the predictor window\n",
    "visits_sub$predictor_flag<-ifelse(visits_sub$VISIT_END_DATE >= visits_sub$start_window &\n",
    "                                  visits_sub$VISIT_END_DATE < visits_sub$index_date, 1, 0)\n",
    "\n",
    "# flag if visit feel in the outcome window \n",
    "visits_sub$outcome_flag<-ifelse(visits_sub$VISIT_END_DATE >= visits_sub$index_date & \n",
    "                               visits_sub$VISIT_END_DATE < visits_sub$end_window, 1, 0)"
   ]
  },
  {
   "cell_type": "code",
   "execution_count": null,
   "metadata": {
    "hidden": true
   },
   "outputs": [],
   "source": [
    "visit_byperson<-visits_sub %>% group_by(PERSON_ID) %>% summarise(visit_pred_flag=max(predictor_flag),\n",
    "                                                 visit_y_flag=max(outcome_flag))"
   ]
  },
  {
   "cell_type": "code",
   "execution_count": null,
   "metadata": {
    "hidden": true
   },
   "outputs": [],
   "source": [
    "write_csv(visit_byperson, 'diabetes_visits.csv', \"/diabetes/\")"
   ]
  },
  {
   "cell_type": "markdown",
   "metadata": {
    "hidden": true
   },
   "source": [
    "## Create analytic dataset"
   ]
  },
  {
   "cell_type": "code",
   "execution_count": null,
   "metadata": {
    "hidden": true
   },
   "outputs": [],
   "source": [
    "# load sample (base dataset) \n",
    "sample<-load_data('diabetes_sample.csv',\"/diabetes/\")"
   ]
  },
  {
   "cell_type": "code",
   "execution_count": null,
   "metadata": {
    "hidden": true
   },
   "outputs": [],
   "source": [
    "# merge in access data\n",
    "access<-load_data('analysis_sample.csv', \"/analysis/\")\n",
    "keepvars<-c('person_id','afford','delayed','afford_ind','delayed_ind')\n",
    "access<-access[,keepvars]\n",
    "sample<-merge(sample, access, by='person_id')"
   ]
  },
  {
   "cell_type": "code",
   "execution_count": null,
   "metadata": {
    "hidden": true
   },
   "outputs": [],
   "source": [
    "# merge in self reported conditions & flag people who responded to the healht survey \n",
    "self<-load_data('self_reported_health_byperson.csv', \"/survey/\")\n",
    "names(self)<-paste0(\"self_\", names(self))\n",
    "in_self<-load_data('answered_self_reported_health.csv', \"/survey/\")\n",
    "sample<-merge(sample, self, by.x='person_id', by.y='self_person_id',all.x=TRUE)\n",
    "in_self$in_self<-1\n",
    "sample<-merge(sample, in_self, by='person_id', all.x=TRUE)\n",
    "sample$self_missing<-ifelse(is.na(sample$in_self), 1, 0)"
   ]
  },
  {
   "cell_type": "code",
   "execution_count": null,
   "metadata": {
    "hidden": true
   },
   "outputs": [],
   "source": [
    "# merge in demographics & calculate age based on index date \n",
    "demo<-load_data('demographics.csv', \"/survey/\")\n",
    "demo$birth_date<-ymd(paste0(demo$YEAR_OF_BIRTH, '-1-1'))\n",
    "keepvars<-c('PERSON_ID','RACE','GENDER','ETHNICITY','birth_date')\n",
    "sample<-merge(sample, demo[,keepvars], by.x='person_id',by.y='PERSON_ID', all.x=TRUE)\n",
    "sample$AGE <- as.integer(interval(sample$birth_date, sample$index_date) / years(1))\n",
    "sample$scaled_age<-as.numeric(scale(sample$AGE))"
   ]
  },
  {
   "cell_type": "code",
   "execution_count": null,
   "metadata": {
    "hidden": true
   },
   "outputs": [],
   "source": [
    "# add in clinical info\n",
    "dx<-load_data('diabetes_dx.csv', \"/diabetes/\")\n",
    "msrs<-load_data('diabetes_msrs.csv', \"/diabetes/\")\n",
    "drugs<-load_data('diabetes_drugs.csv', \"/diabetes/\")\n",
    "ses<-load_data('diabetes_ses.csv',\"/diabetes/\")\n",
    "vis<-load_data('diabetes_visits.csv',\"/diabetes/\")\n",
    "sample<-merge(sample, dx, by='person_id', all.x=TRUE)\n",
    "sample<-merge(sample, msrs, by='person_id', all.x=TRUE)\n",
    "sample<-merge(sample, drugs, by='person_id', all.x=TRUE)\n",
    "sample<-merge(sample, ses, by='person_id', all.x=TRUE)\n",
    "sample<-merge(sample, vis, by.x='person_id', by.y='PERSON_ID',all.x=TRUE)"
   ]
  },
  {
   "cell_type": "code",
   "execution_count": null,
   "metadata": {
    "hidden": true
   },
   "outputs": [],
   "source": [
    "# replace all missing values with zero \n",
    "sample[is.na(sample)] <- 0"
   ]
  },
  {
   "cell_type": "code",
   "execution_count": null,
   "metadata": {
    "hidden": true
   },
   "outputs": [],
   "source": [
    "# save\n",
    "write_csv(sample, 'analysis_data_updt.csv', \"/diabetes/\")"
   ]
  },
  {
   "cell_type": "markdown",
   "metadata": {
    "heading_collapsed": true
   },
   "source": [
    "# Summarize Data"
   ]
  },
  {
   "cell_type": "code",
   "execution_count": null,
   "metadata": {
    "hidden": true
   },
   "outputs": [],
   "source": [
    "data<-load_data('analysis_data_updt.csv', \"/diabetes/\")"
   ]
  },
  {
   "cell_type": "code",
   "execution_count": null,
   "metadata": {
    "hidden": true
   },
   "outputs": [],
   "source": [
    "# add in variable names \n",
    "data$noaccess<-ifelse(data$afford_ind | data$delayed_ind, 1, 0)\n",
    "data$hi_access<-ifelse(data$afford_ind == 0 & data$delayed_ind == 0, 1, 0)\n",
    "data$low_access<-ifelse(data$afford_ind == 1 & data$delayed_ind == 1, 1, 0)\n",
    "data$male<-ifelse(data$GENDER == \"Male\", 1, 0)\n",
    "data$fem<-ifelse(data$GENDER == \"Female\", 1, 0)\n",
    "data$gender_other<-ifelse(!(data$fem | data$male), 1, 0)\n",
    "data$white<-ifelse(data$RACE == \"White\", 1, 0)\n",
    "data$black<-ifelse(data$RACE == \"Black or African American\", 1, 0)\n",
    "data$race_unknown<-ifelse(data$RACE %in% c('None Indicated','MPI: Skip','I prefer not to answer'), 1, 0)\n",
    "data$asian<-ifelse(data$RACE == 'Asian', 1, 0)\n",
    "data$ai_an<-ifelse(data$RACE == 'American Indian or Alaska Native', 1, 0)\n",
    "data$race_other<-ifelse(data$RACE %in% c('More than one population',\n",
    "                                         'None of these',\n",
    "                                         'Middle Eastern or North African',\n",
    "                                        'Native Hawaiian or Other Pacific Islander'), 1, 0)\n",
    "data$is_latino<-ifelse(data$ETHNICITY == \"Hispanic or Latino\", 1, 0)\n",
    "data$not_hispanic<-ifelse(data$ETHNICITY == 'Not Hispanic or Latino',1,0)\n",
    "data$ethnicity_unknown<-ifelse(!(data$ETHNICITY %in% c(\"Hispanic or Latino\",'Not Hispanic or Latino')), 1, 0)"
   ]
  },
  {
   "cell_type": "code",
   "execution_count": null,
   "metadata": {
    "hidden": true
   },
   "outputs": [],
   "source": [
    "# there are a few duplicate IDs (multiple survey dates) - remove\n",
    "data <- data %>%\n",
    "  arrange(person_id) %>% # Sort by ID and Date\n",
    "  group_by(person_id) %>% # Group by ID\n",
    "  dplyr::slice(1) %>% # Take the first row of each group\n",
    "  ungroup() # Ungroup the data"
   ]
  },
  {
   "cell_type": "code",
   "execution_count": null,
   "metadata": {
    "hidden": true
   },
   "outputs": [],
   "source": [
    "# access by group \n",
    "data %>% group_by(black) %>% summarise(noaccess=mean(noaccess))\n",
    "data %>% group_by(white) %>% summarise(noaccess=mean(noaccess))"
   ]
  },
  {
   "cell_type": "code",
   "execution_count": null,
   "metadata": {
    "hidden": true
   },
   "outputs": [],
   "source": [
    "# save data\n",
    "write_csv(data, 'prediction_data_updt.csv', \"/diabetes/\")"
   ]
  },
  {
   "cell_type": "markdown",
   "metadata": {
    "heading_collapsed": true,
    "hidden": true
   },
   "source": [
    "## Show predictive quality of features by access group"
   ]
  },
  {
   "cell_type": "code",
   "execution_count": null,
   "metadata": {
    "hidden": true
   },
   "outputs": [],
   "source": [
    "# save data\n",
    "data<-load_data('prediction_data_updt.csv', \"/diabetes/\")"
   ]
  },
  {
   "cell_type": "code",
   "execution_count": null,
   "metadata": {
    "hidden": true
   },
   "outputs": [],
   "source": [
    "mod1<-lm(y ~ obesity*noaccess + obesity + scaled_age + fem, data=data)\n",
    "summary(mod1)"
   ]
  },
  {
   "cell_type": "markdown",
   "metadata": {},
   "source": [
    "# Run Prediction"
   ]
  },
  {
   "cell_type": "markdown",
   "metadata": {
    "heading_collapsed": true
   },
   "source": [
    "## Set up Data"
   ]
  },
  {
   "cell_type": "code",
   "execution_count": null,
   "metadata": {
    "hidden": true
   },
   "outputs": [],
   "source": [
    "data<-load_data('prediction_data_updt.csv',\"/diabetes/\")"
   ]
  },
  {
   "cell_type": "code",
   "execution_count": null,
   "metadata": {
    "hidden": true
   },
   "outputs": [],
   "source": [
    "y<-'y'\n",
    "y_self<-'type_2_diabetes'\n",
    "vars<-names(data)\n",
    "dgns<-vars[grepl('dx_', vars)]\n",
    "meds<-vars[grepl('atc_',vars)]\n",
    "msrs<-c('obesity','hypocalcemia','hypercalcemia',\n",
    "            'hypochloremia','hyperchloremia','creatine','high_blood_pressure','prediabetes_gluc_fast',\n",
    "            'tachycardia','anemia','high_hemo','hypoxemia','hyperkalemia','prediabetes_hba1c','triglyceride_high',\n",
    "            'hypokalemia','tachypneic','bradypnea','hypernatremia','hyponatremia','low_urea','high_urea')\n",
    "#demo<-c('male','fem','white','black','is_latino','scaled_age')\n",
    "demo<-c('gender_other','fem','black','race_unknown','asian','ai_an','race_other',\n",
    "        'is_latino','ethnicity_unknown','scaled_age')\n",
    "self_vars<-names(data)[grepl('self_', names(data))]\n",
    "x_tmp<-c(dgns, demo, meds, msrs)\n",
    "vars[!(vars %in% x_tmp)]\n",
    "\n",
    "# remove diabetes labs & diagnosis from prediction \n",
    "x<-x_tmp[!(x_tmp %in% c('diabetes'))]"
   ]
  },
  {
   "cell_type": "markdown",
   "metadata": {
    "heading_collapsed": true
   },
   "source": [
    "## Set up 5-fold cross validation"
   ]
  },
  {
   "cell_type": "code",
   "execution_count": null,
   "metadata": {
    "hidden": true
   },
   "outputs": [],
   "source": [
    "set.seed(1234)\n",
    "\n",
    "n<-nrow(data)\n",
    "nfolds<-5\n",
    "shuffled<-sample(1:n)\n",
    "fold_ids<-cut(seq(1,n),breaks=nfolds,labels=FALSE)\n",
    "folds<-fold_ids[order(shuffled)]"
   ]
  },
  {
   "cell_type": "code",
   "execution_count": null,
   "metadata": {
    "hidden": true
   },
   "outputs": [],
   "source": [
    "data[is.na(data)] <- 0\n",
    "dim(data)"
   ]
  },
  {
   "cell_type": "code",
   "execution_count": null,
   "metadata": {
    "hidden": true
   },
   "outputs": [],
   "source": [
    "data %>% group_by(delayed_ind, afford_ind) %>% summarise(pred_miss=mean(visit_pred_flag), y_miss=mean(visit_y_flag))"
   ]
  },
  {
   "cell_type": "markdown",
   "metadata": {
    "heading_collapsed": true
   },
   "source": [
    "## Predict output (without access)"
   ]
  },
  {
   "cell_type": "code",
   "execution_count": null,
   "metadata": {
    "hidden": true,
    "scrolled": true
   },
   "outputs": [],
   "source": [
    "##### PREDICT OUTPUT WITHOUT ACCESS \n",
    "# create dataset with patient id, predicted risk (lasso), label (lasso), predicted risk (rf), label (rf)\n",
    "y<-'y'\n",
    "    \n",
    "tmp_data<-data.frame(fold=integer(), person_id=double(), \n",
    "                     lasso_preds=double(), ridge_preds=double(),\n",
    "                     lasso_label=double(), ridge_label=double())\n",
    "\n",
    "for (i in 1:nfolds){\n",
    "    \n",
    "  print(i) \n",
    "\n",
    "  ### PREPROCESS DATA ###\n",
    "  index<-which(folds==i)\n",
    "  test_i<-data[index,]\n",
    "  train_i<-data[-index,]\n",
    "    \n",
    "  test_i$fold<-i\n",
    "  \n",
    "  # define design matrix X and outcome y for train and test datasets\n",
    "  train_x<-train_i[,x]\n",
    "  train_y<-train_i[[y]]\n",
    "  test_x<-test_i[,x]\n",
    "  test_y<-test_i[[y]]\n",
    "  X<-data.matrix(train_x)\n",
    "  X_test<-data.matrix(test_x)\n",
    "    \n",
    "  #### LASSO\n",
    "  cv.lasso<-cv.glmnet(X, train_y, alpha=1, family=\"binomial\")\n",
    "\n",
    "  # find cut-off using train data\n",
    "  tr_preds<-predict(cv.lasso, newx = X, s = \"lambda.min\", type=\"response\")   \n",
    "  cutoff<-get_cutoff(train_y, tr_preds)\n",
    "\n",
    "  # get predicted risk for test data and create label\n",
    "  preds<-predict(cv.lasso, newx = X_test, s = \"lambda.min\", type=\"response\")\n",
    "  test_i$lasso_preds<-as.vector(preds[,1])\n",
    "  test_i$lasso_label<-ifelse(test_i$lasso_preds >= cutoff, 1, 0)\n",
    "\n",
    "  #### RIDGE\n",
    "  cv.ridge<-cv.glmnet(X, train_y, alpha=0, family=\"binomial\")\n",
    "\n",
    "  # find cut-off using train data\n",
    "  tr_preds<-predict(cv.ridge, newx = X, s = \"lambda.min\", type=\"response\")   \n",
    "  cutoff_ridge<-get_cutoff(train_y, tr_preds)\n",
    "\n",
    "  # get predictions   \n",
    "  preds_ridge<-predict(cv.ridge, newx = X_test, s = \"lambda.min\", type=\"response\")\n",
    "  test_i$ridge_preds<-as.vector(preds_ridge[,1])\n",
    "  test_i$ridge_label<-ifelse(test_i$ridge_preds >= cutoff_ridge, 1, 0)\n",
    "    \n",
    "  # add to the dataset \n",
    "    \n",
    "  keepvars<-c('fold','person_id','lasso_preds','ridge_preds','lasso_label','ridge_label')\n",
    "\n",
    "  tmp_data<-rbind(tmp_data, test_i[,keepvars])\n",
    "\n",
    "}\n",
    "\n",
    "# save output \n",
    "write_csv(tmp_data, 'diabetes_preds_logistic_updt.csv', \"/diabetes/\")"
   ]
  },
  {
   "cell_type": "code",
   "execution_count": null,
   "metadata": {
    "hidden": true
   },
   "outputs": [],
   "source": [
    "##### PREDICT OUTPUT WITHOUT ACCESS \n",
    "# create dataset with patient id, predicted risk (lasso), label (lasso), predicted risk (rf), label (rf)\n",
    "data$y_char<-factor(data$y, levels=c(0,1))\n",
    "y<-'y_char'\n",
    "\n",
    "# save list of results\n",
    "out_list <- vector(\"list\", nfolds)\n",
    "\n",
    "# compute mean over k trees\n",
    "mean_first_k <- function(tree_mat, k) {\n",
    "  k <- min(k, ncol(tree_mat))\n",
    "  if (k == 0) return(rep(NA_real_, nrow(tree_mat)))\n",
    "  matrixStats::rowMeans2(tree_mat[, 1:k, drop = FALSE])\n",
    "}\n",
    "\n",
    "for (i in 1:nfolds){\n",
    "    \n",
    "  print(i) \n",
    "\n",
    "  ### PREPROCESS DATA ###\n",
    "  index<-which(folds==i)\n",
    "  test_i<-data[index,]\n",
    "  train_i<-data[-index,]\n",
    "    \n",
    "  test_i$fold<-i\n",
    "  \n",
    "  # define design matrix X and outcome y for train and test datasets\n",
    "  train_x<-train_i[,x]\n",
    "  train_y<-train_i[[y]]\n",
    "  test_x<-test_i[,x]\n",
    "  test_y<-test_i[[y]]\n",
    "  X<-data.matrix(train_x)\n",
    "  X_test<-data.matrix(test_x)\n",
    "    \n",
    "  ##### RANGER \n",
    "  rf_1000<-ranger(x = train_x, y=train_y, num.trees = 1000, write.forest = TRUE, num.threads=2,min.node.size = 10, save.memory=TRUE)   \n",
    "  preds <- predict(rf_1000, data = test_x, predict.all = TRUE, type='response')\n",
    "\n",
    "  # return predictions for all trees\n",
    "  tree_preds<-preds$predictions \n",
    "  if (is.factor(tree_preds)) tree_preds <- as.character(tree_preds)\n",
    "  if (!is.matrix(tree_preds)) tree_preds <- as.matrix(tree_preds)\n",
    "  pos_label <- levels(data$y_char)[2]  # \"1\"\n",
    "  tree_bin <- (tree_preds == pos_label) * 1.0\n",
    "    \n",
    "  # find predicted probability across all trees K\n",
    "  p5 <- mean_first_k(tree_bin, 5)\n",
    "  p50 <- mean_first_k(tree_bin, 50)\n",
    "  p500 <- mean_first_k(tree_bin, 500)\n",
    "  p1000 <- mean_first_k(tree_bin, 1000)\n",
    "    \n",
    "  out_list[[i]] <- data.frame(\n",
    "    fold = i,\n",
    "    person_id = test_i$person_id,\n",
    "    rf_preds_1000 = p1000,\n",
    "    rf_preds_500  = p500,\n",
    "    rf_preds_50   = p50,\n",
    "    rf_preds_5    = p5,\n",
    "    row.names = NULL\n",
    "  )\n",
    "\n",
    "  # free memory between folds\n",
    "  rm(rf_1000, tree_preds, tree_bin, p5, p50, p500, p1000)\n",
    "  gc()\n",
    "}\n",
    "\n",
    "# save output \n",
    "tmp_data <- do.call(rbind, out_list)\n",
    "write_csv(tmp_data, 'diabetes_preds_rf_updt.csv', \"/diabetes/\")"
   ]
  },
  {
   "cell_type": "markdown",
   "metadata": {
    "hidden": true
   },
   "source": [
    "### Find best model for diabetes \n",
    "\n",
    "LASSO"
   ]
  },
  {
   "cell_type": "code",
   "execution_count": null,
   "metadata": {
    "hidden": true
   },
   "outputs": [],
   "source": [
    "diab_rf<-load_data('diabetes_preds_rf_updt.csv', \"/diabetes/\")\n",
    "diab_lr<-load_data('diabetes_preds_logistic_updt.csv', \"/diabetes/\")"
   ]
  },
  {
   "cell_type": "code",
   "execution_count": null,
   "metadata": {
    "hidden": true
   },
   "outputs": [],
   "source": [
    "preds<-merge(data[,c('person_id','y')], diab_lr, by='person_id')\n",
    "preds<-merge(preds, diab_rf, by='person_id')\n",
    "dim(preds)"
   ]
  },
  {
   "cell_type": "code",
   "execution_count": null,
   "metadata": {
    "hidden": true
   },
   "outputs": [],
   "source": [
    "# get AUC for each of these \n",
    "get_auc<-function(label, preds) {\n",
    "    roc<-pROC::roc(label, preds)\n",
    "    auc<-pROC::auc(roc)\n",
    "    auc_ci<-ci(auc)\n",
    "    print(auc)\n",
    "    print(auc_ci)\n",
    "}"
   ]
  },
  {
   "cell_type": "code",
   "execution_count": null,
   "metadata": {
    "hidden": true
   },
   "outputs": [],
   "source": [
    "# lasso does the best \n",
    "get_auc(preds$y, preds$rf_preds_1000)\n",
    "get_auc(preds$y, preds$rf_preds_500)\n",
    "get_auc(preds$y, preds$rf_preds_50)\n",
    "get_auc(preds$y, preds$rf_preds_5)\n",
    "get_auc(preds$y, preds$lasso_preds)\n",
    "get_auc(preds$y, preds$ridge_preds)"
   ]
  },
  {
   "cell_type": "markdown",
   "metadata": {
    "heading_collapsed": true
   },
   "source": [
    "## Predict output (with access)"
   ]
  },
  {
   "cell_type": "code",
   "execution_count": null,
   "metadata": {
    "hidden": true
   },
   "outputs": [],
   "source": [
    "##### PREDICT OUTPUT WITH ACCESS LABEL \n",
    "y<-'y'\n",
    "\n",
    "tmp_data<-data.frame(fold=integer(), person_id=double(), \n",
    "                     lasso_preds_access=double(), lasso_label_access=double())\n",
    "\n",
    "for (i in 1:nfolds){\n",
    "\n",
    "  ### PREPROCESS DATA ###\n",
    "  index<-which(folds==i)\n",
    "  test_i<-data[index,]\n",
    "  train_i<-data[-index,]\n",
    "    \n",
    "  test_i$fold<-i\n",
    "  \n",
    "  # define design matrix X and outcome y for train and test datasets\n",
    "  train_x<-train_i[,c(x, 'delayed_ind','afford_ind')]\n",
    "  train_y<-train_i[[y]]\n",
    "  test_x<-test_i[,c(x, 'delayed_ind','afford_ind')]\n",
    "  test_y<-test_i[[y]]\n",
    "  X<-data.matrix(train_x)\n",
    "  X_test<-data.matrix(test_x)\n",
    "    \n",
    "  #### LASSO\n",
    "  cv.lasso<-cv.glmnet(X, train_y, alpha=1, family=\"binomial\")\n",
    "\n",
    "  # find cut-off using train data\n",
    "  tr_preds<-predict(cv.lasso, newx = X, s = \"lambda.min\", type=\"response\")   \n",
    "  cutoff<-get_cutoff(train_y, tr_preds)\n",
    "\n",
    "  # get predicted risk for test data and create label\n",
    "  preds<-predict(cv.lasso, newx = X_test, s = \"lambda.min\", type=\"response\")\n",
    "  test_i$lasso_preds_access<-as.vector(preds[,1])\n",
    "  test_i$lasso_label_access<-ifelse(test_i$lasso_preds_access >= cutoff, 1, 0)\n",
    "\n",
    "  keepvars<-c('fold','person_id','lasso_preds_access','lasso_label_access')\n",
    "\n",
    "  tmp_data<-rbind(tmp_data, test_i[,keepvars])\n",
    "    \n",
    "}\n",
    "\n",
    "# save output \n",
    "write_csv(tmp_data, 'diabetes_preds_access.csv', \"/diabetes/\")"
   ]
  },
  {
   "cell_type": "markdown",
   "metadata": {
    "heading_collapsed": true
   },
   "source": [
    "## Predict output (with access related features)\n",
    "- add in visit history, sociodemographic information, etc. \n",
    "- scale continuous features (as.numeric(scale(var))"
   ]
  },
  {
   "cell_type": "code",
   "execution_count": null,
   "metadata": {
    "hidden": true
   },
   "outputs": [],
   "source": [
    "# variables related to access \n",
    "ins_vars<-c('ins_uninsured','ins_medicare','ins_medicaid','ins_employ','ins_unknown','ins_other')\n",
    "inc_vars<-c('inc_10','inc_10_49','inc_50_99','inc_100_199','inc_200')\n",
    "zip_vars<-c('zip_poverty','zip_vac_housing','zip_dep_index','zip_hs')\n",
    "visits_vars<-c('visit_pred_flag','visit_y_flag')\n",
    "\n",
    "data$zip_poverty_scaled<-as.numeric(scale(data$zip_poverty))\n",
    "data$zip_vac_housing_scaled<-as.numeric(scale(data$zip_vac_housing))\n",
    "data$zip_dep_index_scaled<-as.numeric(scale(data$zip_dep_index))\n",
    "data$zip_hs_scaled<-as.numeric(scale(data$zip_hs))\n",
    "\n",
    "zip_scale_vars<-c('zip_poverty_scaled','zip_vac_housing_scaled','zip_dep_index_scaled','zip_hs_scaled')\n",
    "ses_vars<-c(ins_vars, inc_vars, zip_scale_vars,'visit_pred_flag')"
   ]
  },
  {
   "cell_type": "code",
   "execution_count": null,
   "metadata": {
    "hidden": true
   },
   "outputs": [],
   "source": [
    "##### PREDICT OUTPUT WITH ACCESS LABEL \n",
    "y<-'y'\n",
    "\n",
    "tmp_data<-data.frame(fold=integer(), person_id=double(), \n",
    "                     lasso_preds_ses=double(), lasso_label_ses=double())\n",
    "\n",
    "for (i in 1:nfolds){\n",
    "\n",
    "  ### PREPROCESS DATA ###\n",
    "  index<-which(folds==i)\n",
    "  test_i<-data[index,]\n",
    "  train_i<-data[-index,]\n",
    "    \n",
    "  test_i$fold<-i\n",
    "  \n",
    "  # define design matrix X and outcome y for train and test datasets\n",
    "  train_x<-train_i[,c(x, ses_vars)]\n",
    "  train_y<-train_i[[y]]\n",
    "  test_x<-test_i[,c(x, ses_vars)]\n",
    "  test_y<-test_i[[y]]\n",
    "  X<-data.matrix(train_x)\n",
    "  X_test<-data.matrix(test_x)\n",
    "    \n",
    "  #### LASSO\n",
    "  cv.lasso<-cv.glmnet(X, train_y, alpha=1, family=\"binomial\")\n",
    "\n",
    "  # find cut-off using train data\n",
    "  tr_preds<-predict(cv.lasso, newx = X, s = \"lambda.min\", type=\"response\")   \n",
    "  cutoff<-get_cutoff(train_y, tr_preds)\n",
    "\n",
    "  # get predicted risk for test data and create label\n",
    "  preds<-predict(cv.lasso, newx = X_test, s = \"lambda.min\", type=\"response\")\n",
    "  test_i$lasso_preds_ses<-as.vector(preds[,1])\n",
    "  test_i$lasso_label_ses<-ifelse(test_i$lasso_preds_ses >= cutoff, 1, 0)\n",
    "\n",
    "  keepvars<-c('fold','person_id','lasso_preds_ses','lasso_label_ses')\n",
    "\n",
    "  tmp_data<-rbind(tmp_data, test_i[,keepvars])\n",
    "    \n",
    "}\n",
    "\n",
    "# save output \n",
    "write_csv(tmp_data, 'diabetes_preds_ses.csv', \"/diabetes/\")"
   ]
  },
  {
   "cell_type": "markdown",
   "metadata": {
    "heading_collapsed": true
   },
   "source": [
    "## Add in self reported Xs\n",
    "\n",
    "Add in self reported Xs (what to do about the survey date?) a lot of people answered the survey after the cut-off period. "
   ]
  },
  {
   "cell_type": "code",
   "execution_count": null,
   "metadata": {
    "hidden": true
   },
   "outputs": [],
   "source": [
    "remove_vars<-c('self_type_1_diabetes','self_type_2_diabetes','self_aortic_aneurysm','self_survey_date')\n",
    "self_vars_updt<-self_vars[!(self_vars %in% remove_vars)]\n",
    "length(self_vars_updt)\n",
    "self_vars_updt"
   ]
  },
  {
   "cell_type": "code",
   "execution_count": null,
   "metadata": {
    "hidden": true
   },
   "outputs": [],
   "source": [
    "##### PREDICT OUTPUT WITH SELF-REPORTED X \n",
    "y<-'y'\n",
    "\n",
    "tmp_data<-data.frame(fold=integer(), person_id=double(), \n",
    "                     lasso_preds_self=double(), lasso_label_self=double())\n",
    "\n",
    "for (i in 1:nfolds){\n",
    "\n",
    "  ### PREPROCESS DATA ###\n",
    "  index<-which(folds==i)\n",
    "  test_i<-data[index,]\n",
    "  train_i<-data[-index,]\n",
    "    \n",
    "  test_i$fold<-i\n",
    "  \n",
    "  # define design matrix X and outcome y for train and test datasets\n",
    "  train_x<-train_i[,c(x,self_vars_updt)]\n",
    "  train_y<-train_i[[y]]\n",
    "  test_x<-test_i[,c(x,self_vars_updt)]\n",
    "  test_y<-test_i[[y]]\n",
    "  X<-data.matrix(train_x)\n",
    "  X_test<-data.matrix(test_x)\n",
    "    \n",
    "  #### LASSO\n",
    "  cv.lasso<-cv.glmnet(X, train_y, alpha=1, family=\"binomial\")\n",
    "\n",
    "  # find cut-off using train data\n",
    "  tr_preds<-predict(cv.lasso, newx = X, s = \"lambda.min\", type=\"response\")   \n",
    "  cutoff<-get_cutoff(train_y, tr_preds)\n",
    "\n",
    "  # get predicted risk for test data and create label\n",
    "  preds<-predict(cv.lasso, newx = X_test, s = \"lambda.min\", type=\"response\")\n",
    "  test_i$lasso_preds_self<-as.vector(preds[,1])\n",
    "  test_i$lasso_label_self<-ifelse(test_i$lasso_preds_self >= cutoff, 1, 0)\n",
    "\n",
    "  # add to the dataset \n",
    "    \n",
    "  keepvars<-c('fold','person_id','lasso_preds_self','lasso_label_self')\n",
    "\n",
    "  tmp_data<-rbind(tmp_data, test_i[,keepvars])\n",
    "    \n",
    "}\n",
    "\n",
    "# save output \n",
    "write_csv(tmp_data, 'diabetes_preds_self.csv', \"/diabetes/\")\n",
    "dim(tmp_data)"
   ]
  },
  {
   "cell_type": "markdown",
   "metadata": {},
   "source": [
    "# Evaluate\n"
   ]
  },
  {
   "cell_type": "code",
   "execution_count": null,
   "metadata": {},
   "outputs": [],
   "source": [
    "# load data if not already loaded (and merge preds if necessary\n",
    "preds_all<-load_data('diabetes_preds_logistic_updt.csv', \"/diabetes/\")\n",
    "preds_access<-load_data('diabetes_preds_access.csv', \"/diabetes/\")\n",
    "preds_self<-load_data('diabetes_preds_self.csv', \"/diabetes/\")\n",
    "preds_ses<-load_data('diabetes_preds_ses.csv', \"/diabetes/\")"
   ]
  },
  {
   "cell_type": "code",
   "execution_count": null,
   "metadata": {},
   "outputs": [],
   "source": [
    "preds_tmp<-merge(preds_all, preds_access, by=c('person_id'))\n",
    "preds_all<-merge(preds_tmp, preds_self, by=c('person_id'))\n",
    "preds_all<-merge(preds_all, preds_ses, by=c('person_id'))"
   ]
  },
  {
   "cell_type": "code",
   "execution_count": null,
   "metadata": {},
   "outputs": [],
   "source": [
    "# merge data in so we have access to relevant labels\n",
    "data<-load_data('prediction_data_updt.csv',\"/diabetes/\")\n",
    "test<-merge(data, preds_all, by='person_id')"
   ]
  },
  {
   "cell_type": "code",
   "execution_count": null,
   "metadata": {},
   "outputs": [],
   "source": [
    "# subset to groups of interest \n",
    "access<-test[test$noaccess == 0,]\n",
    "noaccess<-test[test$afford_ind == 1 & test$delayed_ind == 1,]\n",
    "cant<-test[test$afford_ind == 1,]\n",
    "delay<-test[test$delayed_ind == 1,]\n",
    "cant_extra<-test[test$afford>2,]\n",
    "delay_extra<-test[test$delayed>2,]\n",
    "black<-test[test$black == 1,]\n",
    "white<-test[test$white == 1,]\n",
    "hispanic<-test[test$is_latino == 1,]\n",
    "black_low_access<-test[test$black == 1 & test$afford_ind == 1 & test$delayed_ind == 1,]\n",
    "hispanic_low_access<-test[test$is_latino == 1 & test$afford_ind == 1 & test$delayed_ind == 1,]\n",
    "white_low_access<-test[test$white == 1 & test$afford_ind == 1 & test$delayed_ind == 1,]\n",
    "black_hi_access<-test[test$black == 1 & test$noaccess == 0,]\n",
    "hispanic_hi_access<-test[test$is_latino == 1 & test$noaccess == 0,]\n",
    "white_hi_access<-test[test$white == 1 & test$noaccess == 0,]"
   ]
  },
  {
   "cell_type": "code",
   "execution_count": null,
   "metadata": {},
   "outputs": [],
   "source": [
    "summarize_results<-function(test_preds, pred_label) {\n",
    "\n",
    "    ret0<-get_msrs(test$y, test[[test_preds]], test[[pred_label]], 'all')\n",
    "    ret1<-get_msrs(access$y, access[[test_preds]], access[[pred_label]], 'high access')\n",
    "    ret2<-get_msrs(noaccess$y, noaccess[[test_preds]], noaccess[[pred_label]], 'low access')\n",
    "    ret3<-get_msrs(cant$y, cant[[test_preds]], cant[[pred_label]],  'cant')\n",
    "    ret4<-get_msrs(delay$y, delay[[test_preds]], delay[[pred_label]], 'delay')\n",
    "    ret5<-get_msrs(cant_extra$y, cant_extra[[test_preds]], cant_extra[[pred_label]],  'cant 3+')\n",
    "    ret6<-get_msrs(delay_extra$y, delay_extra[[test_preds]], delay_extra[[pred_label]], 'delay 3+')\n",
    "    ret7<-get_msrs(black$y, black[[test_preds]], black[[pred_label]], 'black')\n",
    "    ret8<-get_msrs(white$y, white[[test_preds]], white[[pred_label]], 'white')\n",
    "    ret9<-get_msrs(hispanic$y, hispanic[[test_preds]], hispanic[[pred_label]], 'hispanic')\n",
    "    ret10<-get_msrs(black_low_access$y, black_low_access[[test_preds]], black_low_access[[pred_label]], 'black - no access')\n",
    "    ret11<-get_msrs(hispanic_low_access$y, hispanic_low_access[[test_preds]], hispanic_low_access[[pred_label]], 'hispanic - no access')\n",
    "    ret12<-get_msrs(white_low_access$y, white_low_access[[test_preds]], white_low_access[[pred_label]], 'white - no access')\n",
    "    ret13<-get_msrs(black_hi_access$y, black_hi_access[[test_preds]], black_hi_access[[pred_label]], 'black - access')\n",
    "    ret14<-get_msrs(hispanic_hi_access$y, hispanic_hi_access[[test_preds]], hispanic_hi_access[[pred_label]], 'hispanic - access')\n",
    "    ret15<-get_msrs(white_hi_access$y, white_hi_access[[test_preds]], white_hi_access[[pred_label]], 'white - access')\n",
    "        \n",
    "    results<-rbind(ret0, ret1, ret2, ret3, ret4, ret5, ret6, ret7, ret8, ret9, ret10, ret11, ret12, ret13, ret14, ret15)\n",
    "    return(as.data.frame(results))\n",
    "\n",
    "    \n",
    "}"
   ]
  },
  {
   "cell_type": "code",
   "execution_count": null,
   "metadata": {},
   "outputs": [],
   "source": [
    "# create a function for prepping the output \n",
    "msr_list<-c(\"sensitivity\",\"specificity\", \"accuracy\", \"balanced_accuracy\",\"precision\", \"f1_score\", \"auc\")\n",
    "save_metrics<-function(df, alg) {\n",
    "    \n",
    "    # add in balancedaccuracy\n",
    "    df$balanced_accuracy<-(as.numeric(df$sensitivity) + as.numeric(df$specificity))/2\n",
    "\n",
    "    # convert auc to numeric (type AUC in the data)\n",
    "    df$auc<-as.numeric(df$auc)\n",
    "    \n",
    "    # convert long to wide\n",
    "    for (msr in msr_list){\n",
    "        df[,msr]<-as.numeric(df[,msr])\n",
    "        names(df)[names(df) == msr] <- paste0(msr, '_val')\n",
    "    }\n",
    "\n",
    "    perf_long<- df %>% pivot_longer(cols = ends_with(\"_val\"), names_to = \"variables\", values_to = \"val\")\n",
    "    perf_long$n<-as.numeric(perf_long$n)\n",
    "    perf_long$se<-sqrt(perf_long$val*(1-perf_long$val)*1/perf_long$n)\n",
    "    perf_long$lb_se<-perf_long$val-1.96*perf_long$se\n",
    "    perf_long$ub_se<-perf_long$val+1.96*perf_long$se\n",
    "\n",
    "    # save\n",
    "    fn<-paste0('diabetes_',alg,'_metrics.csv')\n",
    "    write_csv(perf_long, fn, \"/output/\") \n",
    "}"
   ]
  },
  {
   "cell_type": "code",
   "execution_count": null,
   "metadata": {},
   "outputs": [],
   "source": [
    "suppressMessages(\n",
    "res_lasso<-summarize_results(\"lasso_preds\", \"lasso_label\")\n",
    ")\n",
    "save_metrics(res_lasso, 'lasso')"
   ]
  },
  {
   "cell_type": "code",
   "execution_count": null,
   "metadata": {},
   "outputs": [],
   "source": [
    "# results with access label \n",
    "suppressMessages(\n",
    "res_lasso_access<-summarize_results(\"lasso_preds_access\",\"lasso_label_access\")\n",
    ")\n",
    "save_metrics(res_lasso_access, 'lasso_inc_access')"
   ]
  },
  {
   "cell_type": "code",
   "execution_count": null,
   "metadata": {},
   "outputs": [],
   "source": [
    "# results with self-reported x \n",
    "suppressMessages(\n",
    "res_lasso_self<-summarize_results(\"lasso_preds_self\",\"lasso_label_self\")\n",
    ")\n",
    "save_metrics(res_lasso_self, 'lasso_inc_self_x')"
   ]
  },
  {
   "cell_type": "code",
   "execution_count": null,
   "metadata": {},
   "outputs": [],
   "source": [
    "# results with self-reported x \n",
    "suppressMessages(\n",
    "res_lasso_self<-summarize_results(\"lasso_preds_ses\",\"lasso_label_ses\")\n",
    ")\n",
    "save_metrics(res_lasso_self, 'lasso_inc_ses')"
   ]
  },
  {
   "cell_type": "markdown",
   "metadata": {},
   "source": [
    "## Curves"
   ]
  },
  {
   "cell_type": "code",
   "execution_count": null,
   "metadata": {},
   "outputs": [],
   "source": [
    "test$group<-ifelse(test$noaccess == 1, 'Low Access', 'High Access')\n",
    "ggplot(test, aes(x = lasso_preds, color = group)) +\n",
    "  geom_density(size = 1) + # Line thickness\n",
    "  scale_color_manual(values=c('blue','red'))+\n",
    "  labs(title = \"Density Plot by Group\", x = \"Value\", y = \"Density\") +\n",
    "  theme_minimal()+xlim(0, .10)"
   ]
  },
  {
   "cell_type": "markdown",
   "metadata": {},
   "source": [
    "## look at AUC curves"
   ]
  },
  {
   "cell_type": "markdown",
   "metadata": {},
   "source": [
    "### Compare AUC by subgroup "
   ]
  },
  {
   "cell_type": "code",
   "execution_count": null,
   "metadata": {},
   "outputs": [],
   "source": [
    "suppressMessages(\n",
    "roc_standard<-pROC::roc(access$y, access[[\"lasso_preds\"]])\n",
    "roc_cant<-pROC::roc(cant$y, cant[['lasso_preds']])\n",
    "roc_delay<-pROC::roc(delay$y, delay[['lasso_preds']])\n",
    "roc_cant_sev<-pROC::roc(cant_extra$y, cant_extra[['lasso_preds']])\n",
    "roc_delay_sev<-pROC::roc(delay_extra$y, delay_extra[['lasso_preds']])\n",
    ")"
   ]
  },
  {
   "cell_type": "code",
   "execution_count": null,
   "metadata": {},
   "outputs": [],
   "source": [
    "roc.test(roc_standard, roc_cant, paired = FALSE)\n",
    "roc.test(roc_standard, roc_delay, paired = FALSE)\n",
    "roc.test(roc_standard, roc_delay_sev, paired = FALSE)\n",
    "roc.test(roc_standard, roc_cant_sev, paired = FALSE)"
   ]
  },
  {
   "cell_type": "markdown",
   "metadata": {},
   "source": [
    "### Compare AUC by method"
   ]
  },
  {
   "cell_type": "code",
   "execution_count": null,
   "metadata": {},
   "outputs": [],
   "source": [
    "run_aoc_comparison<-function(dsn) {\n",
    "    \n",
    "    roc1<-pROC::roc(dsn[['y']], dsn[['lasso_preds']])\n",
    "    roc2<-pROC::roc(dsn[['y']], dsn[['lasso_preds_access']])\n",
    "    roc3<-pROC::roc(dsn[['y']], dsn[['lasso_preds_self']])\n",
    "    roc4<-pROC::roc(dsn[['y']], dsn[['lasso_preds_ses']])\n",
    "    \n",
    "    diff1<-roc.test(roc1, roc2, method = \"delong\")\n",
    "    diff2<-roc.test(roc1, roc3, method = \"delong\")\n",
    "    diff3<-roc.test(roc1, roc4, method = \"delong\")\n",
    "    \n",
    "    # Create summary dataframe\n",
    "    res <- data.frame(\n",
    "      auc_1 = as.numeric(pROC::auc(roc1)),\n",
    "      auc_2 = as.numeric(pROC::auc(roc2)),\n",
    "      auc_3 = as.numeric(pROC::auc(roc3)),\n",
    "      auc_4 = as.numeric(pROC::auc(roc4)),\n",
    "      pval_1_2 = diff1$p.value,\n",
    "      pval_1_3 = diff2$p.value,\n",
    "      pval_1_4 = diff3$p.value\n",
    "    )\n",
    "    return(res)\n",
    "    \n",
    "}"
   ]
  },
  {
   "cell_type": "code",
   "execution_count": null,
   "metadata": {},
   "outputs": [],
   "source": [
    "all<-run_aoc_comparison(test)\n",
    "st<-run_aoc_comparison(access)\n",
    "afford<-run_aoc_comparison(cant)\n",
    "del<-run_aoc_comparison(delay)\n",
    "\n",
    "res<-rbind(all, st, afford, del)\n",
    "res"
   ]
  },
  {
   "cell_type": "code",
   "execution_count": null,
   "metadata": {},
   "outputs": [],
   "source": [
    "# adjust for multiple comparisions \n",
    "pvals <- res %>% select(pval_1_2, pval_1_3, pval_1_4) %>% unlist()\n",
    "pvals_adj <- p.adjust(pvals, method=\"BH\")\n",
    "res_adj<-res\n",
    "res_adj[,c(\"pval_1_2\", \"pval_1_3\", \"pval_1_4\")] <- matrix(pvals_adj, nrow=nrow(res_adj), ncol=3)\n",
    "res_adj"
   ]
  },
  {
   "cell_type": "markdown",
   "metadata": {},
   "source": [
    "## How many additionanl people targeted?"
   ]
  },
  {
   "cell_type": "code",
   "execution_count": null,
   "metadata": {},
   "outputs": [],
   "source": [
    "# how many additional people identified if increased recall for low access to that for high access \n",
    "test$tp<-ifelse(test$y == 1 & test$lasso_label == 1,1, 0)\n",
    "test$tp_self<-ifelse(test$y == 1 & test$lasso_label_self == 1, 1,0)\n",
    "test$fp<-ifelse(test$y == 0 & test$lasso_label == 1,1, 0)\n",
    "test$fp_self<-ifelse(test$y == 0 & test$lasso_label_self == 1, 1,0)\n",
    "\n",
    "summ<-test %>% group_by(noaccess) %>% summarise(n=n(),y=sum(y), p=sum(lasso_label), p_self=sum(lasso_label_self),\n",
    "                                                tp=sum(tp), tp_self=sum(tp_self),\n",
    "                                                fp=sum(fp), fp_self=sum(fp_self))\n",
    "\n",
    "\n",
    "summ$adl_new<-summ$tp_self - summ$tp\n",
    "summ$adl_false<-summ$fp_self - summ$fp\n",
    "summ$pct_tp<-summ$adl_new/summ$y\n",
    "summ$pct_fp<-summ$adl_false/(summ$n - summ$y)\n",
    "summ"
   ]
  }
 ],
 "metadata": {
  "kernelspec": {
   "display_name": "R",
   "language": "R",
   "name": "ir"
  },
  "language_info": {
   "codemirror_mode": "r",
   "file_extension": ".r",
   "mimetype": "text/x-r-source",
   "name": "R",
   "pygments_lexer": "r",
   "version": "4.5.0"
  },
  "toc": {
   "base_numbering": 1,
   "nav_menu": {},
   "number_sections": true,
   "sideBar": true,
   "skip_h1_title": false,
   "title_cell": "Table of Contents",
   "title_sidebar": "Contents",
   "toc_cell": false,
   "toc_position": {},
   "toc_section_display": true,
   "toc_window_display": false
  }
 },
 "nbformat": 4,
 "nbformat_minor": 2
}

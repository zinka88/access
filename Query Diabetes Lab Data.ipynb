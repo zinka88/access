{
 "cells": [
  {
   "cell_type": "markdown",
   "metadata": {},
   "source": [
    "**Title:** Query Diabetes Task Data\n",
    "\n",
    "**Author:** Anna Zink\n",
    "\n",
    "**Date:** August 18, 2025\n",
    "\n",
    "**Description:** Pull hba1c and glucose data for the diabetes task sample\n"
   ]
  },
  {
   "cell_type": "markdown",
   "metadata": {},
   "source": [
    "# Set Up"
   ]
  },
  {
   "cell_type": "code",
   "execution_count": null,
   "metadata": {},
   "outputs": [],
   "source": [
    "library(tidyverse)\n",
    "library(bigrquery)"
   ]
  },
  {
   "cell_type": "code",
   "execution_count": null,
   "metadata": {},
   "outputs": [],
   "source": [
    "load_data<-function(file, folder){\n",
    "    my_bucket <- Sys.getenv('WORKSPACE_BUCKET')\n",
    "    system(paste0(\"gsutil cp \", my_bucket, folder, file, \" .\"), intern=T)\n",
    "    dsn <- read_csv(file, show_col_types = FALSE)\n",
    "    return(dsn)\n",
    "}\n",
    "\n",
    "# Replace df with THE NAME OF YOUR DATAFRAME\n",
    "# folder = \"/ehr/\" \n",
    "write_csv<-function(df, fn, folder) {\n",
    "   my_dataframe <- df\n",
    "   destination_filename <- fn\n",
    "   write_excel_csv(my_dataframe, destination_filename)\n",
    "   my_bucket <- Sys.getenv('WORKSPACE_BUCKET')\n",
    "   system(paste0(\"gsutil cp ./\", destination_filename, \" \", my_bucket, folder), intern=T)\n",
    "}"
   ]
  },
  {
   "cell_type": "markdown",
   "metadata": {},
   "source": [
    "# Pull hba1c and glucose measures"
   ]
  },
  {
   "cell_type": "code",
   "execution_count": null,
   "metadata": {},
   "outputs": [],
   "source": [
    "# This query represents dataset \"access_sample_glucose_hba1c_readings\" for domain \"measurement\" and was generated for All of Us Controlled Tier Dataset v8\n",
    "hba1c_glucose_sql <- paste(\"\n",
    "    SELECT\n",
    "        measurement.person_id,\n",
    "        measurement.measurement_concept_id,\n",
    "        m_standard_concept.concept_name as standard_concept_name,\n",
    "        m_standard_concept.concept_code as standard_concept_code,\n",
    "        m_standard_concept.vocabulary_id as standard_vocabulary,\n",
    "        measurement.measurement_datetime,\n",
    "        measurement.measurement_type_concept_id,\n",
    "        m_type.concept_name as measurement_type_concept_name,\n",
    "        measurement.operator_concept_id,\n",
    "        m_operator.concept_name as operator_concept_name,\n",
    "        measurement.value_as_number,\n",
    "        measurement.value_as_concept_id,\n",
    "        m_value.concept_name as value_as_concept_name,\n",
    "        measurement.unit_concept_id,\n",
    "        m_unit.concept_name as unit_concept_name,\n",
    "        measurement.range_low,\n",
    "        measurement.range_high,\n",
    "        measurement.visit_occurrence_id,\n",
    "        m_visit.concept_name as visit_occurrence_concept_name,\n",
    "        measurement.measurement_source_value,\n",
    "        measurement.measurement_source_concept_id,\n",
    "        m_source_concept.concept_name as source_concept_name,\n",
    "        m_source_concept.concept_code as source_concept_code,\n",
    "        m_source_concept.vocabulary_id as source_vocabulary,\n",
    "        measurement.unit_source_value,\n",
    "        measurement.value_source_value \n",
    "    FROM\n",
    "        ( SELECT\n",
    "            * \n",
    "        FROM\n",
    "            `measurement` measurement \n",
    "        WHERE\n",
    "            (\n",
    "                measurement_concept_id IN (SELECT\n",
    "                    DISTINCT c.concept_id \n",
    "                FROM\n",
    "                    `cb_criteria` c \n",
    "                JOIN\n",
    "                    (SELECT\n",
    "                        CAST(cr.id as string) AS id       \n",
    "                    FROM\n",
    "                        `cb_criteria` cr       \n",
    "                    WHERE\n",
    "                        concept_id IN (3003309, 3004410, 3005673, 3007263, 3034639, 36032094, 36304734, 40762352, 40795740, 4149519, 4184637, 4197971, 42869630)       \n",
    "                        AND full_text LIKE '%_rank1]%'      ) a \n",
    "                        ON (c.path LIKE CONCAT('%.', a.id, '.%') \n",
    "                        OR c.path LIKE CONCAT('%.', a.id) \n",
    "                        OR c.path LIKE CONCAT(a.id, '.%') \n",
    "                        OR c.path = a.id) \n",
    "                WHERE\n",
    "                    is_standard = 1 \n",
    "                    AND is_selectable = 1)\n",
    "            )  \n",
    "            AND (\n",
    "                measurement.PERSON_ID IN (SELECT\n",
    "                    distinct person_id  \n",
    "                FROM\n",
    "                    `cb_search_person` cb_search_person  \n",
    "                WHERE\n",
    "                    cb_search_person.person_id IN (SELECT\n",
    "                        criteria.person_id \n",
    "                    FROM\n",
    "                        (SELECT\n",
    "                            DISTINCT person_id, entry_date, concept_id \n",
    "                        FROM\n",
    "                            `cb_search_all_events` \n",
    "                        WHERE\n",
    "                            (concept_id IN(SELECT\n",
    "                                DISTINCT c.concept_id \n",
    "                            FROM\n",
    "                                `cb_criteria` c \n",
    "                            JOIN\n",
    "                                (SELECT\n",
    "                                    CAST(cr.id as string) AS id       \n",
    "                                FROM\n",
    "                                    `cb_criteria` cr       \n",
    "                                WHERE\n",
    "                                    concept_id IN (43528895)       \n",
    "                                    AND full_text LIKE '%_rank1]%'      ) a \n",
    "                                    ON (c.path LIKE CONCAT('%.', a.id, '.%') \n",
    "                                    OR c.path LIKE CONCAT('%.', a.id) \n",
    "                                    OR c.path LIKE CONCAT(a.id, '.%') \n",
    "                                    OR c.path = a.id) \n",
    "                            WHERE\n",
    "                                is_standard = 0 \n",
    "                                AND is_selectable = 1) \n",
    "                            AND is_standard = 0 )) criteria ) )\n",
    "            )) measurement \n",
    "    LEFT JOIN\n",
    "        `concept` m_standard_concept \n",
    "            ON measurement.measurement_concept_id = m_standard_concept.concept_id \n",
    "    LEFT JOIN\n",
    "        `concept` m_type \n",
    "            ON measurement.measurement_type_concept_id = m_type.concept_id \n",
    "    LEFT JOIN\n",
    "        `concept` m_operator \n",
    "            ON measurement.operator_concept_id = m_operator.concept_id \n",
    "    LEFT JOIN\n",
    "        `concept` m_value \n",
    "            ON measurement.value_as_concept_id = m_value.concept_id \n",
    "    LEFT JOIN\n",
    "        `concept` m_unit \n",
    "            ON measurement.unit_concept_id = m_unit.concept_id \n",
    "    LEFT JOIn\n",
    "        `visit_occurrence` v \n",
    "            ON measurement.visit_occurrence_id = v.visit_occurrence_id \n",
    "    LEFT JOIN\n",
    "        `concept` m_visit \n",
    "            ON v.visit_concept_id = m_visit.concept_id \n",
    "    LEFT JOIN\n",
    "        `concept` m_source_concept \n",
    "            ON measurement.measurement_source_concept_id = m_source_concept.concept_id\", sep=\"\")\n",
    "\n",
    "# Formulate a Cloud Storage destination path for the data exported from BigQuery.\n",
    "# NOTE: By default data exported multiple times on the same day will overwrite older copies.\n",
    "#       But data exported on a different days will write to a new location so that historical\n",
    "#       copies can be kept as the dataset definition is changed.\n",
    "hba1c_glucose_path <- file.path(\n",
    "  Sys.getenv(\"WORKSPACE_BUCKET\"),\n",
    "  \"bq_exports\",\n",
    "  Sys.getenv(\"OWNER_EMAIL\"),\n",
    "  #strftime(lubridate::now(), \"%Y%m%d\"),  # Comment out this line if you want the export to always overwrite.\n",
    "  \"hba1c_glucose\",\n",
    "  \"hba1c_glucose_*.csv\")\n",
    "message(str_glue('The data will be written to {hba1c_glucose_path}. Use this path when reading ',\n",
    "                 'the data into your notebooks in the future.'))\n",
    "\n",
    "# Perform the query and export the dataset to Cloud Storage as CSV files.\n",
    "# NOTE: You only need to run `bq_table_save` once. After that, you can\n",
    "#       just read data from the CSVs in Cloud Storage.\n",
    "#bq_table_save(\n",
    "#  bq_dataset_query(Sys.getenv(\"WORKSPACE_CDR\"), hba1c_glucose_sql, billing = Sys.getenv(\"GOOGLE_PROJECT\")),\n",
    "#  hba1c_glucose_path,\n",
    "#destination_format = \"CSV\")"
   ]
  },
  {
   "cell_type": "code",
   "execution_count": null,
   "metadata": {},
   "outputs": [],
   "source": [
    "# Read the data directly from Cloud Storage into memory.\n",
    "# NOTE: Alternatively you can `gsutil -m cp {measurement_93468355_path}` to copy these files\n",
    "#       to the Jupyter disk.\n",
    "read_bq_export_from_workspace_bucket <- function(export_path) {\n",
    "  col_types <- cols(standard_concept_name = col_character(), standard_concept_code = col_character(), standard_vocabulary = col_character(), measurement_type_concept_name = col_character(), operator_concept_name = col_character(), value_as_concept_name = col_character(), unit_concept_name = col_character(), visit_occurrence_concept_name = col_character(), measurement_source_value = col_character(), source_concept_name = col_character(), source_concept_code = col_character(), source_vocabulary = col_character(), unit_source_value = col_character(), value_source_value = col_character())\n",
    "  bind_rows(\n",
    "    map(system2('gsutil', args = c('ls', export_path), stdout = TRUE, stderr = TRUE),\n",
    "        function(csv) {\n",
    "          message(str_glue('Loading {csv}.'))\n",
    "          chunk <- read_csv(pipe(str_glue('gsutil cat {csv}')), col_types = col_types, show_col_types = FALSE)\n",
    "          if (is.null(col_types)) {\n",
    "            col_types <- spec(chunk)\n",
    "          }\n",
    "          chunk\n",
    "        }))\n",
    "}\n",
    "hba1c_glucose_df <- read_bq_export_from_workspace_bucket(hba1c_glucose_path)\n",
    "\n",
    "dim(hba1c_glucose_df)\n",
    "\n",
    "head(hba1c_glucose_df, 5)"
   ]
  },
  {
   "cell_type": "code",
   "execution_count": null,
   "metadata": {},
   "outputs": [],
   "source": [
    "hba1c_glucose_df$msr_cat<-ifelse(grepl('FASTING', toupper(hba1c_glucose_df$standard_concept_name)), 'fasting glucose', \n",
    "                          ifelse(grepl('GLUCOSE', toupper(hba1c_glucose_df$standard_concept_name)), 'random glucose', 'HbA1c'))"
   ]
  },
  {
   "cell_type": "code",
   "execution_count": null,
   "metadata": {},
   "outputs": [],
   "source": [
    "keepvars<-c('person_id','standard_concept_name','msr_cat','measurement_datetime','value_as_concept_name','value_as_number','unit_concept_name','range_low','range_high')"
   ]
  },
  {
   "cell_type": "code",
   "execution_count": null,
   "metadata": {},
   "outputs": [],
   "source": [
    "hba1c_glucose_df$year<-year(hba1c_glucose_df$measurement_datetime)"
   ]
  },
  {
   "cell_type": "code",
   "execution_count": null,
   "metadata": {},
   "outputs": [],
   "source": [
    "df<-hba1c_glucose_df[hba1c_glucose_df$year>=2016 & hba1c_glucose_df$year <2024,keepvars]"
   ]
  },
  {
   "cell_type": "markdown",
   "metadata": {},
   "source": [
    "# Add in diabetes flag based on clinical cutoffs\n",
    "\n",
    "- HbA1c >= 6.5\n",
    "- Fasting Glucose >= 126\n",
    "- Random Glucose >= 200\n",
    "\n",
    "Exclude values of 1000000 (default set in the All of Us data)"
   ]
  },
  {
   "cell_type": "code",
   "execution_count": null,
   "metadata": {},
   "outputs": [],
   "source": [
    "df$value_2<-suppressWarnings(as.numeric(as.character(df$value_as_concept_name)))\n",
    "df$value_updt<-coalesce(df$value_as_number, df$value_2)"
   ]
  },
  {
   "cell_type": "markdown",
   "metadata": {},
   "source": [
    "## HbA1c"
   ]
  },
  {
   "cell_type": "code",
   "execution_count": null,
   "metadata": {},
   "outputs": [],
   "source": [
    "# unit conversion\n",
    "df$value_updt<-ifelse(df$msr_cat == 'HbA1c' \n",
    "                       & df$unit_concept_name %in% c('milligram per deciliter','mg/dL'), \n",
    "                       (df$value_updt+46.7)/28.7,\n",
    "               ifelse(df$msr_cat == 'HbA1c' \n",
    "                      & df$unit_concept_name %in% c('nanogram per milliliter'), \n",
    "                       (df$value_updt/10000 + 46.7)/28.7, df$value_updt))"
   ]
  },
  {
   "cell_type": "code",
   "execution_count": null,
   "metadata": {},
   "outputs": [],
   "source": [
    "df$hba1c_diabetes<-ifelse(df$msr_cat == \"HbA1c\" & df$value_updt >= 6.5 & df$value_as_number < 10000000, 1,\n",
    "                   ifelse(df$msr_cat == \"HbA1c\" & df$value_updt < 6.5, 0, NA))"
   ]
  },
  {
   "cell_type": "markdown",
   "metadata": {},
   "source": [
    "## Fasting Glucose"
   ]
  },
  {
   "cell_type": "code",
   "execution_count": null,
   "metadata": {},
   "outputs": [],
   "source": [
    "df$hba1c_gluc_fast<-ifelse(df$msr_cat == \"fasting glucose\" & df$value_updt >= 126 & df$value_as_number < 10000000, 1,\n",
    "                   ifelse(df$msr_cat == \"fasting glucose\" & df$value_updt < 126, 0, NA))"
   ]
  },
  {
   "cell_type": "markdown",
   "metadata": {},
   "source": [
    "## Random Glucose"
   ]
  },
  {
   "cell_type": "code",
   "execution_count": null,
   "metadata": {},
   "outputs": [],
   "source": [
    "df$hba1c_gluc_rand<-ifelse(df$msr_cat == \"random glucose\" & df$value_updt >= 200 & df$value_as_number < 10000000, 1,\n",
    "                   ifelse(df$msr_cat == \"random glucose\" & df$value_updt < 200, 0, NA))"
   ]
  },
  {
   "cell_type": "markdown",
   "metadata": {},
   "source": [
    "## Finalize and Output\n",
    "\n",
    "Create a measure for diabetes \n",
    "- diabetes = 1 if met clinical criteria, 0 if did not meet clinical critiera, NA if result but no value. "
   ]
  },
  {
   "cell_type": "code",
   "execution_count": null,
   "metadata": {},
   "outputs": [],
   "source": [
    "df$diabetes<-coalesce(df$hba1c_diabetes, df$hba1c_gluc_fast, df$hba1c_gluc_rand)\n",
    "df$source<-df$msr_cat"
   ]
  },
  {
   "cell_type": "code",
   "execution_count": null,
   "metadata": {},
   "outputs": [],
   "source": [
    "keepvars<-c('person_id','measurement_datetime','value_updt','diabetes','source')"
   ]
  },
  {
   "cell_type": "code",
   "execution_count": null,
   "metadata": {},
   "outputs": [],
   "source": [
    "write_csv(df[,keepvars], 'hba1c_glucose_readings.csv', \"/ehr/\")"
   ]
  }
 ],
 "metadata": {
  "kernelspec": {
   "display_name": "R",
   "language": "R",
   "name": "ir"
  },
  "language_info": {
   "codemirror_mode": "r",
   "file_extension": ".r",
   "mimetype": "text/x-r-source",
   "name": "R",
   "pygments_lexer": "r",
   "version": "4.5.0"
  },
  "toc": {
   "base_numbering": 1,
   "nav_menu": {},
   "number_sections": true,
   "sideBar": true,
   "skip_h1_title": false,
   "title_cell": "Table of Contents",
   "title_sidebar": "Contents",
   "toc_cell": false,
   "toc_position": {},
   "toc_section_display": true,
   "toc_window_display": false
  }
 },
 "nbformat": 4,
 "nbformat_minor": 2
}

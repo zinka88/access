{
 "cells": [
  {
   "cell_type": "code",
   "execution_count": null,
   "metadata": {},
   "outputs": [],
   "source": [
    "# Reliability Analysis\n",
    "# Author: Anna Zink\n",
    "# Description: Create data for reliability plots in the paper "
   ]
  },
  {
   "cell_type": "code",
   "execution_count": null,
   "metadata": {},
   "outputs": [],
   "source": [
    "# install packages \n",
    "library(plyr)\n",
    "library(tidyverse)\n",
    "library(bigrquery)\n",
    "library(stringr)  \n",
    "library(lubridate)\n",
    "\n",
    "# get sys environment settings\n",
    "BILLING_PROJECT_ID <- Sys.getenv('GOOGLE_PROJECT')\n",
    "CDR <- Sys.getenv('WORKSPACE_CDR')\n",
    "MY_BUCKET <- Sys.getenv('WORKSPACE_BUCKET')\n",
    "\n",
    "# useful functions\n",
    "load_data<-function(file, folder){\n",
    "    my_bucket <- Sys.getenv('WORKSPACE_BUCKET')\n",
    "    system(paste0(\"gsutil cp \", my_bucket, folder, file, \" .\"), intern=T)\n",
    "    dsn <- read_csv(file, show_col_types = FALSE)\n",
    "    return(dsn)\n",
    "}\n",
    "\n",
    "# Replace df with THE NAME OF YOUR DATAFRAME\n",
    "# folder = \"/ehr/\" \n",
    "write_csv<-function(df, fn, folder) {\n",
    "   my_dataframe <- df\n",
    "   destination_filename <- fn\n",
    "   write_excel_csv(my_dataframe, destination_filename)\n",
    "   my_bucket <- Sys.getenv('WORKSPACE_BUCKET')\n",
    "   system(paste0(\"gsutil cp ./\", destination_filename, \" \", my_bucket, folder), intern=T)\n",
    "}"
   ]
  },
  {
   "cell_type": "markdown",
   "metadata": {
    "heading_collapsed": true
   },
   "source": [
    "# Load data"
   ]
  },
  {
   "cell_type": "code",
   "execution_count": null,
   "metadata": {
    "hidden": true
   },
   "outputs": [],
   "source": [
    "# load analysis sample and a list of people who filled out the self report survey \n",
    "sample<-load_data('analysis_sample.csv', \"/analysis/\")\n",
    "self_sample<-load_data('answered_self_reported_health.csv', \"/survey/\")\n",
    "self_sample$in_self_survey<-1\n",
    "sample<-merge(sample, self_sample, by= 'person_id' , all.x = TRUE)\n",
    "sample$in_self_survey<-ifelse(is.na(sample$in_self_survey), 0, sample$in_self_survey)\n",
    "sample$noaccess<-ifelse(sample$delayed_ind == 1 | sample$afford_ind == 1, 1, 0)"
   ]
  },
  {
   "cell_type": "code",
   "execution_count": null,
   "metadata": {
    "hidden": true
   },
   "outputs": [],
   "source": [
    "ehr<-load_data('ehr_conditions_long.csv', \"/data/\")\n",
    "self<-load_data('self_conditions_long.csv', \"/data/\")\n",
    "visit<-load_data('by_person_ehr_visit_flag.csv', '/ehr/')\n",
    "self$self<-1"
   ]
  },
  {
   "cell_type": "code",
   "execution_count": null,
   "metadata": {
    "hidden": true
   },
   "outputs": [],
   "source": [
    "all<-bind_rows(ehr, self[,c('person_id','condition','self')])\n",
    "all[is.na(all)] <- 0\n",
    "head(all)"
   ]
  },
  {
   "cell_type": "code",
   "execution_count": null,
   "metadata": {
    "hidden": true
   },
   "outputs": [],
   "source": [
    "byperson<- all %>% group_by(person_id, condition) %>% \n",
    "                summarise(ehr=max(ehr_ever),\n",
    "                          ehr_before=max(ehr_lookback),\n",
    "                          ehr_1_yr=max(ehr_1_yr_lookback),\n",
    "                          ehr_2_yr=max(ehr_2_yr_lookback),\n",
    "                          self=max(self))"
   ]
  },
  {
   "cell_type": "code",
   "execution_count": null,
   "metadata": {
    "hidden": true
   },
   "outputs": [],
   "source": [
    "# subset to people in our analysis sample and merge in access labels\n",
    "merged<-merge(byperson, sample, by='person_id')\n",
    "merged<-merge(merged, visit, by='person_id', all.x=TRUE)\n",
    "head(merged)"
   ]
  },
  {
   "cell_type": "code",
   "execution_count": null,
   "metadata": {
    "hidden": true
   },
   "outputs": [],
   "source": [
    "write_csv(merged, 'ehr_reliability_data.csv', '/data/')"
   ]
  },
  {
   "cell_type": "markdown",
   "metadata": {
    "heading_collapsed": true
   },
   "source": [
    "# Dataset for boxplots in figure 1\n",
    "\n",
    "Datasets: \n",
    "- access_ehr_boxplot.csv\n",
    "- access_self-report_boxplot.csv\n",
    "\n",
    "Variables: \n",
    "- label\n",
    "- lower_whisker\n",
    "- lower_quartile \n",
    "- median\n",
    "- upper_quartile\n",
    "- upper_whisker\n",
    "- fliers\n",
    "\n"
   ]
  },
  {
   "cell_type": "markdown",
   "metadata": {
    "heading_collapsed": true,
    "hidden": true
   },
   "source": [
    "## EHR boxplots"
   ]
  },
  {
   "cell_type": "code",
   "execution_count": null,
   "metadata": {
    "hidden": true
   },
   "outputs": [],
   "source": [
    "box_out <- boxplot.stats(all_counts$ehr_count[all_counts$afford_ind == 1])\n",
    "stats<-box_out$stats\n",
    "out<-box_out$out\n",
    "outliers<-unique(out)\n",
    "afford<-data.frame(label='afford_access', \n",
    "                   lower_whisker=stats[1], \n",
    "                   lower_quartile=stats[2], \n",
    "                   median=stats[3], \n",
    "                   upper_quartile=stats[4], \n",
    "                   upper_whisker=stats[5],\n",
    "                  fliers=I(list(outliers)))"
   ]
  },
  {
   "cell_type": "code",
   "execution_count": null,
   "metadata": {
    "hidden": true
   },
   "outputs": [],
   "source": [
    "box_out <- boxplot.stats(all_counts$ehr_count[all_counts$delayed_ind == 1])\n",
    "stats<-box_out$stats\n",
    "out<-box_out$out\n",
    "outliers<-unique(out)\n",
    "delay<-data.frame(label='delay_access', \n",
    "                   lower_whisker=stats[1], \n",
    "                   lower_quartile=stats[2], \n",
    "                   median=stats[3], \n",
    "                   upper_quartile=stats[4], \n",
    "                   upper_whisker=stats[5],\n",
    "                  fliers=I(list(outliers)))"
   ]
  },
  {
   "cell_type": "code",
   "execution_count": null,
   "metadata": {
    "hidden": true
   },
   "outputs": [],
   "source": [
    "box_out <- boxplot.stats(all_counts$ehr_count[all_counts$delayed_ind == 0 & all_counts$afford_ind == 0])\n",
    "stats<-box_out$stats\n",
    "out<-box_out$out\n",
    "outliers<-unique(out)\n",
    "high<-data.frame(label='high_access', \n",
    "                   lower_whisker=stats[1], \n",
    "                   lower_quartile=stats[2], \n",
    "                   median=stats[3], \n",
    "                   upper_quartile=stats[4], \n",
    "                   upper_whisker=stats[5],\n",
    "                  fliers=I(list(outliers)))"
   ]
  },
  {
   "cell_type": "code",
   "execution_count": null,
   "metadata": {
    "hidden": true
   },
   "outputs": [],
   "source": [
    "all<-rbind(afford, delay, high)\n",
    "write_csv(all, 'access_ehr_boxplot.csv',\"/output/\")"
   ]
  },
  {
   "cell_type": "markdown",
   "metadata": {
    "heading_collapsed": true,
    "hidden": true
   },
   "source": [
    "## Survey boxplots"
   ]
  },
  {
   "cell_type": "code",
   "execution_count": null,
   "metadata": {
    "hidden": true
   },
   "outputs": [],
   "source": [
    "box_out <- boxplot.stats(all_counts$survey_count[all_counts$afford_ind == 1])\n",
    "stats<-box_out$stats\n",
    "out<-box_out$out\n",
    "outliers<-unique(out)\n",
    "afford<-data.frame(label='afford_access', \n",
    "                   lower_whisker=stats[1], \n",
    "                   lower_quartile=stats[2], \n",
    "                   median=stats[3], \n",
    "                   upper_quartile=stats[4], \n",
    "                   upper_whisker=stats[5],\n",
    "                  fliers=I(list(outliers)))\n",
    "\n",
    "box_out <- boxplot.stats(all_counts$survey_count[all_counts$delayed_ind == 1])\n",
    "stats<-box_out$stats\n",
    "out<-box_out$out\n",
    "outliers<-unique(out)\n",
    "delay<-data.frame(label='delay_access', \n",
    "                   lower_whisker=stats[1], \n",
    "                   lower_quartile=stats[2], \n",
    "                   median=stats[3], \n",
    "                   upper_quartile=stats[4], \n",
    "                   upper_whisker=stats[5],\n",
    "                  fliers=I(list(outliers)))\n",
    "\n",
    "box_out <- boxplot.stats(all_counts$survey_count[all_counts$delayed_ind == 0 & all_counts$afford_ind == 0])\n",
    "stats<-box_out$stats\n",
    "out<-box_out$out\n",
    "outliers<-unique(out)\n",
    "high<-data.frame(label='high_access', \n",
    "                   lower_whisker=stats[1], \n",
    "                   lower_quartile=stats[2], \n",
    "                   median=stats[3], \n",
    "                   upper_quartile=stats[4], \n",
    "                   upper_whisker=stats[5],\n",
    "                  fliers=I(list(outliers)))"
   ]
  },
  {
   "cell_type": "code",
   "execution_count": null,
   "metadata": {
    "hidden": true
   },
   "outputs": [],
   "source": [
    "all<-rbind(afford, delay, high)\n",
    "write_csv(all, 'access_self_boxplot.csv',\"/output/\")"
   ]
  },
  {
   "cell_type": "code",
   "execution_count": null,
   "metadata": {
    "hidden": true
   },
   "outputs": [],
   "source": [
    "# not merged excludes people without a condition listed\n",
    "merged$ehr_only<-ifelse(merged$ehr == 1 & merged$self == 0, 1, 0)\n",
    "merged$self_only<-ifelse(merged$ehr == 0 & merged$self == 1, 1, 0)\n",
    "merged$ehr_sr<-ifelse(merged$ehr == 1 & merged$self == 1, 1, 0)\n",
    "merged$ehr_before_sr<-ifelse(merged$ehr_before == 1 & merged$self == 1, 1,0)\n",
    "merged$neither<-ifelse(merged$ehr == 0 & merged$self == 0, 1, 0)\n",
    "merged$condition_present<-ifelse(merged$ehr == 1 | merged$self == 1, 1, 0)"
   ]
  },
  {
   "cell_type": "code",
   "execution_count": null,
   "metadata": {
    "hidden": true
   },
   "outputs": [],
   "source": [
    "bycondition<-merged %>% group_by(condition) %>% summarise(count=sum(condition_present),\n",
    "                                                            ehr=sum(ehr_only), \n",
    "                                                            self=sum(self_only), \n",
    "                                                            ehr_sr=sum(ehr_sr),\n",
    "                                                             neither=sum(neither))\n",
    "# need to divide by the population \n",
    "n<-sum(sample$in_self_survey)\n",
    "bycondition$pct_ehr<-bycondition$ehr/n\n",
    "bycondition$pct_sr<-bycondition$self/n\n",
    "bycondition$pct_ehr_sr<-bycondition$ehr_sr/n\n",
    "bycondition$pct_none<-1-(bycondition$pct_ehr + bycondition$pct_sr + bycondition$pct_ehr_sr)\n",
    "bycondition"
   ]
  },
  {
   "cell_type": "code",
   "execution_count": null,
   "metadata": {
    "hidden": true
   },
   "outputs": [],
   "source": [
    "write_csv(bycondition, 'diag_reliability_plot.csv',\"/output/\")"
   ]
  },
  {
   "cell_type": "code",
   "execution_count": null,
   "metadata": {
    "hidden": true
   },
   "outputs": [],
   "source": [
    "# repeat by access group \n",
    "bycondition<-merged %>% group_by(condition, noaccess) %>% summarise(count=sum(condition_present),\n",
    "                                                                    self=sum(self), \n",
    "                                                                    self_ehr=sum(ehr_sr), \n",
    "                                                                    ehr_before=sum(ehr_before),\n",
    "                                                                    self_ehr_before=sum(ehr_before_sr),\n",
    "                                                                    error=sum(ehr != self))\n",
    "\n",
    "# need to divide by the population \n",
    "n<-sample %>% group_by(noaccess) %>% summarise(n=sum(in_self_survey))\n",
    "bycondition<-merge(bycondition, n, by='noaccess')\n",
    "bycondition$pct_missing_ehr<-1-bycondition$self_ehr/bycondition$self\n",
    "bycondition$pct_missing_sr<-1-bycondition$self_ehr_before/bycondition$ehr_before\n",
    "write_csv(bycondition, 'diag_reliability_by_access_plot.csv',\"/output/\")"
   ]
  },
  {
   "cell_type": "markdown",
   "metadata": {},
   "source": [
    "# Dataset for EHR reliability plot\n",
    "\n",
    "For each condition group, find the missing diagnosis rate, i.e., for those that have the condition flag if ehr =0\n",
    "\n",
    "- Condition\n",
    "- Neither\n",
    "- Cant\n",
    "- Delay \n",
    "- All \n",
    "- pval"
   ]
  },
  {
   "cell_type": "code",
   "execution_count": null,
   "metadata": {},
   "outputs": [],
   "source": [
    "# pass in dataset\n",
    "get_pval<-function(df, cond){\n",
    "    \n",
    "    temp_df<-df[df$condition == cond ,]\n",
    "    counts<-temp_df %>% group_by(neither) %>% summarise(x=sum(num), n=n())\n",
    "    prop_test<-prop.test(counts$x, counts$n, alternative=\"two.sided\", correct=TRUE)\n",
    "    return(prop_test$p.value)\n",
    "    \n",
    "}\n",
    "\n",
    "merged<-load_data('ehr_reliability_data.csv', '/data/')\n",
    "merged$neither<-ifelse(merged$afford_ind == 0 & merged$delayed_ind == 0, 1, 0)"
   ]
  },
  {
   "cell_type": "markdown",
   "metadata": {},
   "source": [
    "## reliability among diabetes task sample\n",
    "\n",
    "Look at reliability across all conditions for standard vs low access group"
   ]
  },
  {
   "cell_type": "code",
   "execution_count": null,
   "metadata": {},
   "outputs": [],
   "source": [
    "# subset to diabetes sample and get ehr reliabilty for each \n",
    "diab<-load_data('prediction_data_updt.csv',\"/diabetes/\")\n",
    "diab$in_diab<-1\n",
    "diab<-diab[,c('person_id','in_diab')]\n",
    "diab_merge<-merge(merged, diab, by='person_id')"
   ]
  },
  {
   "cell_type": "code",
   "execution_count": null,
   "metadata": {},
   "outputs": [],
   "source": [
    "diab_merge$denom<-ifelse(diab_merge$self == 1, 1, 0)\n",
    "diab_merge$num<-ifelse(diab_merge$self == 1 & diab_merge$ehr == 0, 1, 0)\n",
    "\n",
    "neither<-diab_merge[diab_merge$neither == 1,]  %>% summarise(num=sum(num), denom=sum(denom)) %>% mutate(neither=num/denom) %>% select(-c(num, denom))\n",
    "low<-diab_merge[diab_merge$neither == 0,]  %>% summarise(num=sum(num), denom=sum(denom)) %>% mutate(neither=num/denom) %>% select(-c(num, denom))\n",
    "\n",
    "print(paste0(\"ehr reliability for diab sample standard: \", 1-neither))\n",
    "print(paste0(\"ehr reliability for diab sample low: \", 1-low))"
   ]
  },
  {
   "cell_type": "code",
   "execution_count": null,
   "metadata": {},
   "outputs": [],
   "source": [
    "sub<-diab_merge[diab_merge$denom == 1,]\n",
    "counts<-sub %>% group_by(neither) %>% summarise(x=sum(num), n=n())\n",
    "prop_test<-prop.test(counts$x, counts$n, alternative=\"two.sided\", correct=TRUE)\n",
    "prop_test"
   ]
  },
  {
   "cell_type": "markdown",
   "metadata": {},
   "source": [
    "## create EHR reliability estimates\n",
    "\n",
    "This is calculating the EHR missingness rate --> to get reliability you need to 1-val"
   ]
  },
  {
   "cell_type": "code",
   "execution_count": null,
   "metadata": {},
   "outputs": [],
   "source": [
    "# define numerator and denominator for ehr \n",
    "merged$denom<-ifelse(merged$self == 1, 1, 0)\n",
    "merged$num<-ifelse(merged$self == 1 & merged$ehr == 0, 1, 0)\n",
    "\n",
    "# calculate missed ehr rates for each condition and create one dataset \n",
    "all<-merged %>% group_by(condition) %>% summarise(num=sum(num), denom=sum(denom)) %>% mutate(all=num/denom) %>% select(-c(num, denom))\n",
    "cant<-merged[merged$afford_ind == 1,] %>% group_by(condition) %>% summarise(num=sum(num), denom=sum(denom)) %>% mutate(afford=num/denom) %>% select(-c(num, denom))\n",
    "delay<-merged[merged$delayed_ind == 1,] %>% group_by(condition) %>% summarise(num=sum(num), denom=sum(denom)) %>% mutate(delay=num/denom) %>% select(-c(num, denom))\n",
    "neither<-merged[merged$neither == 1,] %>% group_by(condition) %>% summarise(num=sum(num), denom=sum(denom)) %>% mutate(neither=num/denom) %>% select(-c(num, denom))\n",
    "combined<-merge(all, cant, by='condition')\n",
    "combined<-merge(combined, delay, by='condition')\n",
    "combined<-merge(combined, neither, by='condition')\n",
    "\n",
    "# subset to rows where denom criteria is met\n",
    "subset<-merged[merged$denom == 1,]\n",
    "\n",
    "# create datasets for copmarison\n",
    "delay<-subset[subset$delayed_ind == 1 | subset$neither == 1,]\n",
    "afford<-subset[subset$afford_ind == 1 | subset$neither == 1,]\n",
    "\n",
    "# delay vs neither comparisions with benjamin-hochberg correction \n",
    "combined$pval_delay<-NA\n",
    "combined$pval_afford<-NA\n",
    "condition_list<-unique(merged$condition)\n",
    "for (c in condition_list){\n",
    "    pdelay<-get_pval(delay, c)\n",
    "    pafford<-get_pval(afford, c)\n",
    " \n",
    "    combined$pval_delay<-ifelse(combined$condition == c, pdelay, combined$pval_delay)\n",
    "    combined$pval_afford<-ifelse(combined$condition == c, pafford, combined$pval_afford)\n",
    "  \n",
    "}\n",
    "write_csv(combined, 'ehr_reliability_plot.csv',\"/output/\")"
   ]
  },
  {
   "cell_type": "markdown",
   "metadata": {},
   "source": [
    "## create self-report reliability mesaure"
   ]
  },
  {
   "cell_type": "code",
   "execution_count": null,
   "metadata": {},
   "outputs": [],
   "source": [
    "# define numerator and denominator for ehr - % of peple who self reported something in the ehr\n",
    "merged$denom<-ifelse(merged$ehr_before == 1, 1, 0)\n",
    "merged$num<-ifelse(merged$self == 1 & merged$ehr_before == 1, 1, 0)\n",
    "\n",
    "# calculate missed ehr rates for each condition and create one dataset \n",
    "all<-merged %>% group_by(condition) %>% summarise(num=sum(num), denom=sum(denom)) %>% mutate(all=num/denom) %>% select(-c(num, denom))\n",
    "#cant<-merged[merged$afford_ind == 1,] %>% group_by(condition) %>% summarise(num=sum(num), denom=sum(denom)) %>% mutate(afford=num/denom) %>% select(-c(num, denom))\n",
    "#delay<-merged[merged$delayed_ind == 1,] %>% group_by(condition) %>% summarise(num=sum(num), denom=sum(denom)) %>% mutate(delay=num/denom) %>% select(-c(num, denom))\n",
    "lowaccess<-merged[merged$neither == 0,] %>% group_by(condition) %>% summarise(num=sum(num), denom=sum(denom)) %>% mutate(neither=num/denom) %>% select(-c(num, denom))\n",
    "names(lowaccess)<-c('condition','lowaccess')\n",
    "standard<-merged[merged$neither == 1,] %>% group_by(condition) %>% summarise(num=sum(num), denom=sum(denom)) %>% mutate(neither=num/denom) %>% select(-c(num, denom))\n",
    "combined<-merge(all, lowaccess, by='condition')\n",
    "combined<-merge(combined, standard, by='condition')\n",
    "# subset to rows where denom criteria is met\n",
    "subset<-merged[merged$denom == 1,]\n",
    "\n",
    "# delay vs neither comparisions with benjamin-hochberg correction \n",
    "combined$pval_low<-NA\n",
    "condition_list<-unique(merged$condition)\n",
    "for (c in condition_list){\n",
    "    plow<-get_pval(subset, c)\n",
    " \n",
    "    combined$pval_low<-ifelse(combined$condition == c, plow, combined$pval_low)\n",
    "\n",
    "}\n",
    "combined$pval_low_bh<-p.adjust(combined$pval_low, method='BH')\n",
    "combined$flag<-ifelse(combined$lowaccess>combined$neither, 1, 0)\n",
    "write_csv(combined, 'self_reliability_plot.csv',\"/output/\")"
   ]
  },
  {
   "cell_type": "markdown",
   "metadata": {},
   "source": [
    "## Stratify by Visit"
   ]
  },
  {
   "cell_type": "code",
   "execution_count": null,
   "metadata": {},
   "outputs": [],
   "source": [
    "merged$ehr_visit<-ifelse(coalesce(merged$ehr_visit_pre,0) | coalesce(merged$ehr_visit_post,0), 1, 0)\n",
    "merged$ehr_visit_counts<-coalesce(merged$ehr_visit_pre_count,0) + coalesce(merged$ehr_visit_post_count,0)"
   ]
  },
  {
   "cell_type": "code",
   "execution_count": null,
   "metadata": {},
   "outputs": [],
   "source": [
    "summary(merged$ehr_visit_pre_count)"
   ]
  },
  {
   "cell_type": "code",
   "execution_count": null,
   "metadata": {},
   "outputs": [],
   "source": [
    "all<-merged %>% group_by(condition, ehr_visit) %>% summarise(num=sum(num), denom=sum(denom)) %>% mutate(all=num/denom) %>% select(-c(num, denom))\n",
    "cant<-merged[merged$afford_ind == 1,] %>% group_by(condition, ehr_visit) %>% summarise(num=sum(num), denom=sum(denom)) %>% mutate(afford=num/denom) %>% select(-c(num, denom))\n",
    "delay<-merged[merged$delayed_ind == 1,] %>% group_by(condition, ehr_visit) %>% summarise(num=sum(num), denom=sum(denom)) %>% mutate(delay=num/denom) %>% select(-c(num, denom))\n",
    "neither<-merged[merged$neither == 1,] %>% group_by(condition, ehr_visit) %>% summarise(num=sum(num), denom=sum(denom)) %>% mutate(neither=num/denom) %>% select(-c(num, denom))"
   ]
  },
  {
   "cell_type": "code",
   "execution_count": null,
   "metadata": {},
   "outputs": [],
   "source": [
    "combined<-merge(all, cant, by=c('condition','ehr_visit'))\n",
    "combined<-merge(combined, delay, by=c('condition','ehr_visit'))\n",
    "combined<-merge(combined, neither, by=c('condition','ehr_visit'))"
   ]
  },
  {
   "cell_type": "code",
   "execution_count": null,
   "metadata": {},
   "outputs": [],
   "source": [
    "head(combined)"
   ]
  },
  {
   "cell_type": "code",
   "execution_count": null,
   "metadata": {},
   "outputs": [],
   "source": [
    "library(data.table)\n",
    "long<-melt(combined, id.vars=c('condition','ehr_visit'))\n",
    "head(long)"
   ]
  },
  {
   "cell_type": "code",
   "execution_count": null,
   "metadata": {},
   "outputs": [],
   "source": [
    "long_sub<-long[!(long$variable == 'all') & long$ehr_visit == 1,]\n",
    "ggplot(long_sub, aes(x=value, y=condition, color=variable))+geom_point()+\n",
    "facet_wrap(~ehr_visit)+theme_bw()"
   ]
  },
  {
   "cell_type": "markdown",
   "metadata": {},
   "source": [
    "# Summarize EHR reliability across conditions\n",
    "\n",
    "- average conditions missing by group\n",
    "- how likelihood of EHR condition changes by group if self-reported"
   ]
  },
  {
   "cell_type": "code",
   "execution_count": null,
   "metadata": {},
   "outputs": [],
   "source": [
    "names(merged)\n",
    "merged$ehr_visit_pre<-coalesce(merged$ehr_visit_pre, 0)\n",
    "merged$ehr_visit_post<-coalesce(merged$ehr_visit_post, 0)\n",
    "merged$ehr_visit<-ifelse(merged$ehr_visit_pre | merged$ehr_visit_post, 1, 0)\n",
    "merged$ehr_visit_count<-coalesce(merged$ehr_visit_pre_count, 0) + coalesce(merged$ehr_visit_post_count, 0)"
   ]
  },
  {
   "cell_type": "code",
   "execution_count": null,
   "metadata": {},
   "outputs": [],
   "source": [
    "# average\n",
    "has_self<-merged[merged$self == 1,]"
   ]
  },
  {
   "cell_type": "code",
   "execution_count": null,
   "metadata": {},
   "outputs": [],
   "source": [
    "# missing diagnoses per person\n",
    "has_self_person<-has_self %>% group_by(person_id, afford_ind, delayed_ind) %>% \n",
    "    summarise(n_conditions=n(), ehr=mean(ehr), ehr_1yr=mean(ehr_1_yr))\n",
    "head(has_self_person)"
   ]
  },
  {
   "cell_type": "code",
   "execution_count": null,
   "metadata": {},
   "outputs": [],
   "source": [
    "has_self_person %>% group_by(afford_ind, delayed_ind) %>% summarise(ehr=mean(ehr), ehr_1yr=mean(ehr_1yr))\n",
    "has_self_person %>% group_by(afford_ind) %>% summarise(ehr=mean(ehr), ehr_1yr=mean(ehr_1yr))\n",
    "has_self_person %>% group_by(delayed_ind) %>% summarise(ehr=mean(ehr), ehr_1yr=mean(ehr_1yr))"
   ]
  },
  {
   "cell_type": "code",
   "execution_count": null,
   "metadata": {},
   "outputs": [],
   "source": [
    "mod1<-lm(ehr ~ neither + condition, data=has_self)\n",
    "summary(mod1)"
   ]
  },
  {
   "cell_type": "code",
   "execution_count": null,
   "metadata": {},
   "outputs": [],
   "source": [
    "mod2<-lm(ehr ~ neither + ehr_visit + condition , data=has_self)\n",
    "summary(mod2)"
   ]
  },
  {
   "cell_type": "code",
   "execution_count": null,
   "metadata": {},
   "outputs": [],
   "source": [
    "mod3<-lm(ehr ~ neither + ehr_visit_count + condition , data=has_self)\n",
    "summary(mod3)"
   ]
  }
 ],
 "metadata": {
  "kernelspec": {
   "display_name": "R",
   "language": "R",
   "name": "ir"
  },
  "language_info": {
   "codemirror_mode": "r",
   "file_extension": ".r",
   "mimetype": "text/x-r-source",
   "name": "R",
   "pygments_lexer": "r",
   "version": "4.5.0"
  },
  "toc": {
   "base_numbering": 1,
   "nav_menu": {},
   "number_sections": true,
   "sideBar": true,
   "skip_h1_title": false,
   "title_cell": "Table of Contents",
   "title_sidebar": "Contents",
   "toc_cell": false,
   "toc_position": {},
   "toc_section_display": true,
   "toc_window_display": false
  }
 },
 "nbformat": 4,
 "nbformat_minor": 2
}

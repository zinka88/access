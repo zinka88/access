{
 "cells": [
  {
   "cell_type": "code",
   "execution_count": null,
   "metadata": {},
   "outputs": [],
   "source": [
    "# Title: Create Measurement Features\n",
    "# Author: Anna Zink\n",
    "# Date: May 16, 2024\n",
    "# Description: Take ehr data and create a set of features "
   ]
  },
  {
   "cell_type": "markdown",
   "metadata": {},
   "source": [
    "# Set Up"
   ]
  },
  {
   "cell_type": "code",
   "execution_count": null,
   "metadata": {},
   "outputs": [],
   "source": [
    "library(viridis)    # A nice color scheme for plots.\n",
    "library(ggthemes)   # Common themes to change the look and feel of plots.\n",
    "library(scales)     # Graphical scales map data to aesthetics in plots.\n",
    "library(skimr)      # Better summaries of data.\n",
    "library(lubridate)  # Date library from the tidyverse.\n",
    "library(tidyverse)  # Data wrangling packages.\n",
    "library(bigrquery)  # Data extraction from Google BigQuery\n",
    "library(stringr)\n",
    "#library(DescTools)"
   ]
  },
  {
   "cell_type": "code",
   "execution_count": null,
   "metadata": {},
   "outputs": [],
   "source": [
    "load_data<-function(file, folder){\n",
    "    my_bucket <- Sys.getenv('WORKSPACE_BUCKET')\n",
    "    system(paste0(\"gsutil cp \", my_bucket, folder, file, \" .\"), intern=T)\n",
    "    dsn <- read_csv(file, show_col_types = FALSE)\n",
    "    return(dsn)\n",
    "}\n",
    "\n",
    "# Replace df with THE NAME OF YOUR DATAFRAME\n",
    "write_csv<-function(df, fn) {\n",
    "    \n",
    "   my_dataframe <- df\n",
    "   destination_filename <- fn\n",
    "\n",
    "   # store the dataframe in current workspace\n",
    "   write_excel_csv(my_dataframe, destination_filename)\n",
    "\n",
    "   my_bucket <- Sys.getenv('WORKSPACE_BUCKET')\n",
    "   system(paste0(\"gsutil cp ./\", destination_filename, \" \", my_bucket, \"/ehr/\"), intern=T)\n",
    "}"
   ]
  },
  {
   "cell_type": "markdown",
   "metadata": {},
   "source": [
    "# Define Functions to Process & Clean Measurement Data"
   ]
  },
  {
   "cell_type": "markdown",
   "metadata": {},
   "source": [
    "## Process Function\n",
    "- create a map of measurement names to short nicknames\n",
    "- define \"process\" function"
   ]
  },
  {
   "cell_type": "code",
   "execution_count": null,
   "metadata": {},
   "outputs": [],
   "source": [
    "# want to create a function to do this\n",
    "yr<-2016\n",
    "msrs<-load_data(paste0('msrs_', yr, '.csv'), \"/ehr/\")\n",
    "head(msrs)"
   ]
  },
  {
   "cell_type": "code",
   "execution_count": null,
   "metadata": {},
   "outputs": [],
   "source": [
    "# create a short name for the measures\n",
    "measure<-unique(msrs$MEASUREMENT)\n",
    "#new_name<-c('Creatinine', 'Diastolic_BP','Sodium','RR','Urea','HR','Glucose','BMI','Systolic_BP','Temp','Height',\n",
    "#           'Erythrocyte','Hemoglobin','Oxygen','Weight','Chloride','Calcium','Potassium')\n",
    "measure<-c(measure, 'Heart rate', 'Diastolic blood pressure', 'Systolic blood pressure','Respiratory rate')\n",
    "map<-data.frame(og=measure)\n",
    "map$new<-ifelse(grepl('A1C', toupper(map$og)), 'A1C',\n",
    "          ifelse(grepl('GLUCOSE', toupper(map$og)), 'Glucose', \n",
    "         ifelse(grepl('TRIGLYCERIDE', toupper(map$og)), 'Triglyceride', sub(\" \\\\[.*\", \"\", map$og))))\n",
    "map$new<-ifelse(map$new == 'Glucose' & grepl('FASTING', toupper(map$og)), 'Glucose_Fasting', map$new)\n",
    "map$new<-ifelse(map$new == 'Diastolic blood pressure', 'Diastolic_BP',\n",
    "         ifelse(map$new == 'Systolic blood pressure', 'Systolic_BP',\n",
    "         ifelse(map$new == 'Body mass index (BMI)', 'BMI', \n",
    "         ifelse(map$new == 'Oxygen saturation in Arterial blood by Pulse oximetry', 'Oxygen',\n",
    "         ifelse(map$new == 'Body weight', 'Weight', \n",
    "         ifelse(map$new == 'Respiratory rate', 'RR',\n",
    "         ifelse(map$new == 'Heart rate', 'HR',\n",
    "         ifelse(map$new == 'Urea nitrogen', 'Urea', map$new))))))))"
   ]
  },
  {
   "cell_type": "code",
   "execution_count": null,
   "metadata": {},
   "outputs": [],
   "source": [
    "# read in measure data and update it with new features \n",
    "\n",
    "# remove measures we don't care about (for now)\n",
    "#remove_msrs<-c('Body height','Erythrocyte distribution width [Ratio] by Automated count')\n",
    "keepvars<-c('MEASUREMENT','PERSON_ID','VISIT_OCCURRENCE_ID','MEASUREMENT_DATE','VALUE_AS_NUMBER', 'UNIT')\n",
    "\n",
    "process_data<-function(yr, fn) {\n",
    "    msrs<-load_data(paste0(fn, '_', yr, '.csv'), \"/ehr/\")\n",
    "\n",
    "    # remove measures and columns we don't care about - already done\n",
    "    #msrs<-msrs[!(msrs$MEASUREMENT %in% remove_msrs),keepvars]\n",
    "    \n",
    "    # map in short names\n",
    "    msrs<-merge(msrs, map, by.x='MEASUREMENT', by.y='og')\n",
    "    msrs<-msrs[,!(names(msrs) %in% c('MEASUREMENT','MEASUREMENT_CONCEPT_ID','year'))]\n",
    "    \n",
    "    # rename for coding ease \n",
    "    msrs<- msrs %>% rename(Value = VALUE_AS_NUMBER, Unit = UNIT)\n",
    "    \n",
    "    # remove missing values & defaults?\n",
    "    msrs<-msrs[!is.na(msrs$Value),]\n",
    "    msrs<-msrs[msrs$Value > 0 & msrs$Value < 10000000,]\n",
    "    return(msrs)\n",
    "}"
   ]
  },
  {
   "cell_type": "code",
   "execution_count": null,
   "metadata": {},
   "outputs": [],
   "source": [
    "test<-process_data(2016, 'msrs')"
   ]
  },
  {
   "cell_type": "markdown",
   "metadata": {},
   "source": [
    "## Define \"Clean Values\" function to convert units and remove outliers \n",
    "\n",
    "**Unit Conversions**\n",
    "- AIC: convert to percent\n",
    "    - milligram per deciliter or mg/dL \n",
    "\n",
    "- Glucose: convert to miligram per deciliter\n",
    "    - gram per deciliter\n",
    "\n",
    "- Urea: convert to miligram per deciliter \n",
    "    - millimole per liter \n",
    "\n",
    "- Hemoglobin: convert to gram per deciliter\n",
    "    - gram per liter\n",
    "\n",
    "- Chloride: convert to millimole per liter\n",
    "    - equivalent per liter to \n",
    "\n",
    "**Outliers** \n",
    "\n",
    "Use Z-score to identify outliers\n",
    "\n",
    "Z-score = X-mean(X)/sd(X)\n",
    "\n",
    "If abs(z-score)>3 remove"
   ]
  },
  {
   "cell_type": "code",
   "execution_count": null,
   "metadata": {},
   "outputs": [],
   "source": [
    "units<-test %>% group_by(new, Unit) %>% summarize(mean=mean(Value, na.rm=TRUE),  \n",
    "                                                median=median(Value, na.rm=TRUE),\n",
    "                                            max=max(Value, na.rm=TRUE),\n",
    "                                            min=min(Value, na.rm=TRUE),\n",
    "                                            na=sum(is.na(Value)),\n",
    "                                            n=n())"
   ]
  },
  {
   "cell_type": "code",
   "execution_count": null,
   "metadata": {},
   "outputs": [],
   "source": [
    "# convert common unit problems \n",
    "clean_values<-function(ehr_msrs) {\n",
    "    \n",
    "# do common conversions\n",
    "ehr_msrs$Value<-ifelse(ehr_msrs$new == 'Hemoglobin' \n",
    "                       & ehr_msrs$Unit %in% c('gram per liter','g/L'), ehr_msrs$Value/10, ehr_msrs$Value)\n",
    "\n",
    "# AIC \n",
    "ehr_msrs$Value<-ifelse(ehr_msrs$new == 'A1C' \n",
    "                       & ehr_msrs$Unit %in% c('milligram per deciliter','mg/dL'), \n",
    "                       (ehr_msrs$Value+46.7)/28.7, ehr_msrs$Value)\n",
    "    \n",
    "# remove outliers \n",
    "dist_data<-ehr_msrs %>% group_by(new) %>% summarise(mean=mean(Value), sd=sd(Value))\n",
    "ehr_msrs<-merge(ehr_msrs, dist_data, by='new')\n",
    "ehr_msrs$z_score<-(ehr_msrs$Value - ehr_msrs$mean)/ehr_msrs$sd\n",
    "ehr_msrs$outlier<-ifelse(abs(ehr_msrs$z_score)>3, 1, 0)\n",
    "    \n",
    "\n",
    "ehr_msrs<-ehr_msrs[ehr_msrs$outlier == 0,]\n",
    "    \n",
    "return(ehr_msrs)\n",
    "\n",
    "}"
   ]
  },
  {
   "cell_type": "code",
   "execution_count": null,
   "metadata": {},
   "outputs": [],
   "source": [
    "cleaned<-clean_values(test)"
   ]
  },
  {
   "cell_type": "markdown",
   "metadata": {},
   "source": [
    "## Define \"Collapse\" function to convert to person - visit id - date "
   ]
  },
  {
   "cell_type": "code",
   "execution_count": null,
   "metadata": {},
   "outputs": [],
   "source": [
    "collapse<-function(df) {\n",
    "    \n",
    "    # drop unnecessary vars\n",
    "    dropvars<-c('Value','Unit', 'mean','sd','z_score','outlier','new')\n",
    "    df<-df[,!(names(df) %in% dropvars)]\n",
    "    \n",
    "    # make all missings 0 \n",
    "    df[is.na(df)] <- 0\n",
    "    \n",
    "    # collapse\n",
    "    collapse<- df %>% group_by(PERSON_ID, VISIT_OCCURRENCE_ID, MEASUREMENT_DATE) %>% \n",
    "        summarize(across(everything(), ~ max(.x, na.rm = TRUE)))\n",
    "    \n",
    "    return(collapse)\n",
    "}"
   ]
  },
  {
   "cell_type": "markdown",
   "metadata": {},
   "source": [
    "# Run on each year\n",
    "\n",
    "For each file: \n",
    "- Process data (process_data)\n",
    "- Define features \n",
    "- collapse to person-visit-date\n",
    "\n",
    "Because of size of data do different features:\n",
    "- heart rate\n",
    "- blood pressure\n",
    "- respiratory rate \n",
    "- other measures"
   ]
  },
  {
   "cell_type": "markdown",
   "metadata": {
    "heading_collapsed": true
   },
   "source": [
    "## Heart Rate\n",
    "\n",
    "Define Tachycardia (fast heart rate)"
   ]
  },
  {
   "cell_type": "code",
   "execution_count": null,
   "metadata": {
    "hidden": true
   },
   "outputs": [],
   "source": [
    "options(scipen=999) \n",
    "run_hr_year<-function(yr) {\n",
    "    hr_msrs<-process_data(yr, 'hr')\n",
    "    hr_msrs<-clean_values(hr_msrs)\n",
    "    hr_msrs$tachycardia<-ifelse(hr_msrs$Value > 100, 1, 0)\n",
    "    hr_collapsed<-collapse(hr_msrs)\n",
    "    \n",
    "    write_csv(hr_collapsed, paste0('hr_features_', yr, '.csv'))  \n",
    "}"
   ]
  },
  {
   "cell_type": "code",
   "execution_count": null,
   "metadata": {
    "hidden": true
   },
   "outputs": [],
   "source": [
    "#run_hr_year(2016)\n",
    "#run_hr_year(2017)\n",
    "#run_hr_year(2018)\n",
    "#run_hr_year(2019)\n",
    "#run_hr_year(2020)\n",
    "#run_hr_year(2021)\n",
    "#run_hr_year(2022)\n",
    "run_hr_year(2023)"
   ]
  },
  {
   "cell_type": "markdown",
   "metadata": {
    "heading_collapsed": true
   },
   "source": [
    "## Blood Pressure\n",
    "\n",
    "Define high blood pressure"
   ]
  },
  {
   "cell_type": "code",
   "execution_count": null,
   "metadata": {
    "hidden": true
   },
   "outputs": [],
   "source": [
    "run_bp_year<-function(yr) {\n",
    "    bp_msrs<-process_data(yr, 'hr')\n",
    "    bp_msrs<-clean_values(bp_msrs)\n",
    "    bp_msrs$high_blood_pressure<-ifelse(bp_msrs$Value > 130, 1, ifelse(bp_msrs$Value > 80, 1, 0))\n",
    "    bp_collapsed<-collapse(bp_msrs)\n",
    "    write_csv(bp_collapsed, paste0('bp_features_', yr, '.csv'))  \n",
    "}"
   ]
  },
  {
   "cell_type": "code",
   "execution_count": null,
   "metadata": {
    "hidden": true
   },
   "outputs": [],
   "source": [
    "#run_bp_year(2016)\n",
    "#run_bp_year(2017)\n",
    "#run_bp_year(2018)\n",
    "#run_bp_year(2019)\n",
    "#run_bp_year(2020)\n",
    "#run_bp_year(2021)\n",
    "#run_bp_year(2022)\n",
    "run_bp_year(2023)"
   ]
  },
  {
   "cell_type": "code",
   "execution_count": null,
   "metadata": {
    "hidden": true
   },
   "outputs": [],
   "source": [
    "test<-load_data('bp_features_2023.csv', \"/ehr/\")\n",
    "summary(test$high_blood_pressure)"
   ]
  },
  {
   "cell_type": "markdown",
   "metadata": {
    "heading_collapsed": true
   },
   "source": [
    "## Respiratory Rate\n",
    "\n",
    "Define tachypneic and bradypnea"
   ]
  },
  {
   "cell_type": "code",
   "execution_count": null,
   "metadata": {
    "hidden": true
   },
   "outputs": [],
   "source": [
    "run_rr_year<-function(yr) {\n",
    "    rr_msrs<-process_data(yr, 'rr')\n",
    "    rr_msrs<-clean_values(rr_msrs)\n",
    "    rr_msrs$tachypneic<-ifelse(rr_msrs$Value > 20, 1, 0)\n",
    "    rr_msrs$bradypnea<-ifelse(rr_msrs$Value < 12, 1, 0)\n",
    "    rr_collapsed<-collapse(rr_msrs)\n",
    "    write_csv(rr_collapsed, paste0('rr_features_', yr, '.csv'))  \n",
    "}"
   ]
  },
  {
   "cell_type": "code",
   "execution_count": null,
   "metadata": {
    "hidden": true
   },
   "outputs": [],
   "source": [
    "#run_rr_year(2016)\n",
    "#run_rr_year(2017)\n",
    "#run_rr_year(2018)\n",
    "#run_rr_year(2019)\n",
    "#run_rr_year(2020)\n",
    "#run_rr_year(2021)\n",
    "run_rr_year(2022)\n",
    "run_rr_year(2023)"
   ]
  },
  {
   "cell_type": "code",
   "execution_count": null,
   "metadata": {
    "hidden": true
   },
   "outputs": [],
   "source": [
    "test<-load_data('rr_features_2023.csv', \"/ehr/\")\n",
    "summary(test$tachypneic)\n",
    "summary(test$bradypnea)"
   ]
  },
  {
   "cell_type": "markdown",
   "metadata": {},
   "source": [
    "## Define Other Measures"
   ]
  },
  {
   "cell_type": "code",
   "execution_count": null,
   "metadata": {},
   "outputs": [],
   "source": [
    "define_features<-function(ehr_msrs) {\n",
    "    \n",
    "# obesity\n",
    "ehr_msrs$obesity<-ifelse(ehr_msrs$new == 'BMI' & ehr_msrs$Value >=30, 1, 0)\n",
    "\n",
    "# body weight (raw)\n",
    "ehr_msrs$weight<-ifelse(ehr_msrs$new == 'Weight', ehr_msrs$Value, NA)\n",
    "\n",
    "# fever   \n",
    "#ehr_msrs$fever<-ifelse(ehr_msrs$new == 'Temp' & \n",
    "#                       (ehr_msrs$Value > 100.4 | (ehr_msrs$Value > 38 & ehr_msrs$Value < 50)) , 1, 0)\n",
    "\n",
    "# Triglyceride \n",
    "ehr_msrs$triglyceride_high<-ifelse(ehr_msrs$new == 'Triglyceride' & ehr_msrs$Value >=175, 1, 0) \n",
    "    \n",
    "# Calcium \n",
    "ehr_msrs$hypocalcemia<-ifelse(ehr_msrs$new == 'Calcium' & ehr_msrs$Value < 8.5, 1, 0)\n",
    "ehr_msrs$hypercalcemia<-ifelse(ehr_msrs$new == 'Calcium' & ehr_msrs$Value > 10.5, 1,0)\n",
    "\n",
    "# Chloride (set min/max at 2.75 & 97.5 percentile)\n",
    "ehr_msrs$hypochloremia<-ifelse(ehr_msrs$new == 'Chloride' & ehr_msrs$Value<96,1,0)\n",
    "ehr_msrs$hyperchloremia<-ifelse(ehr_msrs$new == 'Chloride' & ehr_msrs$Value>107, 1,0)\n",
    "\n",
    "# Creatine\n",
    "ehr_msrs$creatine<-ifelse(ehr_msrs$new == 'Creatinine' & ehr_msrs$Value > 1.3, 1, 0)\n",
    "\n",
    "# diabetes hba1c\n",
    "ehr_msrs$prediabetes_hba1c<-ifelse(ehr_msrs$new == 'A1C' & ehr_msrs$Value>=5.7 & ehr_msrs$Value < 6.5, 1, 0)\n",
    "                             \n",
    "ehr_msrs$diabetes_hba1c<-ifelse(ehr_msrs$new == 'A1C' & ehr_msrs$Value >= 6.5, 1, 0 )\n",
    "\n",
    "# diabetes fasting glucose \n",
    "ehr_msrs$prediabetes_gluc_fast<-ifelse(ehr_msrs$new == 'Glucose_Fasting' & ehr_msrs$Value >=100 & ehr_msrs$Value < 126, 1, 0)\n",
    "ehr_msrs$diabetes_gluc_fast<-ifelse(ehr_msrs$new == 'Glucose_Fasting' & ehr_msrs$Value >=126, 1, 0)\n",
    "\n",
    "# diabetes unknown fasting glucose     \n",
    "ehr_msrs$diabetes_gluc_na<-ifelse(ehr_msrs$new == 'Glucose' & ehr_msrs$Value >=200, 1, 0)\n",
    "\n",
    "# hemoglobin\n",
    "ehr_msrs$anemia<-ifelse(ehr_msrs$new == 'Hemoglobin' & ehr_msrs$Value <12, 1, 0)\n",
    "ehr_msrs$high_hemo<-ifelse(ehr_msrs$new == 'Hemoglobin' & ehr_msrs$Value >15, 1, 0)\n",
    "\n",
    "# Oxygen Sat \n",
    "ehr_msrs$hypoxemia<-ifelse(ehr_msrs$new == 'Oxygen' & ehr_msrs$Value < 90, 1,0)\n",
    "\n",
    "# Potassium\n",
    "ehr_msrs$hyperkalemia<-ifelse(ehr_msrs$new == 'Potassium' & ehr_msrs$Value > 5.5, 1,0 )\n",
    "ehr_msrs$hypokalemia<-ifelse(ehr_msrs$new == 'Potassium' & ehr_msrs$Value < 3.5, 1,0)\n",
    "\n",
    "# Sodium \n",
    "ehr_msrs$hypernatremia<-ifelse(ehr_msrs$new == 'Sodium' & ehr_msrs$Value > 145, 1,0)\n",
    "ehr_msrs$hyponatremia<-ifelse(ehr_msrs$new == 'Sodium' & ehr_msrs$Value < 135, 1,0)\n",
    "\n",
    "# Urea\n",
    "ehr_msrs$low_urea<-ifelse(ehr_msrs$new == 'Urea' & ehr_msrs$Value < 8, 1,0)\n",
    "ehr_msrs$high_urea<-ifelse(ehr_msrs$new == 'Urea' & ehr_msrs$Value > 24, 1,0)\n",
    "\n",
    "return(ehr_msrs)\n",
    "}"
   ]
  },
  {
   "cell_type": "code",
   "execution_count": null,
   "metadata": {},
   "outputs": [],
   "source": [
    "run_year<-function(yr) {\n",
    "    ehr_msrs<-process_data(yr, 'msrs')\n",
    "    ehr_msrs<-clean_values(ehr_msrs)\n",
    "    ehr_msrs<-define_features(ehr_msrs)\n",
    "    collapsed<-collapse(ehr_msrs)\n",
    "    write_csv(collapsed, paste0('msrs_features_', yr, '.csv'))  \n",
    "    \n",
    "}"
   ]
  },
  {
   "cell_type": "code",
   "execution_count": null,
   "metadata": {},
   "outputs": [],
   "source": [
    "#run_year(2016)\n",
    "#run_year(2017)\n",
    "#run_year(2018)\n",
    "#run_year(2019)\n",
    "#run_year(2020)\n",
    "run_year(2021)\n",
    "#run_year(2022)\n",
    "#run_year(2023)"
   ]
  },
  {
   "cell_type": "code",
   "execution_count": null,
   "metadata": {},
   "outputs": [],
   "source": [
    "test<-load_data(paste0('msrs_features_2022.csv'), \"/ehr/\")"
   ]
  },
  {
   "cell_type": "code",
   "execution_count": null,
   "metadata": {},
   "outputs": [],
   "source": [
    "names(test)"
   ]
  }
 ],
 "metadata": {
  "kernelspec": {
   "display_name": "R",
   "language": "R",
   "name": "ir"
  },
  "language_info": {
   "codemirror_mode": "r",
   "file_extension": ".r",
   "mimetype": "text/x-r-source",
   "name": "R",
   "pygments_lexer": "r",
   "version": "4.5.0"
  },
  "toc": {
   "base_numbering": 1,
   "nav_menu": {},
   "number_sections": true,
   "sideBar": true,
   "skip_h1_title": false,
   "title_cell": "Table of Contents",
   "title_sidebar": "Contents",
   "toc_cell": false,
   "toc_position": {},
   "toc_section_display": true,
   "toc_window_display": false
  }
 },
 "nbformat": 4,
 "nbformat_minor": 2
}
